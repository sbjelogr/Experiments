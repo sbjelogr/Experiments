{
 "cells": [
  {
   "cell_type": "code",
   "execution_count": 1,
   "metadata": {},
   "outputs": [],
   "source": [
    "%load_ext autoreload\n",
    "%autoreload 2"
   ]
  },
  {
   "cell_type": "code",
   "execution_count": 5,
   "metadata": {},
   "outputs": [],
   "source": [
    "import pandas as pd\n",
    "from xgboost import XGBClassifier\n",
    "import matplotlib.pyplot as plt\n"
   ]
  },
  {
   "cell_type": "code",
   "execution_count": 6,
   "metadata": {},
   "outputs": [],
   "source": [
    "in_df = pd.read_csv(\n",
    "    \"/Users/we56sc/Analytics/DataSets/Default_Of_Credit_Card_Clients/UCI_Credit_Card.csv\"\n",
    ")"
   ]
  },
  {
   "cell_type": "code",
   "execution_count": 411,
   "metadata": {},
   "outputs": [],
   "source": [
    "import datetime as dt\n",
    "def logger(f):\n",
    "    def wrapper(df, *args, **kwargs):\n",
    "        t_in = dt.datetime.now()\n",
    "        out_df = f(df,*args,**kwargs)\n",
    "        t_out = dt.datetime.now()\n",
    "        print(f'Total time: {t_out-t_in}: Resulting shape: {out_df.shape}')\n",
    "        return out_df\n",
    "    return wrapper\n",
    "\n",
    "@logger\n",
    "def start_pipeline(df):\n",
    "    return df.copy()\n",
    "\n",
    "@logger\n",
    "def process_data(df):\n",
    "    return (\n",
    "        df.drop('ID', axis=1)\n",
    "        .drop(['SEX', 'EDUCATION', 'MARRIAGE'], axis=1)\n",
    "        .rename(columns={'PAY_0':'PAY_1'})\n",
    "    )"
   ]
  },
  {
   "cell_type": "code",
   "execution_count": 410,
   "metadata": {},
   "outputs": [
    {
     "name": "stdout",
     "output_type": "stream",
     "text": [
      "Total time: 0:00:00.011540: Resulting shape: (30000, 25)\n",
      "Total time: 0:00:00.011877: Resulting shape: (30000, 21)\n"
     ]
    }
   ],
   "source": [
    "df = (\n",
    "    in_df\n",
    "    .pipe(start_pipeline)\n",
    "    .pipe(process_data)\n",
    ")"
   ]
  },
  {
   "cell_type": "markdown",
   "metadata": {},
   "source": [
    "# Train Test split"
   ]
  },
  {
   "cell_type": "code",
   "execution_count": 19,
   "metadata": {},
   "outputs": [],
   "source": [
    "from sklearn.model_selection import train_test_split"
   ]
  },
  {
   "cell_type": "code",
   "execution_count": 20,
   "metadata": {},
   "outputs": [],
   "source": [
    "X_train, X_test, y_train, y_test = train_test_split(\n",
    " df.drop('default.payment.next.month', axis=1), \n",
    " df['default.payment.next.month'], \n",
    " test_size=0.33, random_state=42\n",
    ")\n"
   ]
  },
  {
   "cell_type": "code",
   "execution_count": 22,
   "metadata": {},
   "outputs": [],
   "source": [
    "evallist = [(dtest, 'eval'), (dtrain, 'train')]\n",
    "eval_set = [\n",
    "    (X_train, y_train),\n",
    "    (X_test, y_test)   \n",
    "]"
   ]
  },
  {
   "cell_type": "markdown",
   "metadata": {},
   "source": [
    "# Train first xgb"
   ]
  },
  {
   "cell_type": "code",
   "execution_count": 71,
   "metadata": {},
   "outputs": [],
   "source": [
    "def train_sequential_models(*models):\n",
    "    \n",
    "    results_seq = list()\n",
    "    total_estimators = 0\n",
    "    \n",
    "    for ix,model in enumerate(models):\n",
    "    \n",
    "        total_estimators += model.n_estimators\n",
    "        \n",
    "        if ix==0: \n",
    "            init_params = model.get_params()\n",
    "            bst = model.fit(\n",
    "                X_train, y_train,\n",
    "                eval_set = eval_set,\n",
    "                eval_metric=['auc','logloss'],\n",
    "                verbose=False\n",
    "            )\n",
    "        else:\n",
    "            bst = model.fit(\n",
    "                X_train, y_train,\n",
    "                eval_set = eval_set,\n",
    "                eval_metric=['auc','logloss'],\n",
    "                verbose=False,\n",
    "                xgb_model=f'model_{ix}'\n",
    "            )\n",
    "            \n",
    "        bst.save_model(f'model_{ix+1}')\n",
    "        result = model.evals_result()\n",
    "        results_seq.append(result)\n",
    "        \n",
    "        \n",
    "    # test\n",
    "    init_params['n_estimators'] = total_estimators\n",
    "    start_xgb = XGBClassifier(**init_params)\n",
    "    start_xgb.fit(\n",
    "                X_train, y_train,\n",
    "                eval_set = eval_set,\n",
    "                eval_metric=['auc','logloss'],\n",
    "                verbose=False\n",
    "    )\n",
    "    results_init = start_xgb.evals_result()\n",
    "        \n",
    "    return results_seq, results_init, bst, start_xgb\n"
   ]
  },
  {
   "cell_type": "code",
   "execution_count": 127,
   "metadata": {},
   "outputs": [
    {
     "data": {
      "text/plain": [
       "XGBClassifier(base_score=None, booster=None, colsample_bylevel=None,\n",
       "              colsample_bynode=None, colsample_bytree=None, gamma=None,\n",
       "              gpu_id=None, importance_type='gain', interaction_constraints=None,\n",
       "              learning_rate=None, max_delta_step=None, max_depth=None,\n",
       "              min_child_weight=None, missing=nan, monotone_constraints=None,\n",
       "              n_estimators=100, n_jobs=None, num_parallel_tree=None,\n",
       "              objective='binary:logistic', random_state=None, reg_alpha=None,\n",
       "              reg_lambda=None, scale_pos_weight=None, subsample=None,\n",
       "              tree_method=None, validate_parameters=False, verbosity=None)"
      ]
     },
     "execution_count": 127,
     "metadata": {},
     "output_type": "execute_result"
    }
   ],
   "source": [
    "XGBClassifier()"
   ]
  },
  {
   "cell_type": "code",
   "execution_count": 315,
   "metadata": {},
   "outputs": [],
   "source": [
    "from xgboost import plot_tree"
   ]
  },
  {
   "cell_type": "code",
   "execution_count": 327,
   "metadata": {},
   "outputs": [],
   "source": [
    "list_models = [\n",
    "    XGBClassifier(n_estimators=200, learning_rate = 0.3, max_depth=3, reg_lambda =1),\n",
    "    XGBClassifier(n_estimators=200, learning_rate = 0.3, max_depth=3, reg_lambda =500),\n",
    "    XGBClassifier(n_estimators=200, learning_rate = 0.3, max_depth=3, reg_lambda =1),\n",
    "]"
   ]
  },
  {
   "cell_type": "code",
   "execution_count": 328,
   "metadata": {},
   "outputs": [],
   "source": [
    "results_seq, results_init, model_seq, model_init = train_sequential_models(*list_models)"
   ]
  },
  {
   "cell_type": "code",
   "execution_count": 329,
   "metadata": {},
   "outputs": [
    {
     "data": {
      "text/plain": [
       "XGBClassifier(base_score=0.5, booster=None, colsample_bylevel=1,\n",
       "              colsample_bynode=1, colsample_bytree=1, gamma=0, gpu_id=-1,\n",
       "              importance_type='gain', interaction_constraints=None,\n",
       "              learning_rate=0.3, max_delta_step=0, max_depth=3,\n",
       "              min_child_weight=1, missing=nan, monotone_constraints=None,\n",
       "              n_estimators=600, n_jobs=0, num_parallel_tree=1,\n",
       "              objective='binary:logistic', random_state=0, reg_alpha=0,\n",
       "              reg_lambda=1, scale_pos_weight=1, subsample=1, tree_method=None,\n",
       "              validate_parameters=False, verbosity=None)"
      ]
     },
     "execution_count": 329,
     "metadata": {},
     "output_type": "execute_result"
    }
   ],
   "source": [
    "model_init"
   ]
  },
  {
   "cell_type": "code",
   "execution_count": 349,
   "metadata": {},
   "outputs": [],
   "source": [
    "trees = (\n",
    "    model_init\n",
    "    .get_booster()\n",
    "    .trees_to_dataframe()\n",
    ")"
   ]
  },
  {
   "cell_type": "code",
   "execution_count": 406,
   "metadata": {},
   "outputs": [
    {
     "data": {
      "text/plain": [
       "<matplotlib.axes._subplots.AxesSubplot at 0x7fe9e2ea8a20>"
      ]
     },
     "execution_count": 406,
     "metadata": {},
     "output_type": "execute_result"
    },
    {
     "data": {
      "image/png": "[encoded data removed]",
      "text/plain": [
       "<Figure size 432x288 with 1 Axes>"
      ]
     },
     "metadata": {
      "needs_background": "light"
     },
     "output_type": "display_data"
    }
   ],
   "source": [
    "trees[trees.Feature=='LIMIT_BAL']['Split'].hist()"
   ]
  },
  {
   "cell_type": "code",
   "execution_count": 392,
   "metadata": {},
   "outputs": [],
   "source": [
    "tree_pred =  pd.DataFrame(model_init.apply(X_test), columns = [f'tree_{i+1}' for i in range(model_init.n_estimators)])\n",
    "\n"
   ]
  },
  {
   "cell_type": "code",
   "execution_count": 400,
   "metadata": {},
   "outputs": [
    {
     "data": {
      "text/plain": [
       "8     4600\n",
       "7     2637\n",
       "12     993\n",
       "13     589\n",
       "14     422\n",
       "9      282\n",
       "11     253\n",
       "10     124\n",
       "Name: tree_3, dtype: int64"
      ]
     },
     "execution_count": 400,
     "metadata": {},
     "output_type": "execute_result"
    }
   ],
   "source": [
    "tree_pred['tree_3'].value_counts()"
   ]
  },
  {
   "cell_type": "code",
   "execution_count": 396,
   "metadata": {},
   "outputs": [
    {
     "data": {
      "text/plain": [
       "[<matplotlib.lines.Line2D at 0x7fe9e2ef8f28>]"
      ]
     },
     "execution_count": 396,
     "metadata": {},
     "output_type": "execute_result"
    },
    {
     "data": {
      "image/png": "[encoded data removed]",
      "text/plain": [
       "<Figure size 432x288 with 1 Axes>"
      ]
     },
     "metadata": {
      "needs_background": "light"
     },
     "output_type": "display_data"
    }
   ],
   "source": [
    "first_inst_pred = [\n",
    "    model_init.predict_proba(X_test,ntree_limit=i_tree+1)[:,1][10]\n",
    "    for i_tree in range(model_init.n_estimators)\n",
    "]\n",
    "plt.plot(first_inst_pred)"
   ]
  },
  {
   "cell_type": "code",
   "execution_count": null,
   "metadata": {},
   "outputs": [],
   "source": []
  },
  {
   "cell_type": "code",
   "execution_count": null,
   "metadata": {},
   "outputs": [],
   "source": []
  },
  {
   "cell_type": "code",
   "execution_count": 398,
   "metadata": {},
   "outputs": [
    {
     "data": {
      "text/plain": [
       "2308     0\n",
       "22404    0\n",
       "23397    0\n",
       "25058    0\n",
       "2664     1\n",
       "8511     0\n",
       "5148     1\n",
       "7790     0\n",
       "11311    0\n",
       "19043    0\n",
       "10784    0\n",
       "Name: default.payment.next.month, dtype: int64"
      ]
     },
     "execution_count": 398,
     "metadata": {},
     "output_type": "execute_result"
    }
   ],
   "source": [
    "y_test.head(11)"
   ]
  },
  {
   "cell_type": "code",
   "execution_count": 378,
   "metadata": {},
   "outputs": [
    {
     "data": {
      "text/plain": [
       "[<matplotlib.lines.Line2D at 0x7fe9e29f7630>]"
      ]
     },
     "execution_count": 378,
     "metadata": {},
     "output_type": "execute_result"
    },
    {
     "data": {
      "image/png": "[encoded data removed]",
      "text/plain": [
       "<Figure size 432x288 with 1 Axes>"
      ]
     },
     "metadata": {
      "needs_background": "light"
     },
     "output_type": "display_data"
    }
   ],
   "source": []
  },
  {
   "cell_type": "code",
   "execution_count": 360,
   "metadata": {},
   "outputs": [
    {
     "data": {
      "text/html": [
       "<div>\n",
       "<style scoped>\n",
       "    .dataframe tbody tr th:only-of-type {\n",
       "        vertical-align: middle;\n",
       "    }\n",
       "\n",
       "    .dataframe tbody tr th {\n",
       "        vertical-align: top;\n",
       "    }\n",
       "\n",
       "    .dataframe thead th {\n",
       "        text-align: right;\n",
       "    }\n",
       "</style>\n",
       "<table border=\"1\" class=\"dataframe\">\n",
       "  <thead>\n",
       "    <tr style=\"text-align: right;\">\n",
       "      <th></th>\n",
       "      <th>Tree</th>\n",
       "      <th>Node</th>\n",
       "      <th>ID</th>\n",
       "      <th>Feature</th>\n",
       "      <th>Split</th>\n",
       "      <th>Yes</th>\n",
       "      <th>No</th>\n",
       "      <th>Missing</th>\n",
       "      <th>Gain</th>\n",
       "      <th>Cover</th>\n",
       "    </tr>\n",
       "  </thead>\n",
       "  <tbody>\n",
       "    <tr>\n",
       "      <th>0</th>\n",
       "      <td>0</td>\n",
       "      <td>0</td>\n",
       "      <td>0-0</td>\n",
       "      <td>PAY_1</td>\n",
       "      <td>2.0</td>\n",
       "      <td>0-1</td>\n",
       "      <td>0-2</td>\n",
       "      <td>0-1</td>\n",
       "      <td>2125.537600</td>\n",
       "      <td>5025.00</td>\n",
       "    </tr>\n",
       "    <tr>\n",
       "      <th>1</th>\n",
       "      <td>0</td>\n",
       "      <td>1</td>\n",
       "      <td>0-1</td>\n",
       "      <td>PAY_2</td>\n",
       "      <td>2.0</td>\n",
       "      <td>0-3</td>\n",
       "      <td>0-4</td>\n",
       "      <td>0-3</td>\n",
       "      <td>433.202637</td>\n",
       "      <td>4495.25</td>\n",
       "    </tr>\n",
       "    <tr>\n",
       "      <th>2</th>\n",
       "      <td>0</td>\n",
       "      <td>2</td>\n",
       "      <td>0-2</td>\n",
       "      <td>PAY_3</td>\n",
       "      <td>0.0</td>\n",
       "      <td>0-5</td>\n",
       "      <td>0-6</td>\n",
       "      <td>0-5</td>\n",
       "      <td>37.068359</td>\n",
       "      <td>529.75</td>\n",
       "    </tr>\n",
       "    <tr>\n",
       "      <th>3</th>\n",
       "      <td>0</td>\n",
       "      <td>3</td>\n",
       "      <td>0-3</td>\n",
       "      <td>PAY_AMT3</td>\n",
       "      <td>573.5</td>\n",
       "      <td>0-7</td>\n",
       "      <td>0-8</td>\n",
       "      <td>0-7</td>\n",
       "      <td>133.999023</td>\n",
       "      <td>4116.25</td>\n",
       "    </tr>\n",
       "    <tr>\n",
       "      <th>4</th>\n",
       "      <td>0</td>\n",
       "      <td>4</td>\n",
       "      <td>0-4</td>\n",
       "      <td>PAY_3</td>\n",
       "      <td>1.0</td>\n",
       "      <td>0-9</td>\n",
       "      <td>0-10</td>\n",
       "      <td>0-9</td>\n",
       "      <td>29.467129</td>\n",
       "      <td>379.00</td>\n",
       "    </tr>\n",
       "    <tr>\n",
       "      <th>5</th>\n",
       "      <td>0</td>\n",
       "      <td>5</td>\n",
       "      <td>0-5</td>\n",
       "      <td>BILL_AMT1</td>\n",
       "      <td>2325.0</td>\n",
       "      <td>0-11</td>\n",
       "      <td>0-12</td>\n",
       "      <td>0-11</td>\n",
       "      <td>12.212393</td>\n",
       "      <td>33.00</td>\n",
       "    </tr>\n",
       "    <tr>\n",
       "      <th>6</th>\n",
       "      <td>0</td>\n",
       "      <td>6</td>\n",
       "      <td>0-6</td>\n",
       "      <td>PAY_5</td>\n",
       "      <td>1.0</td>\n",
       "      <td>0-13</td>\n",
       "      <td>0-14</td>\n",
       "      <td>0-13</td>\n",
       "      <td>21.398834</td>\n",
       "      <td>496.75</td>\n",
       "    </tr>\n",
       "    <tr>\n",
       "      <th>7</th>\n",
       "      <td>0</td>\n",
       "      <td>7</td>\n",
       "      <td>0-7</td>\n",
       "      <td>Leaf</td>\n",
       "      <td>NaN</td>\n",
       "      <td>NaN</td>\n",
       "      <td>NaN</td>\n",
       "      <td>NaN</td>\n",
       "      <td>-0.336994</td>\n",
       "      <td>1091.75</td>\n",
       "    </tr>\n",
       "    <tr>\n",
       "      <th>8</th>\n",
       "      <td>0</td>\n",
       "      <td>8</td>\n",
       "      <td>0-8</td>\n",
       "      <td>Leaf</td>\n",
       "      <td>NaN</td>\n",
       "      <td>NaN</td>\n",
       "      <td>NaN</td>\n",
       "      <td>NaN</td>\n",
       "      <td>-0.460486</td>\n",
       "      <td>3024.50</td>\n",
       "    </tr>\n",
       "    <tr>\n",
       "      <th>9</th>\n",
       "      <td>0</td>\n",
       "      <td>9</td>\n",
       "      <td>0-9</td>\n",
       "      <td>Leaf</td>\n",
       "      <td>NaN</td>\n",
       "      <td>NaN</td>\n",
       "      <td>NaN</td>\n",
       "      <td>NaN</td>\n",
       "      <td>-0.180083</td>\n",
       "      <td>179.75</td>\n",
       "    </tr>\n",
       "    <tr>\n",
       "      <th>10</th>\n",
       "      <td>0</td>\n",
       "      <td>10</td>\n",
       "      <td>0-10</td>\n",
       "      <td>Leaf</td>\n",
       "      <td>NaN</td>\n",
       "      <td>NaN</td>\n",
       "      <td>NaN</td>\n",
       "      <td>NaN</td>\n",
       "      <td>-0.012734</td>\n",
       "      <td>199.25</td>\n",
       "    </tr>\n",
       "    <tr>\n",
       "      <th>11</th>\n",
       "      <td>0</td>\n",
       "      <td>11</td>\n",
       "      <td>0-11</td>\n",
       "      <td>Leaf</td>\n",
       "      <td>NaN</td>\n",
       "      <td>NaN</td>\n",
       "      <td>NaN</td>\n",
       "      <td>NaN</td>\n",
       "      <td>-0.209302</td>\n",
       "      <td>20.50</td>\n",
       "    </tr>\n",
       "    <tr>\n",
       "      <th>12</th>\n",
       "      <td>0</td>\n",
       "      <td>12</td>\n",
       "      <td>0-12</td>\n",
       "      <td>Leaf</td>\n",
       "      <td>NaN</td>\n",
       "      <td>NaN</td>\n",
       "      <td>NaN</td>\n",
       "      <td>NaN</td>\n",
       "      <td>0.155556</td>\n",
       "      <td>12.50</td>\n",
       "    </tr>\n",
       "    <tr>\n",
       "      <th>13</th>\n",
       "      <td>0</td>\n",
       "      <td>13</td>\n",
       "      <td>0-13</td>\n",
       "      <td>Leaf</td>\n",
       "      <td>NaN</td>\n",
       "      <td>NaN</td>\n",
       "      <td>NaN</td>\n",
       "      <td>NaN</td>\n",
       "      <td>0.198919</td>\n",
       "      <td>276.50</td>\n",
       "    </tr>\n",
       "    <tr>\n",
       "      <th>14</th>\n",
       "      <td>0</td>\n",
       "      <td>14</td>\n",
       "      <td>0-14</td>\n",
       "      <td>Leaf</td>\n",
       "      <td>NaN</td>\n",
       "      <td>NaN</td>\n",
       "      <td>NaN</td>\n",
       "      <td>NaN</td>\n",
       "      <td>0.326102</td>\n",
       "      <td>220.25</td>\n",
       "    </tr>\n",
       "  </tbody>\n",
       "</table>\n",
       "</div>"
      ],
      "text/plain": [
       "    Tree  Node    ID    Feature   Split   Yes    No Missing         Gain  \\\n",
       "0      0     0   0-0      PAY_1     2.0   0-1   0-2     0-1  2125.537600   \n",
       "1      0     1   0-1      PAY_2     2.0   0-3   0-4     0-3   433.202637   \n",
       "2      0     2   0-2      PAY_3     0.0   0-5   0-6     0-5    37.068359   \n",
       "3      0     3   0-3   PAY_AMT3   573.5   0-7   0-8     0-7   133.999023   \n",
       "4      0     4   0-4      PAY_3     1.0   0-9  0-10     0-9    29.467129   \n",
       "5      0     5   0-5  BILL_AMT1  2325.0  0-11  0-12    0-11    12.212393   \n",
       "6      0     6   0-6      PAY_5     1.0  0-13  0-14    0-13    21.398834   \n",
       "7      0     7   0-7       Leaf     NaN   NaN   NaN     NaN    -0.336994   \n",
       "8      0     8   0-8       Leaf     NaN   NaN   NaN     NaN    -0.460486   \n",
       "9      0     9   0-9       Leaf     NaN   NaN   NaN     NaN    -0.180083   \n",
       "10     0    10  0-10       Leaf     NaN   NaN   NaN     NaN    -0.012734   \n",
       "11     0    11  0-11       Leaf     NaN   NaN   NaN     NaN    -0.209302   \n",
       "12     0    12  0-12       Leaf     NaN   NaN   NaN     NaN     0.155556   \n",
       "13     0    13  0-13       Leaf     NaN   NaN   NaN     NaN     0.198919   \n",
       "14     0    14  0-14       Leaf     NaN   NaN   NaN     NaN     0.326102   \n",
       "\n",
       "      Cover  \n",
       "0   5025.00  \n",
       "1   4495.25  \n",
       "2    529.75  \n",
       "3   4116.25  \n",
       "4    379.00  \n",
       "5     33.00  \n",
       "6    496.75  \n",
       "7   1091.75  \n",
       "8   3024.50  \n",
       "9    179.75  \n",
       "10   199.25  \n",
       "11    20.50  \n",
       "12    12.50  \n",
       "13   276.50  \n",
       "14   220.25  "
      ]
     },
     "execution_count": 360,
     "metadata": {},
     "output_type": "execute_result"
    }
   ],
   "source": [
    "trees[trees.Tree==0]"
   ]
  },
  {
   "cell_type": "code",
   "execution_count": 345,
   "metadata": {},
   "outputs": [
    {
     "data": {
      "text/plain": [
       "<matplotlib.axes._subplots.AxesSubplot at 0x7fea14073898>"
      ]
     },
     "execution_count": 345,
     "metadata": {},
     "output_type": "execute_result"
    },
    {
     "data": {
      "image/png": "[encoded data removed]",
      "text/plain": [
       "<Figure size 1440x1440 with 1 Axes>"
      ]
     },
     "metadata": {
      "needs_background": "light"
     },
     "output_type": "display_data"
    }
   ],
   "source": [
    "# \n",
    "\n",
    "fig, ax = plt.subplots(figsize =(20,20))\n",
    "plot_tree(model_init,num_trees=0, rankdir='TB', ax = ax)"
   ]
  },
  {
   "cell_type": "code",
   "execution_count": 313,
   "metadata": {},
   "outputs": [
    {
     "data": {
      "text/plain": [
       "<matplotlib.axes._subplots.AxesSubplot at 0x7fea0ea12390>"
      ]
     },
     "execution_count": 313,
     "metadata": {},
     "output_type": "execute_result"
    },
    {
     "data": {
      "image/png": "[encoded data removed]",
      "text/plain": [
       "<Figure size 432x288 with 1 Axes>"
      ]
     },
     "metadata": {
      "needs_background": "light"
     },
     "output_type": "display_data"
    }
   ],
   "source": [
    "pd.Series(model_init.apply(X_test)[1]).hist()"
   ]
  },
  {
   "cell_type": "markdown",
   "metadata": {},
   "source": [
    "### Map to df"
   ]
  },
  {
   "cell_type": "code",
   "execution_count": 177,
   "metadata": {},
   "outputs": [],
   "source": [
    "def map_results(results, index=1):\n",
    "    df_train = pd.DataFrame(results['validation_0'])\n",
    "    df_train.columns = [f'{col}_train' for col in df_train.columns]\n",
    "\n",
    "    df_test = pd.DataFrame(results['validation_1'])\n",
    "    df_test.columns = [f'{col}_test' for col in df_test.columns]\n",
    "\n",
    "    df = pd.concat([df_train,df_test], axis=1)\n",
    "    \n",
    "    df.loc[:,'training_index'] = index\n",
    "    \n",
    "    return df"
   ]
  },
  {
   "cell_type": "code",
   "execution_count": 178,
   "metadata": {},
   "outputs": [],
   "source": [
    "init_results = map_results(results_init, 1)\n",
    "seq_results = (\n",
    "    pd.concat([map_results(result_seq, ix+1) for ix, result_seq in enumerate(results_seq)])\n",
    "    .reset_index()\n",
    "    .drop('index', axis=1)\n",
    ")"
   ]
  },
  {
   "cell_type": "code",
   "execution_count": 179,
   "metadata": {},
   "outputs": [
    {
     "data": {
      "text/html": [
       "<div>\n",
       "<style scoped>\n",
       "    .dataframe tbody tr th:only-of-type {\n",
       "        vertical-align: middle;\n",
       "    }\n",
       "\n",
       "    .dataframe tbody tr th {\n",
       "        vertical-align: top;\n",
       "    }\n",
       "\n",
       "    .dataframe thead th {\n",
       "        text-align: right;\n",
       "    }\n",
       "</style>\n",
       "<table border=\"1\" class=\"dataframe\">\n",
       "  <thead>\n",
       "    <tr style=\"text-align: right;\">\n",
       "      <th></th>\n",
       "      <th>auc_train</th>\n",
       "      <th>logloss_train</th>\n",
       "      <th>auc_test</th>\n",
       "      <th>logloss_test</th>\n",
       "      <th>training_index</th>\n",
       "    </tr>\n",
       "  </thead>\n",
       "  <tbody>\n",
       "    <tr>\n",
       "      <th>597</th>\n",
       "      <td>0.795514</td>\n",
       "      <td>0.420771</td>\n",
       "      <td>0.777799</td>\n",
       "      <td>0.428387</td>\n",
       "      <td>1</td>\n",
       "    </tr>\n",
       "    <tr>\n",
       "      <th>598</th>\n",
       "      <td>0.795552</td>\n",
       "      <td>0.420741</td>\n",
       "      <td>0.777799</td>\n",
       "      <td>0.428392</td>\n",
       "      <td>1</td>\n",
       "    </tr>\n",
       "    <tr>\n",
       "      <th>599</th>\n",
       "      <td>0.795601</td>\n",
       "      <td>0.420709</td>\n",
       "      <td>0.777801</td>\n",
       "      <td>0.428381</td>\n",
       "      <td>1</td>\n",
       "    </tr>\n",
       "  </tbody>\n",
       "</table>\n",
       "</div>"
      ],
      "text/plain": [
       "     auc_train  logloss_train  auc_test  logloss_test  training_index\n",
       "597   0.795514       0.420771  0.777799      0.428387               1\n",
       "598   0.795552       0.420741  0.777799      0.428392               1\n",
       "599   0.795601       0.420709  0.777801      0.428381               1"
      ]
     },
     "execution_count": 179,
     "metadata": {},
     "output_type": "execute_result"
    }
   ],
   "source": [
    "init_results.tail(3)"
   ]
  },
  {
   "cell_type": "code",
   "execution_count": 180,
   "metadata": {},
   "outputs": [
    {
     "data": {
      "text/html": [
       "<div>\n",
       "<style scoped>\n",
       "    .dataframe tbody tr th:only-of-type {\n",
       "        vertical-align: middle;\n",
       "    }\n",
       "\n",
       "    .dataframe tbody tr th {\n",
       "        vertical-align: top;\n",
       "    }\n",
       "\n",
       "    .dataframe thead th {\n",
       "        text-align: right;\n",
       "    }\n",
       "</style>\n",
       "<table border=\"1\" class=\"dataframe\">\n",
       "  <thead>\n",
       "    <tr style=\"text-align: right;\">\n",
       "      <th></th>\n",
       "      <th>auc_train</th>\n",
       "      <th>logloss_train</th>\n",
       "      <th>auc_test</th>\n",
       "      <th>logloss_test</th>\n",
       "      <th>training_index</th>\n",
       "    </tr>\n",
       "  </thead>\n",
       "  <tbody>\n",
       "    <tr>\n",
       "      <th>597</th>\n",
       "      <td>0.792119</td>\n",
       "      <td>0.423449</td>\n",
       "      <td>0.776791</td>\n",
       "      <td>0.428931</td>\n",
       "      <td>3</td>\n",
       "    </tr>\n",
       "    <tr>\n",
       "      <th>598</th>\n",
       "      <td>0.792145</td>\n",
       "      <td>0.423428</td>\n",
       "      <td>0.776805</td>\n",
       "      <td>0.428921</td>\n",
       "      <td>3</td>\n",
       "    </tr>\n",
       "    <tr>\n",
       "      <th>599</th>\n",
       "      <td>0.792169</td>\n",
       "      <td>0.423407</td>\n",
       "      <td>0.776820</td>\n",
       "      <td>0.428910</td>\n",
       "      <td>3</td>\n",
       "    </tr>\n",
       "  </tbody>\n",
       "</table>\n",
       "</div>"
      ],
      "text/plain": [
       "     auc_train  logloss_train  auc_test  logloss_test  training_index\n",
       "597   0.792119       0.423449  0.776791      0.428931               3\n",
       "598   0.792145       0.423428  0.776805      0.428921               3\n",
       "599   0.792169       0.423407  0.776820      0.428910               3"
      ]
     },
     "execution_count": 180,
     "metadata": {},
     "output_type": "execute_result"
    }
   ],
   "source": [
    "seq_results.tail(3)"
   ]
  },
  {
   "cell_type": "markdown",
   "metadata": {},
   "source": [
    "# Plotting"
   ]
  },
  {
   "cell_type": "code",
   "execution_count": 181,
   "metadata": {},
   "outputs": [],
   "source": [
    "def plot(results_df, ax = None, start = 0):\n",
    "    epochs = results_df.shape[0]\n",
    "    \n",
    "    x_axis = range(0, epochs)\n",
    "    # plot log loss\n",
    "    fig, ax = plt.subplots()\n",
    "    ax.plot(x_axis[start:], results_df['logloss_train'].values[start:], label='Train', color='darkgreen')\n",
    "    ax.plot(x_axis[start:], results_df['logloss_test'].values[start:], label='Test', color='darkorange')\n",
    "    ax.legend()\n",
    "    plt.ylabel('Log Loss')\n",
    "    plt.title('XGBoost Log Loss')\n",
    "    plt.show()\n",
    "    # plot classification error\n",
    "    fig, ax = plt.subplots()\n",
    "    ax.plot(x_axis[start:], results_df['auc_train'].values[start:], label='Train', color='darkgreen')\n",
    "    ax.plot(x_axis[start:], results_df['auc_test'].values[start:], label='Test',  color='darkorange')\n",
    "    ax.legend()\n",
    "    plt.ylabel('AUC')\n",
    "    plt.title('XGBoost AUC')\n",
    "    plt.show()\n",
    "    \n",
    "def plo\n",
    "    \n"
   ]
  },
  {
   "cell_type": "code",
   "execution_count": 182,
   "metadata": {},
   "outputs": [
    {
     "data": {
      "image/png": "[encoded data removed]",
      "text/plain": [
       "<Figure size 432x288 with 1 Axes>"
      ]
     },
     "metadata": {
      "needs_background": "light"
     },
     "output_type": "display_data"
    },
    {
     "data": {
      "image/png": "[encoded data removed]",
      "text/plain": [
       "<Figure size 432x288 with 1 Axes>"
      ]
     },
     "metadata": {
      "needs_background": "light"
     },
     "output_type": "display_data"
    }
   ],
   "source": [
    "plot(seq_results, start=150)"
   ]
  },
  {
   "cell_type": "markdown",
   "metadata": {},
   "source": [
    "### Test one XGBoost"
   ]
  },
  {
   "cell_type": "code",
   "execution_count": 274,
   "metadata": {},
   "outputs": [],
   "source": [
    "weight = 1\n",
    "margin=0\n",
    "base_weight = y_train - 0.5*y_train* weight\n",
    "base_margin = y_train* margin"
   ]
  },
  {
   "cell_type": "code",
   "execution_count": 280,
   "metadata": {},
   "outputs": [],
   "source": [
    "y_train\n",
    "base_weight = pd.Series(\n",
    "    [1 for _ in range(y_train.shape[0])], index = y_train.index\n",
    ")"
   ]
  },
  {
   "cell_type": "code",
   "execution_count": 299,
   "metadata": {},
   "outputs": [],
   "source": [
    "base_weight[y_train==0]=1\n",
    "base_weight[y_train==1]=10"
   ]
  },
  {
   "cell_type": "code",
   "execution_count": 300,
   "metadata": {},
   "outputs": [
    {
     "data": {
      "text/plain": [
       "16831    10\n",
       "4222      1\n",
       "8736     10\n",
       "27880     1\n",
       "29290    10\n",
       "         ..\n",
       "29802     1\n",
       "5390     10\n",
       "860       1\n",
       "15795    10\n",
       "23654    10\n",
       "Length: 20100, dtype: int64"
      ]
     },
     "execution_count": 300,
     "metadata": {},
     "output_type": "execute_result"
    }
   ],
   "source": [
    "base_weight"
   ]
  },
  {
   "cell_type": "code",
   "execution_count": 301,
   "metadata": {},
   "outputs": [
    {
     "data": {
      "text/plain": [
       "XGBClassifier(base_score=0.5, booster=None, colsample_bylevel=1,\n",
       "              colsample_bynode=1, colsample_bytree=1, gamma=0, gpu_id=-1,\n",
       "              importance_type='gain', interaction_constraints=None,\n",
       "              learning_rate=0.01, max_delta_step=0, max_depth=3,\n",
       "              min_child_weight=1, missing=nan, monotone_constraints=None,\n",
       "              n_estimators=200, n_jobs=0, num_parallel_tree=1,\n",
       "              objective='binary:logistic', random_state=0, reg_alpha=0,\n",
       "              reg_lambda=0, scale_pos_weight=1, subsample=1, tree_method=None,\n",
       "              validate_parameters=False, verbosity=None)"
      ]
     },
     "execution_count": 301,
     "metadata": {},
     "output_type": "execute_result"
    }
   ],
   "source": [
    "xgb_model1 = XGBClassifier(n_estimators=200, learning_rate = 0.01, max_depth=3, reg_lambda =0, base_score=0.5)\n",
    "xgb_model1.fit(X_train,y_train, sample_weight = base_weight)\n",
    "\n",
    "xgb_model2 = XGBClassifier(n_estimators=200, learning_rate = 0.01, max_depth=3, reg_lambda =0,  base_score=0.5)\n",
    "xgb_model2.fit(X_train,y_train)"
   ]
  },
  {
   "cell_type": "code",
   "execution_count": 302,
   "metadata": {},
   "outputs": [],
   "source": [
    "proba_train_1 = xgb_model1.predict_proba(X_train)[:,1]\n",
    "proba_test_1 = xgb_model1.predict_proba(X_test)[:,1]\n",
    "\n",
    "proba_train_2 = xgb_model2.predict_proba(X_train)[:,1]\n",
    "proba_test_2 = xgb_model2.predict_proba(X_test)[:,1]"
   ]
  },
  {
   "cell_type": "code",
   "execution_count": 303,
   "metadata": {},
   "outputs": [],
   "source": [
    "from sklearn.metrics import roc_curve, precision_recall_curve, auc\n",
    "import numpy as np"
   ]
  },
  {
   "cell_type": "code",
   "execution_count": 304,
   "metadata": {},
   "outputs": [],
   "source": [
    "def plot_metrics(y_true, y_pred, ax = None, label = 'label', color='red'):\n",
    "    \n",
    "    if ax is None:\n",
    "        fig, ax = plt.subplots(1,2,figsize=(16,8))\n",
    "   \n",
    "    fpr, tpr, _ = roc_curve(y_true,y_pred)\n",
    "    roc_auc = np.round(auc(fpr, tpr),3)\n",
    "    \n",
    "    plt.figure()\n",
    "    lw = 2\n",
    "    ax[0].plot(fpr, tpr, color=color,\n",
    "         lw=lw, label=f'{label} AUC: {roc_auc}')\n",
    "    ax[0].plot([0, 1], [0, 1], color='navy', lw=lw, linestyle='--')\n",
    "    ax[0].set_xlim([0.0, 1.0])\n",
    "    ax[0].set_ylim([0.0, 1.05])\n",
    "    ax[0].set_xlabel('False Positive Rate')\n",
    "    ax[0].set_ylabel('True Positive Rate')\n",
    "    ax[0].set_title('Receiver operating characteristic example')\n",
    "    ax[0].legend(loc=\"lower right\")\n",
    "    \n",
    "    pr, rec, _ = precision_recall_curve(y_true,y_pred)\n",
    "    \n",
    "    plt.figure()\n",
    "    lw = 2\n",
    "    ax[1].plot(pr, rec, color=color,\n",
    "         lw=lw, label=f'{label}')\n",
    "    #ax[1].plot([0, 1], [0, 1], color='navy', lw=lw, linestyle='--')\n",
    "    ax[1].set_xlim([0.0, 1.0])\n",
    "    ax[1].set_ylim([0.0, 1.05])\n",
    "    ax[1].set_xlabel('Precision')\n",
    "    ax[1].set_ylabel('Recall')\n",
    "    ax[1].set_title('Precision recall')\n",
    "    ax[1].legend(loc=\"best\")\n",
    "    \n",
    "    return None"
   ]
  },
  {
   "cell_type": "code",
   "execution_count": 305,
   "metadata": {},
   "outputs": [
    {
     "data": {
      "image/png": "[encoded data removed]",
      "text/plain": [
       "<Figure size 1296x576 with 2 Axes>"
      ]
     },
     "metadata": {
      "needs_background": "light"
     },
     "output_type": "display_data"
    },
    {
     "data": {
      "text/plain": [
       "<Figure size 432x288 with 0 Axes>"
      ]
     },
     "metadata": {},
     "output_type": "display_data"
    },
    {
     "data": {
      "text/plain": [
       "<Figure size 432x288 with 0 Axes>"
      ]
     },
     "metadata": {},
     "output_type": "display_data"
    },
    {
     "data": {
      "text/plain": [
       "<Figure size 432x288 with 0 Axes>"
      ]
     },
     "metadata": {},
     "output_type": "display_data"
    },
    {
     "data": {
      "text/plain": [
       "<Figure size 432x288 with 0 Axes>"
      ]
     },
     "metadata": {},
     "output_type": "display_data"
    }
   ],
   "source": [
    "fig, ax = plt.subplots(1,2,figsize=(18,8))\n",
    "\n",
    "# plot_metrics(y_train,proba_train_1, ax= ax, label = 'Train model 1', color='darkred' )\n",
    "plot_metrics(y_test,proba_test_1, ax= ax, label = 'Test model 1', color='darkorange' )\n",
    "\n",
    "# plot_metrics(y_train,proba_train_2, ax= ax, label = 'Train model 2', color='darkblue' )\n",
    "plot_metrics(y_test,proba_test_2, ax= ax, label = 'Test model 2', color='darkgreen' )"
   ]
  },
  {
   "cell_type": "code",
   "execution_count": null,
   "metadata": {},
   "outputs": [],
   "source": []
  },
  {
   "cell_type": "code",
   "execution_count": null,
   "metadata": {},
   "outputs": [],
   "source": []
  }
 ],
 "metadata": {
  "kernelspec": {
   "display_name": "Python 3",
   "language": "python",
   "name": "python3"
  },
  "language_info": {
   "codemirror_mode": {
    "name": "ipython",
    "version": 3
   },
   "file_extension": ".py",
   "mimetype": "text/x-python",
   "name": "python",
   "nbconvert_exporter": "python",
   "pygments_lexer": "ipython3",
   "version": "3.6.10"
  }
 },
 "nbformat": 4,
 "nbformat_minor": 4
}
