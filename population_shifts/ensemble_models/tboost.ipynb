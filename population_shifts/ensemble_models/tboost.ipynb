{
 "cells": [
  {
   "cell_type": "code",
   "execution_count": 4,
   "id": "prompt-roller",
   "metadata": {},
   "outputs": [
    {
     "name": "stdout",
     "output_type": "stream",
     "text": [
      "[21:19:58] WARNING: /Users/travis/build/dmlc/xgboost/src/learner.cc:541: \n",
      "Parameters: { num_leaves } might not be used.\n",
      "\n",
      "  This may not be accurate due to some parameters are only used in language bindings but\n",
      "  passed down to XGBoost core.  Or some parameters are not used but slip through this\n",
      "  verification. Please open an issue if you find above cases.\n",
      "\n",
      "\n",
      "[21:19:58] WARNING: /Users/travis/build/dmlc/xgboost/src/learner.cc:1061: Starting in XGBoost 1.3.0, the default evaluation metric used with the objective 'binary:logistic' was changed from 'error' to 'logloss'. Explicitly set eval_metric if you'd like to restore the old behavior.\n"
     ]
    }
   ],
   "source": [
    "import pytest\n",
    "import pandas as pd\n",
    "import numpy as np\n",
    "import xgboost as xgb\n",
    "from tboost.models import XGBTransferLearner\n",
    "from sklearn.exceptions import NotFittedError\n",
    "\n",
    "data = {\n",
    "    \"f1\": [100.0, 1.0, 32.24, 30.34, 21.67, 18.13, 39.8, 1.85, 27.53, 11.23],\n",
    "    \"f2\": [1.0, 15.98, 17.78, 18.86, 36.75, 12.79, 100.0, 76.07, 53.54, 47.09],\n",
    "    \"f3\": [82.1, 1.0, 72.77, 40.7, 14.61, 78.51, 97.11, 100.0, 61.48, 73.41],\n",
    "    \"y\": [0, 0, 1, 0, 0, 1, 0, 0, 1, 1],\n",
    "}\n",
    "\n",
    "df = pd.DataFrame(data)\n",
    "X = df[[\"f1\", \"f2\", \"f3\"]]\n",
    "y = df[\"y\"]\n",
    "\n",
    "model = xgb.XGBClassifier(\n",
    "    max_depth = 2,\n",
    "    reg_lambda = 0,\n",
    "    num_leaves=4,\n",
    "    n_estimators=4)\n",
    "\n",
    "with pytest.raises(NotFittedError):\n",
    "    XGBTransferLearner(model)\n",
    "\n",
    "model.fit(X,y)\n",
    "\n",
    "probas = model.predict_proba(X)\n",
    "\n",
    "tbooster = XGBTransferLearner(model)\n",
    "tbooster.fit(X,y)\n",
    "\n",
    "tboost_probas = tbooster.predict_proba(X)\n",
    "\n",
    "np.testing.assert_array_almost_equal(probas, tboost_probas)"
   ]
  },
  {
   "cell_type": "code",
   "execution_count": 5,
   "id": "commercial-signal",
   "metadata": {},
   "outputs": [
    {
     "name": "stderr",
     "output_type": "stream",
     "text": [
      "/Users/sandro/.miniconda/installation/envs/tboost_dev/lib/python3.8/site-packages/xgboost/sklearn.py:888: UserWarning: The use of label encoder in XGBClassifier is deprecated and will be removed in a future release. To remove this warning, do the following: 1) Pass option use_label_encoder=False when constructing XGBClassifier object; and 2) Encode your labels (y) as integers starting with 0, i.e. 0, 1, 2, ..., [num_class - 1].\n",
      "  warnings.warn(label_encoder_deprecation_msg, UserWarning)\n"
     ]
    },
    {
     "name": "stdout",
     "output_type": "stream",
     "text": [
      "[22:50:29] WARNING: /Users/travis/build/dmlc/xgboost/src/learner.cc:541: \n",
      "Parameters: { num_leaves } might not be used.\n",
      "\n",
      "  This may not be accurate due to some parameters are only used in language bindings but\n",
      "  passed down to XGBoost core.  Or some parameters are not used but slip through this\n",
      "  verification. Please open an issue if you find above cases.\n",
      "\n",
      "\n",
      "[22:50:29] WARNING: /Users/travis/build/dmlc/xgboost/src/learner.cc:1061: Starting in XGBoost 1.3.0, the default evaluation metric used with the objective 'binary:logistic' was changed from 'error' to 'logloss'. Explicitly set eval_metric if you'd like to restore the old behavior.\n"
     ]
    },
    {
     "data": {
      "text/plain": [
       "array([[0.70023316, 0.29976684],\n",
       "       [0.70499377, 0.29500623],\n",
       "       [0.91163901, 0.08836099],\n",
       "       ...,\n",
       "       [0.60772859, 0.39227141],\n",
       "       [0.76717276, 0.23282724],\n",
       "       [0.80914091, 0.19085909]])"
      ]
     },
     "execution_count": 5,
     "metadata": {},
     "output_type": "execute_result"
    }
   ],
   "source": [
    "import tboost\n",
    "from tboost.dataset import load_data\n",
    "from tboost.models import XGBTransferLearner\n",
    "\n",
    "import xgboost as xgb\n",
    "\n",
    "# Get \n",
    "X, y1, y2 = load_data(return_X_y=True)\n",
    "\n",
    "xgb_model = xgb.XGBClassifier(\n",
    "    max_depth = 2,\n",
    "    reg_lambda = 0,\n",
    "    num_leaves=4,\n",
    "    n_estimators=100,\n",
    ")\n",
    "\n",
    "xgb_model.fit(X,y1)\n",
    "\n",
    "t_xgb_model = XGBTransferLearner(xgb_model)\n",
    "t_xgb_model.fit(X,y2)\n",
    "t_xgb_model.predict_proba(X)\n",
    "\n"
   ]
  },
  {
   "cell_type": "code",
   "execution_count": 7,
   "id": "reliable-murder",
   "metadata": {},
   "outputs": [],
   "source": [
    "import tboost\n",
    "from tboost.dataset import load_data\n",
    "\n",
    "import xgboost as xgb\n",
    "\n",
    "import matplotlib.pyplot as plt\n",
    "\n",
    "%load_ext autoreload\n",
    "%autoreload 2\n",
    "%matplotlib inline"
   ]
  },
  {
   "cell_type": "code",
   "execution_count": 8,
   "id": "disturbed-forth",
   "metadata": {},
   "outputs": [],
   "source": [
    "X, y1, y2 = load_data(return_X_y=True)"
   ]
  },
  {
   "cell_type": "code",
   "execution_count": 9,
   "id": "respected-invasion",
   "metadata": {},
   "outputs": [],
   "source": [
    "\n",
    "from sklearn.model_selection import train_test_split"
   ]
  },
  {
   "cell_type": "code",
   "execution_count": 10,
   "id": "adverse-shopping",
   "metadata": {},
   "outputs": [],
   "source": [
    "X_train, X_test, y_train_1, y_test_1 = train_test_split(X,y1, test_size=0.33, random_state=42)\n",
    "\n",
    "y_train_2 = y2.loc[X_train.index]\n",
    "y_test_2= y2.loc[X_test.index]"
   ]
  },
  {
   "cell_type": "code",
   "execution_count": null,
   "id": "supreme-healthcare",
   "metadata": {},
   "outputs": [],
   "source": []
  },
  {
   "cell_type": "code",
   "execution_count": 11,
   "id": "norman-symphony",
   "metadata": {},
   "outputs": [
    {
     "name": "stdout",
     "output_type": "stream",
     "text": [
      "502\n",
      "[21:35:36] WARNING: /Users/travis/build/dmlc/xgboost/src/learner.cc:541: \n",
      "Parameters: { min_child_samples, num_leaves } might not be used.\n",
      "\n",
      "  This may not be accurate due to some parameters are only used in language bindings but\n",
      "  passed down to XGBoost core.  Or some parameters are not used but slip through this\n",
      "  verification. Please open an issue if you find above cases.\n",
      "\n",
      "\n",
      "[0]\tvalidation_0-auc:0.81073\tvalidation_0-logloss:0.60129\tvalidation_1-auc:0.80522\tvalidation_1-logloss:0.60215\n"
     ]
    },
    {
     "name": "stderr",
     "output_type": "stream",
     "text": [
      "/Users/sandro/.miniconda/installation/envs/tboost_dev/lib/python3.8/site-packages/xgboost/sklearn.py:888: UserWarning: The use of label encoder in XGBClassifier is deprecated and will be removed in a future release. To remove this warning, do the following: 1) Pass option use_label_encoder=False when constructing XGBClassifier object; and 2) Encode your labels (y) as integers starting with 0, i.e. 0, 1, 2, ..., [num_class - 1].\n",
      "  warnings.warn(label_encoder_deprecation_msg, UserWarning)\n"
     ]
    },
    {
     "name": "stdout",
     "output_type": "stream",
     "text": [
      "[30]\tvalidation_0-auc:0.90026\tvalidation_0-logloss:0.37932\tvalidation_1-auc:0.88549\tvalidation_1-logloss:0.39476\n",
      "[60]\tvalidation_0-auc:0.90642\tvalidation_0-logloss:0.36587\tvalidation_1-auc:0.88710\tvalidation_1-logloss:0.39034\n",
      "[66]\tvalidation_0-auc:0.90790\tvalidation_0-logloss:0.36331\tvalidation_1-auc:0.88728\tvalidation_1-logloss:0.39014\n",
      "CPU times: user 1.63 s, sys: 47.8 ms, total: 1.68 s\n",
      "Wall time: 568 ms\n"
     ]
    },
    {
     "data": {
      "text/plain": [
       "<matplotlib.legend.Legend at 0x7fc8a99e31f0>"
      ]
     },
     "execution_count": 11,
     "metadata": {},
     "output_type": "execute_result"
    },
    {
     "data": {
      "image/png": "[encoded data removed]",
      "text/plain": [
       "<Figure size 1296x576 with 2 Axes>"
      ]
     },
     "metadata": {
      "needs_background": "light"
     },
     "output_type": "display_data"
    }
   ],
   "source": [
    "%%time\n",
    "\n",
    "min_frac =int(0.05*X_train.shape[0])\n",
    "print(min_frac)\n",
    "\n",
    "# model = lgb.LGBMClassifier(\n",
    "#     num_leaves=4,\n",
    "#     n_estimators=10,\n",
    "#     min_child_samples=min_frac\n",
    "# )\n",
    "\n",
    "xgb_model = xgb.XGBClassifier(\n",
    "    max_depth = 2,\n",
    "    reg_lambda = 0,\n",
    "    num_leaves=4,\n",
    "    n_estimators=130,\n",
    "    min_child_samples=min_frac\n",
    ")\n",
    "\n",
    "eval_set = [(X_train,y_train_1),(X_test, y_test_1)]\n",
    "\n",
    "xgb_model.fit(\n",
    "    X_train,\n",
    "    y_train_1,\n",
    "    eval_metric=[\"auc\",\"logloss\"], \n",
    "#     eval_names = ['validation_0','validation_1'],\n",
    "    eval_set=eval_set, \n",
    "    verbose=30, # after how many training sets you want the printout on the console\n",
    "    early_stopping_rounds=10\n",
    ")\n",
    "\n",
    "fig, ax = plt.subplots(1,2,figsize=(18,8))\n",
    "\n",
    "\n",
    "ax[0].plot(xgb_model.evals_result_['validation_0']['logloss'], label = \"training target\")\n",
    "ax[0].plot(xgb_model.evals_result_['validation_1']['logloss'], label = \"test target\")\n",
    "\n",
    "ax[1].plot(xgb_model.evals_result_['validation_0']['auc'])\n",
    "ax[1].plot(xgb_model.evals_result_['validation_1']['auc'])\n",
    "ax[0].legend()\n",
    "\n"
   ]
  },
  {
   "cell_type": "code",
   "execution_count": 12,
   "id": "understood-employer",
   "metadata": {},
   "outputs": [],
   "source": [
    "from tboost.utils.boost import TBoost\n",
    "import numpy as np"
   ]
  },
  {
   "cell_type": "code",
   "execution_count": null,
   "id": "fleet-approval",
   "metadata": {},
   "outputs": [],
   "source": [
    "leaves_train = xgb_model.apply(X_train)\n",
    "leaves_test = xgb_model.apply(X_test)"
   ]
  },
  {
   "cell_type": "code",
   "execution_count": 13,
   "id": "emotional-melbourne",
   "metadata": {},
   "outputs": [],
   "source": [
    "from tboost.models.xgb import XGBTransferLearner"
   ]
  },
  {
   "cell_type": "code",
   "execution_count": 14,
   "id": "earned-castle",
   "metadata": {},
   "outputs": [
    {
     "data": {
      "text/plain": [
       "'binary:logistic'"
      ]
     },
     "execution_count": 14,
     "metadata": {},
     "output_type": "execute_result"
    }
   ],
   "source": [
    "xgb_model.objective"
   ]
  },
  {
   "cell_type": "code",
   "execution_count": 15,
   "id": "individual-trail",
   "metadata": {},
   "outputs": [
    {
     "ename": "UnsupportedModelError",
     "evalue": "XGBTransferLearner does not support the model XGBRegressor",
     "output_type": "error",
     "traceback": [
      "\u001b[0;31m---------------------------------------------------------------------------\u001b[0m",
      "\u001b[0;31mUnsupportedModelError\u001b[0m                     Traceback (most recent call last)",
      "\u001b[0;32m<ipython-input-15-9d0ccde4766a>\u001b[0m in \u001b[0;36m<module>\u001b[0;34m\u001b[0m\n\u001b[0;32m----> 1\u001b[0;31m \u001b[0mXGBTransferLearner\u001b[0m\u001b[0;34m(\u001b[0m\u001b[0mxgb\u001b[0m\u001b[0;34m.\u001b[0m\u001b[0mXGBRegressor\u001b[0m\u001b[0;34m(\u001b[0m\u001b[0;34m)\u001b[0m\u001b[0;34m)\u001b[0m\u001b[0;34m\u001b[0m\u001b[0;34m\u001b[0m\u001b[0m\n\u001b[0m",
      "\u001b[0;32m~/Analytics/Packages/TransferBoost/tboost/models/xgb.py\u001b[0m in \u001b[0;36m__init__\u001b[0;34m(self, model, base_score, f_obj)\u001b[0m\n\u001b[1;32m     13\u001b[0m \u001b[0;34m\u001b[0m\u001b[0m\n\u001b[1;32m     14\u001b[0m     \u001b[0mExample\u001b[0m \u001b[0mof\u001b[0m \u001b[0muse\u001b[0m\u001b[0;34m\u001b[0m\u001b[0;34m\u001b[0m\u001b[0m\n\u001b[0;32m---> 15\u001b[0;31m     \u001b[0;31m`\u001b[0m\u001b[0;31m`\u001b[0m\u001b[0;31m`\u001b[0m\u001b[0mpython\u001b[0m\u001b[0;34m\u001b[0m\u001b[0;34m\u001b[0m\u001b[0m\n\u001b[0m\u001b[1;32m     16\u001b[0m         \u001b[0;32mimport\u001b[0m \u001b[0mtboost\u001b[0m\u001b[0;34m\u001b[0m\u001b[0;34m\u001b[0m\u001b[0m\n\u001b[1;32m     17\u001b[0m         \u001b[0;32mfrom\u001b[0m \u001b[0mtboost\u001b[0m\u001b[0;34m.\u001b[0m\u001b[0mdataset\u001b[0m \u001b[0;32mimport\u001b[0m \u001b[0mload_data\u001b[0m\u001b[0;34m\u001b[0m\u001b[0;34m\u001b[0m\u001b[0m\n",
      "\u001b[0;31mUnsupportedModelError\u001b[0m: XGBTransferLearner does not support the model XGBRegressor"
     ]
    }
   ],
   "source": [
    "XGBTransferLearner(xgb.XGBRegressor())"
   ]
  },
  {
   "cell_type": "code",
   "execution_count": 16,
   "id": "chronic-latvia",
   "metadata": {},
   "outputs": [],
   "source": [
    "xgb_model.base_score"
   ]
  },
  {
   "cell_type": "code",
   "execution_count": 17,
   "id": "advised-right",
   "metadata": {},
   "outputs": [],
   "source": [
    "xgb_tboost = XGBTransferLearner(xgb_model)"
   ]
  },
  {
   "cell_type": "code",
   "execution_count": 18,
   "id": "understood-delta",
   "metadata": {},
   "outputs": [
    {
     "data": {
      "text/plain": [
       "<tboost.models.xgb.XGBTransferLearner at 0x7fc8a9a057f0>"
      ]
     },
     "execution_count": 18,
     "metadata": {},
     "output_type": "execute_result"
    }
   ],
   "source": [
    "xgb_tboost.fit(X_train, y_train_2)"
   ]
  },
  {
   "cell_type": "code",
   "execution_count": 19,
   "id": "protective-interface",
   "metadata": {},
   "outputs": [],
   "source": [
    "probs = xgb_tboost.predict_proba(X_train)"
   ]
  },
  {
   "cell_type": "code",
   "execution_count": null,
   "id": "black-engineering",
   "metadata": {},
   "outputs": [],
   "source": [
    "probs[:,1]"
   ]
  },
  {
   "cell_type": "code",
   "execution_count": null,
   "id": "dress-belize",
   "metadata": {},
   "outputs": [],
   "source": [
    "np.hstack([1-probs.reshape(-1,1),probs.reshape(-1,1)])"
   ]
  },
  {
   "cell_type": "code",
   "execution_count": null,
   "id": "acceptable-guyana",
   "metadata": {},
   "outputs": [],
   "source": [
    "xgb_tboost._fit()"
   ]
  },
  {
   "cell_type": "code",
   "execution_count": null,
   "id": "prospective-layer",
   "metadata": {},
   "outputs": [],
   "source": [
    "die"
   ]
  },
  {
   "cell_type": "code",
   "execution_count": null,
   "id": "spread-profession",
   "metadata": {},
   "outputs": [],
   "source": [
    "tb = TBoost(model_params=xgb_model.get_params())"
   ]
  },
  {
   "cell_type": "code",
   "execution_count": null,
   "id": "cardiovascular-lewis",
   "metadata": {},
   "outputs": [],
   "source": [
    "tb._fit(X_train, y_train_2, leaves_train)"
   ]
  },
  {
   "cell_type": "code",
   "execution_count": null,
   "id": "sublime-ebony",
   "metadata": {},
   "outputs": [],
   "source": [
    "tb._predict_proba?"
   ]
  },
  {
   "cell_type": "code",
   "execution_count": null,
   "id": "computational-planet",
   "metadata": {},
   "outputs": [],
   "source": [
    "tb._predict_proba?"
   ]
  },
  {
   "cell_type": "code",
   "execution_count": null,
   "id": "precise-discovery",
   "metadata": {},
   "outputs": [],
   "source": [
    "xgb_proba = list()\n",
    "tb_proba = list()\n",
    "for ix_tree in range(1,leaves_train.shape[1]+1):\n",
    "    xgb_proba.append(xgb_model.predict_proba(X_test, ntree_limit = ix_tree)[:,1])\n",
    "    tb_proba.append(tb._predict_proba(leaves_test, tree_index = ix_tree))"
   ]
  },
  {
   "cell_type": "code",
   "execution_count": null,
   "id": "dangerous-dodge",
   "metadata": {},
   "outputs": [],
   "source": [
    "from sklearn.metrics import roc_auc_score, log_loss"
   ]
  },
  {
   "cell_type": "code",
   "execution_count": null,
   "id": "integrated-permit",
   "metadata": {},
   "outputs": [],
   "source": [
    "auc_xgb_tar_1 = [log_loss(y_test_1,xgb_prob) for xgb_prob in xgb_proba]\n",
    "auc_xgb_tar_2 = [log_loss(y_test_2,xgb_prob) for xgb_prob in xgb_proba]\n",
    "auc_tb_tar_2 = [log_loss(y_test_2,tb_prob) for tb_prob in tb_proba]"
   ]
  },
  {
   "cell_type": "code",
   "execution_count": null,
   "id": "interim-discussion",
   "metadata": {},
   "outputs": [],
   "source": [
    "fig, ax = plt.subplots(figsize=(18,8))\n",
    "\n",
    "\n",
    "ax.plot(auc_xgb_tar_1, label = \"XGB y1\")\n",
    "ax.plot(auc_xgb_tar_2, label = \"XGB y2\")\n",
    "ax.plot(auc_tb_tar_2, label = \"Transfer Boost y2\")\n",
    "\n",
    "ax.set_xlabel(\"N trees\")\n",
    "\n",
    "ax.legend()"
   ]
  },
  {
   "cell_type": "code",
   "execution_count": null,
   "id": "caring-james",
   "metadata": {},
   "outputs": [],
   "source": [
    "len(tb_proba)"
   ]
  },
  {
   "cell_type": "code",
   "execution_count": null,
   "id": "collaborative-destination",
   "metadata": {},
   "outputs": [],
   "source": [
    "tb.leaf_vals_map_"
   ]
  },
  {
   "cell_type": "code",
   "execution_count": null,
   "id": "advance-brother",
   "metadata": {},
   "outputs": [],
   "source": []
  },
  {
   "cell_type": "code",
   "execution_count": null,
   "id": "electric-cutting",
   "metadata": {},
   "outputs": [],
   "source": [
    "from tboost.utils import recompute_leaves, compute_probability"
   ]
  },
  {
   "cell_type": "code",
   "execution_count": null,
   "id": "welsh-newark",
   "metadata": {},
   "outputs": [],
   "source": [
    "leaves_train = xgb_model.apply(X_train)\n",
    "leaves_test = xgb_model.apply(X_test)"
   ]
  },
  {
   "cell_type": "code",
   "execution_count": null,
   "id": "second-recipient",
   "metadata": {},
   "outputs": [],
   "source": [
    "transfered_leafs_train, leaves_map = recompute_leaves(leaves_train, X_train, y_train_2, model_params=xgb_model.get_params())"
   ]
  },
  {
   "cell_type": "code",
   "execution_count": null,
   "id": "running-joseph",
   "metadata": {},
   "outputs": [],
   "source": [
    "transfered_leafs_train.shape"
   ]
  },
  {
   "cell_type": "code",
   "execution_count": null,
   "id": "particular-sunglasses",
   "metadata": {},
   "outputs": [],
   "source": [
    "leaves_train.shape"
   ]
  },
  {
   "cell_type": "code",
   "execution_count": null,
   "id": "tender-offering",
   "metadata": {},
   "outputs": [],
   "source": [
    "leaves_train[:,0]"
   ]
  },
  {
   "cell_type": "code",
   "execution_count": null,
   "id": "undefined-lesbian",
   "metadata": {},
   "outputs": [],
   "source": [
    "leaves_map[0]"
   ]
  },
  {
   "cell_type": "code",
   "execution_count": null,
   "id": "driving-better",
   "metadata": {},
   "outputs": [],
   "source": [
    "compute_probability?"
   ]
  },
  {
   "cell_type": "code",
   "execution_count": null,
   "id": "convertible-terrace",
   "metadata": {},
   "outputs": [],
   "source": []
  },
  {
   "cell_type": "code",
   "execution_count": null,
   "id": "surgical-bones",
   "metadata": {},
   "outputs": [],
   "source": [
    "bst.save_model(\"test.json\")"
   ]
  },
  {
   "cell_type": "code",
   "execution_count": null,
   "id": "heavy-lighter",
   "metadata": {},
   "outputs": [],
   "source": [
    "bst = xgb_model.get_booster() "
   ]
  },
  {
   "cell_type": "code",
   "execution_count": null,
   "id": "logical-uncertainty",
   "metadata": {},
   "outputs": [],
   "source": [
    "bst.load_model?"
   ]
  },
  {
   "cell_type": "code",
   "execution_count": null,
   "id": "extreme-patrick",
   "metadata": {},
   "outputs": [],
   "source": [
    "bst.save_model?"
   ]
  },
  {
   "cell_type": "code",
   "execution_count": null,
   "id": "unable-weapon",
   "metadata": {},
   "outputs": [],
   "source": []
  }
 ],
 "metadata": {
  "kernelspec": {
   "display_name": "Python 3",
   "language": "python",
   "name": "python3"
  },
  "language_info": {
   "codemirror_mode": {
    "name": "ipython",
    "version": 3
   },
   "file_extension": ".py",
   "mimetype": "text/x-python",
   "name": "python",
   "nbconvert_exporter": "python",
   "pygments_lexer": "ipython3",
   "version": "3.8.8"
  }
 },
 "nbformat": 4,
 "nbformat_minor": 5
}
