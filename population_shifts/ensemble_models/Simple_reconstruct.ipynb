{
 "cells": [
  {
   "cell_type": "code",
   "execution_count": 34,
   "id": "scheduled-administrator",
   "metadata": {},
   "outputs": [
    {
     "data": {
      "text/html": [
       "<style>.container {width:85% !important;}</style>"
      ],
      "text/plain": [
       "<IPython.core.display.HTML object>"
      ]
     },
     "metadata": {},
     "output_type": "display_data"
    },
    {
     "name": "stdout",
     "output_type": "stream",
     "text": [
      "The autoreload extension is already loaded. To reload it, use:\n",
      "  %reload_ext autoreload\n"
     ]
    }
   ],
   "source": [
    "from IPython.core.display import display, HTML\n",
    "display(HTML(\"<style>.container {width:85% !important;}</style>\"))\n",
    "\n",
    "%load_ext autoreload\n",
    "%autoreload 2\n",
    "%matplotlib inline\n",
    "\n",
    "import logging\n",
    "\n",
    "from sklearn.datasets import make_classification\n",
    "\n",
    "import pandas as pd\n",
    "import numpy as np\n",
    "import matplotlib.pyplot as plt\n",
    "\n",
    "import lightgbm as lgb\n",
    "from sklearn.model_selection import train_test_split\n",
    "\n",
    "from sklearn.preprocessing import MinMaxScaler, StandardScaler"
   ]
  },
  {
   "cell_type": "code",
   "execution_count": 35,
   "id": "fatty-singles",
   "metadata": {},
   "outputs": [],
   "source": [
    "import tboost"
   ]
  },
  {
   "cell_type": "code",
   "execution_count": 36,
   "id": "flush-lobby",
   "metadata": {},
   "outputs": [],
   "source": [
    "import targen"
   ]
  },
  {
   "cell_type": "code",
   "execution_count": 37,
   "id": "beginning-fireplace",
   "metadata": {},
   "outputs": [
    {
     "data": {
      "text/plain": [
       "['/Users/sandro/Analytics/Packages/TransferBoost/tboost']"
      ]
     },
     "execution_count": 37,
     "metadata": {},
     "output_type": "execute_result"
    }
   ],
   "source": [
    "tboost.__path__"
   ]
  },
  {
   "cell_type": "code",
   "execution_count": 38,
   "id": "legendary-weekend",
   "metadata": {},
   "outputs": [],
   "source": [
    "from helpers import gen_samples, setup_logging, shift_features, psi\n",
    "\n",
    "setup_logging()"
   ]
  },
  {
   "cell_type": "code",
   "execution_count": 39,
   "id": "numerical-matthew",
   "metadata": {},
   "outputs": [
    {
     "name": "stderr",
     "output_type": "stream",
     "text": [
      "2021-03-01 22:00:21 - INFO - gen_samples: Generating 1 exponential features with 10 rows\n",
      "2021-03-01 22:00:21 - INFO - gen_samples: Generating 1 uniform features with 10 rows\n",
      "2021-03-01 22:00:21 - INFO - gen_samples: Generating 1 normal features with 10 rows\n"
     ]
    }
   ],
   "source": [
    "data_raw = gen_samples(n_samples = 10, n_exp = 1, n_unif =1, n_normal = 1)\n",
    "# data_raw = data_raw.reset_index().rename(columns={\"index\":\"time_col\"})"
   ]
  },
  {
   "cell_type": "code",
   "execution_count": 40,
   "id": "average-destination",
   "metadata": {},
   "outputs": [],
   "source": [
    "make_copy = lambda x: x.copy()\n",
    "\n",
    "data = (\n",
    "    data_raw\n",
    "    .pipe(make_copy)\n",
    "    .pipe(shift_features, cols_to_shift = data_raw.columns, min_max_scaler_range=(1,100))\n",
    ")\n",
    "\n",
    "features = [col for col in data_raw.columns if col.startswith(\"col_\")]"
   ]
  },
  {
   "cell_type": "code",
   "execution_count": 47,
   "id": "provincial-purple",
   "metadata": {},
   "outputs": [],
   "source": [
    "data.columns = ['f1','f2','f3']\n",
    "data = data.apply(lambda x: np.round(x,2))"
   ]
  },
  {
   "cell_type": "code",
   "execution_count": 50,
   "id": "normal-crossing",
   "metadata": {},
   "outputs": [
    {
     "data": {
      "text/plain": [
       "{'f1': {0: 100.0,\n",
       "  1: 1.0,\n",
       "  2: 32.24,\n",
       "  3: 30.34,\n",
       "  4: 21.67,\n",
       "  5: 18.13,\n",
       "  6: 39.8,\n",
       "  7: 1.85,\n",
       "  8: 27.53,\n",
       "  9: 11.23},\n",
       " 'f2': {0: 1.0,\n",
       "  1: 15.98,\n",
       "  2: 17.78,\n",
       "  3: 18.86,\n",
       "  4: 36.75,\n",
       "  5: 12.79,\n",
       "  6: 100.0,\n",
       "  7: 76.07,\n",
       "  8: 53.54,\n",
       "  9: 47.09},\n",
       " 'f3': {0: 82.1,\n",
       "  1: 1.0,\n",
       "  2: 72.77,\n",
       "  3: 40.7,\n",
       "  4: 14.61,\n",
       "  5: 78.51,\n",
       "  6: 97.11,\n",
       "  7: 100.0,\n",
       "  8: 61.48,\n",
       "  9: 73.41}}"
      ]
     },
     "execution_count": 50,
     "metadata": {},
     "output_type": "execute_result"
    }
   ],
   "source": [
    "data.to_dict()"
   ]
  },
  {
   "cell_type": "code",
   "execution_count": 51,
   "id": "convertible-preview",
   "metadata": {},
   "outputs": [
    {
     "data": {
      "text/plain": [
       "['col_exp_0', 'col_uni_0', 'col_norm_0']"
      ]
     },
     "execution_count": 51,
     "metadata": {},
     "output_type": "execute_result"
    }
   ],
   "source": [
    "features"
   ]
  },
  {
   "cell_type": "markdown",
   "id": "increasing-luxembourg",
   "metadata": {},
   "source": [
    "# Add targets"
   ]
  },
  {
   "cell_type": "code",
   "execution_count": 9,
   "id": "hairy-kingston",
   "metadata": {},
   "outputs": [],
   "source": [
    "from targen.data import target"
   ]
  },
  {
   "cell_type": "code",
   "execution_count": 68,
   "id": "determined-country",
   "metadata": {},
   "outputs": [],
   "source": [
    "interaction_terms_1 = \"\".join([\n",
    "    \"2.5*f1*f2\",\n",
    "    \"-0.2*f2*f3\",\n",
    "    \"+0.7*f1*f3\",\n",
    "    \"-1.3*f3/f2\", # the shift shoul reduce here the effect  \n",
    "])\n",
    "\n",
    "expressions_1 = {\n",
    "    'linear': '-0.5*f1 + 2*f3 -3.2*f2',\n",
    "    \n",
    "    'interaction': interaction_terms_1,\n",
    "    \n",
    "    'uniform_noise': {\n",
    "        'weight':107.7\n",
    "    },\n",
    "    'gaussian_noise': {\n",
    "        'weight':15.4,\n",
    "        'mu_gaus': -1.5\n",
    "    }\n",
    "}"
   ]
  },
  {
   "cell_type": "code",
   "execution_count": 69,
   "id": "sharp-purpose",
   "metadata": {},
   "outputs": [],
   "source": [
    "data_y_1 = target.get_target_and_contributions(data, expressions=expressions_1, imbalance = 0.4, \n",
    "                                             drop_features=False)"
   ]
  },
  {
   "cell_type": "code",
   "execution_count": 70,
   "id": "comparable-horse",
   "metadata": {},
   "outputs": [
    {
     "data": {
      "text/plain": [
       "{'f1': [100.0, 1.0, 32.24, 30.34, 21.67, 18.13, 39.8, 1.85, 27.53, 11.23],\n",
       " 'f2': [1.0, 15.98, 17.78, 18.86, 36.75, 12.79, 100.0, 76.07, 53.54, 47.09],\n",
       " 'f3': [82.1, 1.0, 72.77, 40.7, 14.61, 78.51, 97.11, 100.0, 61.48, 73.41],\n",
       " 'y': [0, 0, 1, 0, 0, 1, 0, 0, 1, 1]}"
      ]
     },
     "execution_count": 70,
     "metadata": {},
     "output_type": "execute_result"
    }
   ],
   "source": [
    "{k:[val for val in v.values()]\n",
    " for k,v in data_y_1[['f1','f2','f3','y']].to_dict().items()\n",
    "}"
   ]
  },
  {
   "cell_type": "code",
   "execution_count": 73,
   "id": "behind-hybrid",
   "metadata": {},
   "outputs": [],
   "source": [
    "X, y = data_y_1[['f1']],data_y_1['y']"
   ]
  },
  {
   "cell_type": "code",
   "execution_count": 82,
   "id": "structured-sleeping",
   "metadata": {},
   "outputs": [
    {
     "name": "stdout",
     "output_type": "stream",
     "text": [
      "0\n",
      "[22:23:11] WARNING: /Users/travis/build/dmlc/xgboost/src/learner.cc:541: \n",
      "Parameters: { num_leaves } might not be used.\n",
      "\n",
      "  This may not be accurate due to some parameters are only used in language bindings but\n",
      "  passed down to XGBoost core.  Or some parameters are not used but slip through this\n",
      "  verification. Please open an issue if you find above cases.\n",
      "\n",
      "\n",
      "[0]\tvalidation_0-auc:0.62500\tvalidation_0-logloss:0.66763\n",
      "[3]\tvalidation_0-auc:0.72917\tvalidation_0-logloss:0.65251\n"
     ]
    },
    {
     "data": {
      "text/plain": [
       "<matplotlib.legend.Legend at 0x7fdd28614ac0>"
      ]
     },
     "execution_count": 82,
     "metadata": {},
     "output_type": "execute_result"
    },
    {
     "data": {
      "image/png": "[encoded data removed]",
      "text/plain": [
       "<Figure size 1296x576 with 2 Axes>"
      ]
     },
     "metadata": {
      "needs_background": "light"
     },
     "output_type": "display_data"
    }
   ],
   "source": [
    "import xgboost as xgb\n",
    "\n",
    "min_frac =int(0.05*X.shape[0])\n",
    "print(min_frac)\n",
    "\n",
    "model = xgb.XGBClassifier(\n",
    "    max_depth = 2,\n",
    "    reg_lambda = 0,\n",
    "    num_leaves=4,\n",
    "    n_estimators=4,\n",
    "#     min_child_samples=min_frac,\n",
    "    learning_rate=0.3\n",
    ")\n",
    "\n",
    "eval_set = [(X,y)]\n",
    "model.fit(\n",
    "    X,\n",
    "    y,\n",
    "    eval_metric=[\"auc\",\"logloss\"], \n",
    "#     eval_names = ['validation_0','validation_1'],\n",
    "    eval_set=eval_set, \n",
    "    verbose=30, # after how many training sets you want the printout on the console\n",
    "    early_stopping_rounds=39\n",
    ")\n",
    "\n",
    "fig, ax = plt.subplots(1,2,figsize=(18,8))\n",
    "\n",
    "\n",
    "ax[0].plot(model.evals_result_['validation_0']['logloss'], label = \"training target\")\n",
    "# ax[0].plot(model.evals_result_['validation_1']['logloss'], label = \"test target\")\n",
    "\n",
    "ax[1].plot(model.evals_result_['validation_0']['auc'])\n",
    "# ax[1].plot(model.evals_result_['validation_1']['auc'])\n",
    "ax[0].legend()"
   ]
  },
  {
   "cell_type": "code",
   "execution_count": 83,
   "id": "returning-johnson",
   "metadata": {},
   "outputs": [],
   "source": [
    "from tboost.utils.boost import recompute_leaves, compute_probability"
   ]
  },
  {
   "cell_type": "code",
   "execution_count": 106,
   "id": "described-indian",
   "metadata": {},
   "outputs": [
    {
     "data": {
      "text/plain": [
       "{'objective': 'binary:logistic',\n",
       " 'use_label_encoder': True,\n",
       " 'base_score': 0.5,\n",
       " 'booster': 'gbtree',\n",
       " 'colsample_bylevel': 1,\n",
       " 'colsample_bynode': 1,\n",
       " 'colsample_bytree': 1,\n",
       " 'gamma': 0,\n",
       " 'gpu_id': -1,\n",
       " 'importance_type': 'gain',\n",
       " 'interaction_constraints': '',\n",
       " 'learning_rate': 0.3,\n",
       " 'max_delta_step': 0,\n",
       " 'max_depth': 2,\n",
       " 'min_child_weight': 1,\n",
       " 'missing': nan,\n",
       " 'monotone_constraints': '()',\n",
       " 'n_estimators': 4,\n",
       " 'n_jobs': 4,\n",
       " 'num_parallel_tree': 1,\n",
       " 'random_state': 0,\n",
       " 'reg_alpha': 0,\n",
       " 'reg_lambda': 0,\n",
       " 'scale_pos_weight': 1,\n",
       " 'subsample': 1,\n",
       " 'tree_method': 'exact',\n",
       " 'validate_parameters': 1,\n",
       " 'verbosity': None,\n",
       " 'num_leaves': 4}"
      ]
     },
     "execution_count": 106,
     "metadata": {},
     "output_type": "execute_result"
    }
   ],
   "source": [
    "model_params"
   ]
  },
  {
   "cell_type": "code",
   "execution_count": 105,
   "id": "aboriginal-arcade",
   "metadata": {},
   "outputs": [
    {
     "data": {
      "text/plain": [
       "array([[2, 2, 2, 2],\n",
       "       [1, 1, 1, 1],\n",
       "       [2, 2, 2, 2],\n",
       "       [2, 2, 2, 2],\n",
       "       [1, 2, 1, 1],\n",
       "       [1, 1, 1, 1],\n",
       "       [2, 2, 2, 2],\n",
       "       [1, 1, 1, 1],\n",
       "       [1, 2, 2, 2],\n",
       "       [1, 1, 1, 1]], dtype=int32)"
      ]
     },
     "metadata": {},
     "output_type": "display_data"
    },
    {
     "name": "stdout",
     "output_type": "stream",
     "text": [
      "start leaf = 0.0\n"
     ]
    },
    {
     "data": {
      "text/plain": [
       "array([[ 0.    , -0.3   , -0.1426, -0.0072, -0.0051],\n",
       "       [ 0.    ,  0.    ,  0.    , -0.1116, -0.0785],\n",
       "       [ 0.    , -0.3   , -0.1426, -0.0072, -0.0051],\n",
       "       [ 0.    , -0.3   , -0.1426, -0.0072, -0.0051],\n",
       "       [ 0.    ,  0.    , -0.1426, -0.1116, -0.0785],\n",
       "       [ 0.    ,  0.    ,  0.    , -0.1116, -0.0785],\n",
       "       [ 0.    , -0.3   , -0.1426, -0.0072, -0.0051],\n",
       "       [ 0.    ,  0.    ,  0.    , -0.1116, -0.0785],\n",
       "       [ 0.    ,  0.    , -0.1426, -0.0072, -0.0051],\n",
       "       [ 0.    ,  0.    ,  0.    , -0.1116, -0.0785]])"
      ]
     },
     "execution_count": 105,
     "metadata": {},
     "output_type": "execute_result"
    }
   ],
   "source": [
    "X_leafs = model.apply(X)\n",
    "model_params = model.get_params()\n",
    "display(X_leafs)\n",
    "\n",
    "X_leaf_outputs = recompute_leaves(X_leafs, X, y, model_params=model_params)\n",
    "#display the first three rows\n",
    "np.round(X_leaf_outputs,4)"
   ]
  },
  {
   "cell_type": "code",
   "execution_count": 99,
   "id": "defined-haven",
   "metadata": {},
   "outputs": [],
   "source": [
    "bst = model.get_booster()"
   ]
  },
  {
   "cell_type": "code",
   "execution_count": 104,
   "id": "sunset-heaven",
   "metadata": {},
   "outputs": [
    {
     "data": {
      "text/html": [
       "<div>\n",
       "<style scoped>\n",
       "    .dataframe tbody tr th:only-of-type {\n",
       "        vertical-align: middle;\n",
       "    }\n",
       "\n",
       "    .dataframe tbody tr th {\n",
       "        vertical-align: top;\n",
       "    }\n",
       "\n",
       "    .dataframe thead th {\n",
       "        text-align: right;\n",
       "    }\n",
       "</style>\n",
       "<table border=\"1\" class=\"dataframe\">\n",
       "  <thead>\n",
       "    <tr style=\"text-align: right;\">\n",
       "      <th></th>\n",
       "      <th>Tree</th>\n",
       "      <th>Node</th>\n",
       "      <th>ID</th>\n",
       "      <th>Feature</th>\n",
       "      <th>Split</th>\n",
       "      <th>Yes</th>\n",
       "      <th>No</th>\n",
       "      <th>Missing</th>\n",
       "      <th>Gain</th>\n",
       "      <th>Cover</th>\n",
       "    </tr>\n",
       "  </thead>\n",
       "  <tbody>\n",
       "    <tr>\n",
       "      <th>1</th>\n",
       "      <td>0</td>\n",
       "      <td>1</td>\n",
       "      <td>0-1</td>\n",
       "      <td>Leaf</td>\n",
       "      <td>NaN</td>\n",
       "      <td>NaN</td>\n",
       "      <td>NaN</td>\n",
       "      <td>NaN</td>\n",
       "      <td>-0.000000</td>\n",
       "      <td>1.500000</td>\n",
       "    </tr>\n",
       "    <tr>\n",
       "      <th>2</th>\n",
       "      <td>0</td>\n",
       "      <td>2</td>\n",
       "      <td>0-2</td>\n",
       "      <td>Leaf</td>\n",
       "      <td>NaN</td>\n",
       "      <td>NaN</td>\n",
       "      <td>NaN</td>\n",
       "      <td>NaN</td>\n",
       "      <td>-0.300000</td>\n",
       "      <td>1.000000</td>\n",
       "    </tr>\n",
       "    <tr>\n",
       "      <th>4</th>\n",
       "      <td>1</td>\n",
       "      <td>1</td>\n",
       "      <td>1-1</td>\n",
       "      <td>Leaf</td>\n",
       "      <td>NaN</td>\n",
       "      <td>NaN</td>\n",
       "      <td>NaN</td>\n",
       "      <td>NaN</td>\n",
       "      <td>-0.000000</td>\n",
       "      <td>1.000000</td>\n",
       "    </tr>\n",
       "    <tr>\n",
       "      <th>5</th>\n",
       "      <td>1</td>\n",
       "      <td>2</td>\n",
       "      <td>1-2</td>\n",
       "      <td>Leaf</td>\n",
       "      <td>NaN</td>\n",
       "      <td>NaN</td>\n",
       "      <td>NaN</td>\n",
       "      <td>NaN</td>\n",
       "      <td>-0.142553</td>\n",
       "      <td>1.477833</td>\n",
       "    </tr>\n",
       "    <tr>\n",
       "      <th>7</th>\n",
       "      <td>2</td>\n",
       "      <td>1</td>\n",
       "      <td>2-1</td>\n",
       "      <td>Leaf</td>\n",
       "      <td>NaN</td>\n",
       "      <td>NaN</td>\n",
       "      <td>NaN</td>\n",
       "      <td>NaN</td>\n",
       "      <td>-0.111574</td>\n",
       "      <td>1.248734</td>\n",
       "    </tr>\n",
       "    <tr>\n",
       "      <th>8</th>\n",
       "      <td>2</td>\n",
       "      <td>2</td>\n",
       "      <td>2-2</td>\n",
       "      <td>Leaf</td>\n",
       "      <td>NaN</td>\n",
       "      <td>NaN</td>\n",
       "      <td>NaN</td>\n",
       "      <td>NaN</td>\n",
       "      <td>-0.007230</td>\n",
       "      <td>1.201326</td>\n",
       "    </tr>\n",
       "    <tr>\n",
       "      <th>10</th>\n",
       "      <td>3</td>\n",
       "      <td>1</td>\n",
       "      <td>3-1</td>\n",
       "      <td>Leaf</td>\n",
       "      <td>NaN</td>\n",
       "      <td>NaN</td>\n",
       "      <td>NaN</td>\n",
       "      <td>NaN</td>\n",
       "      <td>-0.078530</td>\n",
       "      <td>1.242901</td>\n",
       "    </tr>\n",
       "    <tr>\n",
       "      <th>11</th>\n",
       "      <td>3</td>\n",
       "      <td>2</td>\n",
       "      <td>3-2</td>\n",
       "      <td>Leaf</td>\n",
       "      <td>NaN</td>\n",
       "      <td>NaN</td>\n",
       "      <td>NaN</td>\n",
       "      <td>NaN</td>\n",
       "      <td>-0.005070</td>\n",
       "      <td>1.199685</td>\n",
       "    </tr>\n",
       "  </tbody>\n",
       "</table>\n",
       "</div>"
      ],
      "text/plain": [
       "    Tree  Node   ID Feature  Split  Yes   No Missing      Gain     Cover\n",
       "1      0     1  0-1    Leaf    NaN  NaN  NaN     NaN -0.000000  1.500000\n",
       "2      0     2  0-2    Leaf    NaN  NaN  NaN     NaN -0.300000  1.000000\n",
       "4      1     1  1-1    Leaf    NaN  NaN  NaN     NaN -0.000000  1.000000\n",
       "5      1     2  1-2    Leaf    NaN  NaN  NaN     NaN -0.142553  1.477833\n",
       "7      2     1  2-1    Leaf    NaN  NaN  NaN     NaN -0.111574  1.248734\n",
       "8      2     2  2-2    Leaf    NaN  NaN  NaN     NaN -0.007230  1.201326\n",
       "10     3     1  3-1    Leaf    NaN  NaN  NaN     NaN -0.078530  1.242901\n",
       "11     3     2  3-2    Leaf    NaN  NaN  NaN     NaN -0.005070  1.199685"
      ]
     },
     "execution_count": 104,
     "metadata": {},
     "output_type": "execute_result"
    }
   ],
   "source": [
    "trees_df = bst.trees_to_dataframe()\n",
    "trees_df[trees_df.Feature==\"Leaf\"]"
   ]
  },
  {
   "cell_type": "code",
   "execution_count": 95,
   "id": "tender-popularity",
   "metadata": {},
   "outputs": [
    {
     "data": {
      "text/plain": [
       "array([-0.45485275, -0.1901041 , -0.45485275, -0.45485275, -0.33265671,\n",
       "       -0.1901041 , -0.45485275, -0.1901041 , -0.15485275, -0.1901041 ])"
      ]
     },
     "execution_count": 95,
     "metadata": {},
     "output_type": "execute_result"
    }
   ],
   "source": [
    "X_leaf_outputs.sum(axis=1)"
   ]
  },
  {
   "cell_type": "code",
   "execution_count": 94,
   "id": "ongoing-sixth",
   "metadata": {},
   "outputs": [
    {
     "data": {
      "text/plain": [
       "array([-0.45485273, -0.1901041 , -0.45485273, -0.45485273, -0.33265674,\n",
       "       -0.1901041 , -0.45485273, -0.1901041 , -0.1548527 , -0.1901041 ],\n",
       "      dtype=float32)"
      ]
     },
     "execution_count": 94,
     "metadata": {},
     "output_type": "execute_result"
    }
   ],
   "source": [
    "model.predict(X,output_margin=True)"
   ]
  },
  {
   "cell_type": "code",
   "execution_count": 108,
   "id": "described-appreciation",
   "metadata": {},
   "outputs": [
    {
     "data": {
      "text/plain": [
       "array([[0.4255575 , 0.39113286, 0.38941234, 0.3882076 ],\n",
       "       [0.5       , 0.5       , 0.47213534, 0.4526166 ],\n",
       "       [0.4255575 , 0.39113286, 0.38941234, 0.3882076 ],\n",
       "       [0.4255575 , 0.39113286, 0.38941234, 0.3882076 ],\n",
       "       [0.5       , 0.46442208, 0.43680802, 0.4175943 ],\n",
       "       [0.5       , 0.5       , 0.47213534, 0.4526166 ],\n",
       "       [0.4255575 , 0.39113286, 0.38941234, 0.3882076 ],\n",
       "       [0.5       , 0.5       , 0.47213534, 0.4526166 ],\n",
       "       [0.5       , 0.46442208, 0.46262413, 0.461364  ],\n",
       "       [0.5       , 0.5       , 0.47213534, 0.4526166 ]], dtype=float32)"
      ]
     },
     "execution_count": 108,
     "metadata": {},
     "output_type": "execute_result"
    }
   ],
   "source": [
    "model_preds = None\n",
    "for ix_tree in range(1,5):\n",
    "    preds_ix = model.predict_proba(X, ntree_limit=ix_tree)[:,1].reshape(-1,1)\n",
    "    if model_preds is None:\n",
    "        model_preds = preds_ix\n",
    "    else:\n",
    "        model_preds = np.hstack([model_preds, preds_ix])\n",
    "model_preds\n"
   ]
  },
  {
   "cell_type": "code",
   "execution_count": 91,
   "id": "every-debate",
   "metadata": {},
   "outputs": [
    {
     "data": {
      "text/plain": [
       "array([0.3882076, 0.4526166, 0.3882076, 0.3882076, 0.4175943, 0.4526166,\n",
       "       0.3882076, 0.4526166, 0.461364 , 0.4526166])"
      ]
     },
     "execution_count": 91,
     "metadata": {},
     "output_type": "execute_result"
    }
   ],
   "source": [
    "np.array([0.3882076, 0.4526166, 0.3882076, 0.3882076, 0.4175943, 0.4526166,\n",
    "       0.3882076, 0.4526166, 0.461364 , 0.4526166])"
   ]
  },
  {
   "cell_type": "code",
   "execution_count": 89,
   "id": "third-davis",
   "metadata": {},
   "outputs": [
    {
     "data": {
      "text/plain": [
       "array([0.3882076 , 0.45261659, 0.3882076 , 0.3882076 , 0.41759435,\n",
       "       0.45261659, 0.3882076 , 0.45261659, 0.46136399, 0.45261659])"
      ]
     },
     "execution_count": 89,
     "metadata": {},
     "output_type": "execute_result"
    }
   ],
   "source": [
    "compute_probability(X_leaf_outputs)"
   ]
  },
  {
   "cell_type": "code",
   "execution_count": 21,
   "id": "tropical-union",
   "metadata": {},
   "outputs": [
    {
     "data": {
      "text/plain": [
       "array([1, 2], dtype=int32)"
      ]
     },
     "metadata": {},
     "output_type": "display_data"
    },
    {
     "data": {
      "text/plain": [
       "array([-0.14373387,  0.12600707])"
      ]
     },
     "metadata": {},
     "output_type": "display_data"
    },
    {
     "data": {
      "text/plain": [
       "<AxesSubplot:>"
      ]
     },
     "execution_count": 21,
     "metadata": {},
     "output_type": "execute_result"
    },
    {
     "data": {
      "image/png": "[encoded data removed]",
      "text/plain": [
       "<Figure size 720x720 with 1 Axes>"
      ]
     },
     "metadata": {
      "needs_background": "light"
     },
     "output_type": "display_data"
    }
   ],
   "source": [
    "tree_index = 7\n",
    "\n",
    "display(np.unique(X_leafs[:,tree_index+1]))\n",
    "display(np.unique(X_leaf_outputs[:,tree_index+1]))\n",
    "\n",
    "fig, ax = plt.subplots(figsize = (10,10))\n",
    "xgb.plot_tree(model, ax = ax, num_trees = tree_index)"
   ]
  },
  {
   "cell_type": "markdown",
   "id": "precise-skill",
   "metadata": {},
   "source": [
    "# Run here the calculations"
   ]
  },
  {
   "cell_type": "code",
   "execution_count": 17,
   "id": "later-tonight",
   "metadata": {},
   "outputs": [
    {
     "data": {
      "text/plain": [
       "0.5"
      ]
     },
     "execution_count": 17,
     "metadata": {},
     "output_type": "execute_result"
    }
   ],
   "source": [
    "learning_rate = model_params[\"learning_rate\"]\n",
    "learning_rate"
   ]
  },
  {
   "cell_type": "markdown",
   "id": "unauthorized-sacrifice",
   "metadata": {},
   "source": [
    "# Old stuff "
   ]
  },
  {
   "cell_type": "code",
   "execution_count": 18,
   "id": "injured-jumping",
   "metadata": {},
   "outputs": [
    {
     "name": "stdout",
     "output_type": "stream",
     "text": [
      "start leaf = 0.0\n"
     ]
    },
    {
     "data": {
      "text/plain": [
       "array([[ 0.        , -1.        ,  0.5605147 ,  0.26686872, -0.06219737,\n",
       "         0.15644076, -0.15201405,  0.17064259, -0.14373387,  0.15785242,\n",
       "        -0.09867369],\n",
       "       [ 0.        ,  0.6       , -0.29141195,  0.26686872, -0.06219737,\n",
       "         0.15644076, -0.15201405,  0.17064259, -0.14373387,  0.15785242,\n",
       "        -0.09867369],\n",
       "       [ 0.        ,  0.6       ,  0.5605147 ,  0.05537248, -0.47601341,\n",
       "         0.15644076, -0.15201405,  0.17064259, -0.14373387,  0.15785242,\n",
       "        -0.09867369]])"
      ]
     },
     "execution_count": 18,
     "metadata": {},
     "output_type": "execute_result"
    }
   ],
   "source": [
    "X_leaf_outputs = recompute_leaves(X_leafs, X, y, model_params=model_params)\n",
    "#display the first three rows\n",
    "X_leaf_outputs[:3]"
   ]
  },
  {
   "cell_type": "code",
   "execution_count": 19,
   "id": "general-breed",
   "metadata": {},
   "outputs": [
    {
     "ename": "NameError",
     "evalue": "name 'compute_proability' is not defined",
     "output_type": "error",
     "traceback": [
      "\u001b[0;31m---------------------------------------------------------------------------\u001b[0m",
      "\u001b[0;31mNameError\u001b[0m                                 Traceback (most recent call last)",
      "\u001b[0;32m<ipython-input-19-1de4a6247917>\u001b[0m in \u001b[0;36m<module>\u001b[0;34m\u001b[0m\n\u001b[0;32m----> 1\u001b[0;31m \u001b[0mprob_first_tree\u001b[0m \u001b[0;34m=\u001b[0m \u001b[0mcompute_proability\u001b[0m\u001b[0;34m(\u001b[0m\u001b[0mX_leaf_outputs\u001b[0m\u001b[0;34m,\u001b[0m \u001b[0mlearning_rate\u001b[0m \u001b[0;34m=\u001b[0m \u001b[0;36m0.5\u001b[0m\u001b[0;34m,\u001b[0m \u001b[0mtree_index\u001b[0m \u001b[0;34m=\u001b[0m\u001b[0;36m1\u001b[0m\u001b[0;34m)\u001b[0m\u001b[0;34m\u001b[0m\u001b[0;34m\u001b[0m\u001b[0m\n\u001b[0m",
      "\u001b[0;31mNameError\u001b[0m: name 'compute_proability' is not defined"
     ]
    }
   ],
   "source": [
    "prob_first_tree = compute_proability(X_leaf_outputs, learning_rate = 0.5, tree_index =1)"
   ]
  },
  {
   "cell_type": "code",
   "execution_count": null,
   "id": "liquid-pennsylvania",
   "metadata": {},
   "outputs": [],
   "source": [
    "g_1, h_1 = logloss(prob_first_tree,y)"
   ]
  },
  {
   "cell_type": "code",
   "execution_count": null,
   "id": "least-manitoba",
   "metadata": {},
   "outputs": [],
   "source": []
  },
  {
   "cell_type": "code",
   "execution_count": null,
   "id": "amateur-medicare",
   "metadata": {},
   "outputs": [],
   "source": [
    "model_params['base_score']"
   ]
  },
  {
   "cell_type": "code",
   "execution_count": null,
   "id": "developing-freedom",
   "metadata": {},
   "outputs": [],
   "source": [
    "model.predict_proba(X, ntree_limit=1)[:,1]"
   ]
  },
  {
   "cell_type": "code",
   "execution_count": null,
   "id": "sublime-exhibition",
   "metadata": {},
   "outputs": [],
   "source": [
    "tree_index = 2\n",
    "\n",
    "print(\"whole array\")\n",
    "display(model.predict(X,output_margin=True, ntree_limit = tree_index))\n",
    "\n",
    "print(\"unqiues\")\n",
    "display(np.unique(model.predict(X,output_margin=True, ntree_limit = tree_index)))\n",
    "\n",
    "fig, ax = plt.subplots(figsize = (10,10))\n",
    "xgb.plot_tree(model, ax = ax, num_trees = tree_index-1)"
   ]
  },
  {
   "cell_type": "code",
   "execution_count": null,
   "id": "pressing-reducing",
   "metadata": {},
   "outputs": [],
   "source": [
    "X_leaf_outputs[:,1]"
   ]
  },
  {
   "cell_type": "code",
   "execution_count": null,
   "id": "collectible-tracy",
   "metadata": {},
   "outputs": [],
   "source": [
    "# COmpare the tree outputs and our calculation"
   ]
  },
  {
   "cell_type": "code",
   "execution_count": null,
   "id": "hawaiian-directive",
   "metadata": {},
   "outputs": [],
   "source": [
    "X_leaf_outputs[:,(tree_index+1)]"
   ]
  },
  {
   "cell_type": "code",
   "execution_count": null,
   "id": "functional-europe",
   "metadata": {},
   "outputs": [],
   "source": [
    "tree_index = 0\n",
    "\n",
    "display(np.unique(X_leafs[:,tree_index+1]))\n",
    "display(np.unique(X_leaf_outputs[:,tree_index+1]))\n",
    "\n",
    "fig, ax = plt.subplots(figsize = (10,10))\n",
    "xgb.plot_tree(model, ax = ax, num_trees = tree_index)"
   ]
  },
  {
   "cell_type": "markdown",
   "id": "underlying-printer",
   "metadata": {},
   "source": [
    "# Test If I am able to reconstruct the values using the probabilities"
   ]
  },
  {
   "cell_type": "code",
   "execution_count": null,
   "id": "sharing-radical",
   "metadata": {},
   "outputs": [],
   "source": []
  },
  {
   "cell_type": "code",
   "execution_count": null,
   "id": "signed-dietary",
   "metadata": {},
   "outputs": [],
   "source": [
    "from tboost.utils.loss_functions import _sigmoid, _logistic, loss_from_leaves, logloss\n",
    "from tboost.utils.boost import _calculate_leaf_values"
   ]
  },
  {
   "cell_type": "code",
   "execution_count": null,
   "id": "premium-fourth",
   "metadata": {},
   "outputs": [],
   "source": [
    "first_tree_pred = model.predict_proba(X, ntree_limit=2)[:,1]"
   ]
  },
  {
   "cell_type": "code",
   "execution_count": null,
   "id": "wooden-windsor",
   "metadata": {},
   "outputs": [],
   "source": [
    "g, h = logloss(first_tree_pred, y)"
   ]
  },
  {
   "cell_type": "code",
   "execution_count": null,
   "id": "trained-miracle",
   "metadata": {},
   "outputs": [],
   "source": [
    "X_leafs[:,2]"
   ]
  },
  {
   "cell_type": "code",
   "execution_count": null,
   "id": "governing-postcard",
   "metadata": {},
   "outputs": [],
   "source": [
    "leaf_vals = _calculate_leaf_values(X_leafs, g, h, tree_index = 2, model_params=model_params)\n",
    "leaf_vals"
   ]
  },
  {
   "cell_type": "code",
   "execution_count": null,
   "id": "premier-karma",
   "metadata": {},
   "outputs": [],
   "source": [
    "fig, ax = plt.subplots(figsize = (10,10))\n",
    "xgb.plot_tree(model, ax = ax, num_trees = 2)"
   ]
  },
  {
   "cell_type": "markdown",
   "id": "opening-directive",
   "metadata": {},
   "source": [
    "# try to compute the next tree values"
   ]
  },
  {
   "cell_type": "code",
   "execution_count": null,
   "id": "arctic-navigator",
   "metadata": {},
   "outputs": [],
   "source": [
    "np.log(first_tree_pred/(1-first_tree_pred)) + leaf_vals"
   ]
  },
  {
   "cell_type": "code",
   "execution_count": null,
   "id": "quality-shelf",
   "metadata": {},
   "outputs": [],
   "source": [
    "fig, ax = plt.subplots(figsize = (10,10))\n",
    "xgb.plot_tree(model, ax = ax, num_trees = 3)"
   ]
  },
  {
   "cell_type": "code",
   "execution_count": null,
   "id": "psychological-brush",
   "metadata": {},
   "outputs": [],
   "source": [
    "X.shape"
   ]
  },
  {
   "cell_type": "code",
   "execution_count": null,
   "id": "regular-final",
   "metadata": {},
   "outputs": [],
   "source": [
    "model_params"
   ]
  },
  {
   "cell_type": "code",
   "execution_count": null,
   "id": "facial-category",
   "metadata": {},
   "outputs": [],
   "source": [
    "from tboost.utils.loss_functions import _sigmoid, _logistic"
   ]
  },
  {
   "cell_type": "code",
   "execution_count": null,
   "id": "constant-formula",
   "metadata": {},
   "outputs": [],
   "source": [
    "model.predict_proba(X, ntree_limit=3)[:,1]"
   ]
  },
  {
   "cell_type": "code",
   "execution_count": null,
   "id": "experimental-contrary",
   "metadata": {},
   "outputs": [],
   "source": [
    "_logistic(X_leaf_outputs[:,:4].sum(axis=1))"
   ]
  },
  {
   "cell_type": "code",
   "execution_count": null,
   "id": "removed-simon",
   "metadata": {},
   "outputs": [],
   "source": [
    "# Check why the the "
   ]
  },
  {
   "cell_type": "code",
   "execution_count": null,
   "id": "iraqi-alarm",
   "metadata": {},
   "outputs": [],
   "source": [
    "X_leaf_outputs[:,1]"
   ]
  },
  {
   "cell_type": "code",
   "execution_count": null,
   "id": "monthly-nurse",
   "metadata": {},
   "outputs": [],
   "source": []
  },
  {
   "cell_type": "code",
   "execution_count": null,
   "id": "still-procedure",
   "metadata": {},
   "outputs": [],
   "source": [
    "np.unique(X_leaf_outputs[:,1])"
   ]
  },
  {
   "cell_type": "code",
   "execution_count": null,
   "id": "demographic-crisis",
   "metadata": {},
   "outputs": [],
   "source": [
    "fig, ax = plt.subplots(figsize = (10,10))\n",
    "xgb.plot_tree(model, ax = ax, num_trees = 3)"
   ]
  },
  {
   "cell_type": "raw",
   "id": "secure-driving",
   "metadata": {},
   "source": [
    "def recompute_leaves(model, X, y):\n",
    "    start_pred = 0.5 * np.ones(shape=X.shape[0])\n",
    "    print(start_pred.shape)\n",
    "\n",
    "    leaf = model.predict(X, pred_leaf=True)\n",
    "\n",
    "    n_trees = leaf.shape[1]\n",
    "    print(n_trees)\n",
    "\n",
    "    pred = start_pred\n",
    "    g, h = loglikelihoodloss(y, pred)\n",
    "\n",
    "    return leaf, g, h\n",
    "\n",
    "def recompute_leaves(model, X, y):\n",
    "    start_pred = np.ones(shape = X.shape[0])\n",
    "    print(start_pred.shape)\n",
    "    \n",
    "    try:\n",
    "        leaves = model.predict(X,pred_leaf=True)\n",
    "    except:\n",
    "        leaves = model.apply(X)\n",
    "    \n",
    "    n_trees = leaves.shape[1]\n",
    "    print(n_trees)\n",
    "    \n",
    "    pred = start_pred\n",
    "#     g,h = logloss_from_leaves(pred, y)\n",
    "\n",
    "    preds = list()\n",
    "    preds.append(pred)\n",
    "    \n",
    "    pred_array = pred.reshape(-1,1)\n",
    "    \n",
    "    for tree_index in range(n_trees):\n",
    "        \n",
    "        prev_pred = pred_array.sum(axis=1)\n",
    "        g,h = logloss_from_leaves(prev_pred, y)\n",
    "        pred = return_leaf(leaves, g, h, tree_index=tree_index, model_params = model.get_params())\n",
    "        preds.append(pred)\n",
    "        \n",
    "        pred_array = np.hstack([pred_array, pred.reshape(-1,1)])\n",
    "        print(pred_array.shape)\n",
    "        \n",
    "   \n",
    "\n",
    "    model_leaves = np.transpose(reduce(lambda x,y: np.vstack([x,y]),preds))#[:,1:]\n",
    "    \n",
    "    return  leaves, model_leaves, pred_array"
   ]
  },
  {
   "cell_type": "code",
   "execution_count": null,
   "id": "automatic-sphere",
   "metadata": {},
   "outputs": [],
   "source": [
    "from functools import reduce\n",
    "\n",
    "def plot_proba_evol(X,y,model, max_n_trees=500):\n",
    "    arrays = list()\n",
    "    for ix in range(1,max_n_trees+1):\n",
    "        try:\n",
    "            pred_ix = model.predict_proba(X, num_iteration=ix)[:,1]\n",
    "        except:\n",
    "            pred_ix = model.predict_proba(X, ntree_limit=ix)[:,1]\n",
    "        arrays.append(pred_ix)\n",
    "    return np.transpose(reduce(lambda x,y: np.vstack((x,y)),arrays))        \n",
    "        \n",
    "    \n",
    "def find_pred_trend(X,y,model, max_n_trees = 500):\n",
    "    \n",
    "    proba_trees = plot_proba_evol(X,y,model, max_n_trees=max_n_trees)\n",
    "    \n",
    "#     return proba_trees\n",
    "    \n",
    "    mean_y_0 = proba_trees[y.values==0].mean(axis=0)\n",
    "    std_y_0 = proba_trees[y.values==0].std(axis=0)\n",
    "\n",
    "    mean_y_1 = proba_trees[y.values==1].mean(axis=0)\n",
    "    std_y_1 = proba_trees[y.values==1].std(axis=0)\n",
    "    \n",
    "    return mean_y_0, std_y_0, mean_y_1, std_y_1"
   ]
  },
  {
   "cell_type": "code",
   "execution_count": null,
   "id": "dominant-alaska",
   "metadata": {},
   "outputs": [],
   "source": [
    "y.value_counts()"
   ]
  },
  {
   "cell_type": "code",
   "execution_count": null,
   "id": "sorted-wedding",
   "metadata": {},
   "outputs": [],
   "source": [
    "mean_y_zero_train_1, std_y_zero_train_1, mean_y_one_train_1, std_y_one_train_1 = find_pred_trend(X,y,model,max_n_trees=10)\n",
    "mean_y_zero_1, std_y_zero_1, mean_y_one_1, std_y_one_1 = find_pred_trend(X,y,model,max_n_trees=10)\n",
    "\n",
    "\n",
    "x = [i for i in range(1, mean_y_zero_train_1.shape[0]+1)]\n",
    "\n",
    "fig, ax = plt.subplots(figsize=(12,8))\n",
    "\n",
    "ax.plot(x,mean_y_zero_train_1, label = \"y=0 train\", color='orange', linestyle='--')\n",
    "ax.fill_between(x, mean_y_zero_train_1-std_y_zero_train_1, mean_y_zero_train_1+std_y_zero_train_1, color='orange',alpha=0.2)\n",
    "\n",
    "ax.plot(x,mean_y_one_train_1, label = \"y=1 train\", color='blue',linestyle='--')\n",
    "ax.fill_between(x, mean_y_one_train_1-std_y_one_train_1, mean_y_one_train_1+std_y_zero_train_1, color='blue',alpha=0.2)\n",
    "ax.plot(x,mean_y_zero_1, label = \"y=0\", color='orange')\n",
    "ax.plot(x,mean_y_one_1, label = \"y=1\", color='blue')\n",
    "\n",
    "\n",
    "ax.legend()\n",
    "\n",
    "# ax[1].plot(std_y_zero_train_1, label = \"y=0 train\", color='orange', linestyle='--')\n",
    "# ax[1].plot(std_y_one_train_1, label = \"y=1 train\", color='blue',linestyle='--')\n",
    "# ax[1].plot(std_y_zero_1, label = \"y=0\", color='orange')\n",
    "# ax[1].plot(std_y_one_1, label = \"y=1\", color='blue')"
   ]
  },
  {
   "cell_type": "raw",
   "id": "piano-undergraduate",
   "metadata": {},
   "source": [
    "def logloss(y_pred, y_true):\n",
    "    \"\"\"Return the gradient and hessian of the log loss.\n",
    "\n",
    "    Args:\n",
    "        y_pred (np.array or pd.Series): predictions for the observations, in the range [0,1]\n",
    "        y_true (np.array or pd.Series): true label for the observations\n",
    "\n",
    "    Returns:\n",
    "        tuple: (np.array, np.array), gradient and hessian for the observations\n",
    "    \"\"\"\n",
    "#     prob = 1.0 / (1.0 + np.exp(-y_pred))\n",
    "\n",
    "    if isinstance(y_pred, pd.Series):\n",
    "        y_pred = y_pred.values\n",
    "    if isinstance(y_true, pd.Series):\n",
    "        y_true = y_true.values\n",
    "    grad = y_true - y_pred\n",
    "    hess = y_pred * (1.0 - y_pred)\n",
    "    return grad, hess\n",
    "\n",
    "def recompute_leaves(model, X, y):\n",
    "    start_pred = 0.5*np.ones(shape = X.shape[0])\n",
    "    print(start_pred.shape)\n",
    "    \n",
    "    try:\n",
    "        leaf = model.predict(X,pred_leaf=True)\n",
    "    except:\n",
    "        leaf = model.apply(X)\n",
    "    \n",
    "    n_trees = leaf.shape[1]\n",
    "    print(n_trees)\n",
    "    \n",
    "    pred = start_pred\n",
    "    g,h = logloss(pred, y)\n",
    "    \n",
    "    return  leaf,g,h"
   ]
  },
  {
   "cell_type": "raw",
   "id": "quality-effectiveness",
   "metadata": {},
   "source": [
    "l, g, h = recompute_leaves(model, X, y)"
   ]
  },
  {
   "cell_type": "raw",
   "id": "chief-drinking",
   "metadata": {},
   "source": [
    "l"
   ]
  },
  {
   "cell_type": "code",
   "execution_count": null,
   "id": "secondary-break",
   "metadata": {},
   "outputs": [],
   "source": []
  },
  {
   "cell_type": "code",
   "execution_count": null,
   "id": "reliable-virtue",
   "metadata": {},
   "outputs": [],
   "source": [
    "fig, ax = plt.subplots(figsize = (10,10))\n",
    "xgb.plot_tree(model, ax = ax, num_trees = 0)"
   ]
  },
  {
   "cell_type": "code",
   "execution_count": null,
   "id": "material-perry",
   "metadata": {},
   "outputs": [],
   "source": [
    "Stop here"
   ]
  },
  {
   "cell_type": "code",
   "execution_count": null,
   "id": "blocked-robinson",
   "metadata": {},
   "outputs": [],
   "source": [
    "model.learning_rate"
   ]
  },
  {
   "cell_type": "code",
   "execution_count": null,
   "id": "charming-hammer",
   "metadata": {},
   "outputs": [],
   "source": [
    "tree_index = 0\n",
    "reg_lambda = 0\n",
    "leaf_outs = {}\n",
    "leaves = l[:,tree_index]\n",
    "for leave_ix in np.unique(leaves):\n",
    "    leaf_outs[leave_ix] = 0.3*g[leaves==leave_ix].sum()/(h[leaves==leave_ix].sum() + reg_lambda)\n",
    "    \n",
    "leaf_outs"
   ]
  },
  {
   "cell_type": "code",
   "execution_count": null,
   "id": "reliable-dispute",
   "metadata": {},
   "outputs": [],
   "source": [
    "g[leaves==4].sum()"
   ]
  },
  {
   "cell_type": "code",
   "execution_count": null,
   "id": "vital-reliance",
   "metadata": {},
   "outputs": [],
   "source": []
  }
 ],
 "metadata": {
  "kernelspec": {
   "display_name": "Python 3",
   "language": "python",
   "name": "python3"
  },
  "language_info": {
   "codemirror_mode": {
    "name": "ipython",
    "version": 3
   },
   "file_extension": ".py",
   "mimetype": "text/x-python",
   "name": "python",
   "nbconvert_exporter": "python",
   "pygments_lexer": "ipython3",
   "version": "3.8.3"
  }
 },
 "nbformat": 4,
 "nbformat_minor": 5
}
