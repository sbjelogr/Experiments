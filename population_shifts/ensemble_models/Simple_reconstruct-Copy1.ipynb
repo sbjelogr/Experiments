{
 "cells": [
  {
   "cell_type": "code",
   "execution_count": 1,
   "id": "noble-personality",
   "metadata": {},
   "outputs": [
    {
     "data": {
      "text/html": [
       "<style>.container {width:85% !important;}</style>"
      ],
      "text/plain": [
       "<IPython.core.display.HTML object>"
      ]
     },
     "metadata": {},
     "output_type": "display_data"
    }
   ],
   "source": [
    "from IPython.core.display import display, HTML\n",
    "display(HTML(\"<style>.container {width:85% !important;}</style>\"))\n",
    "\n",
    "%load_ext autoreload\n",
    "%autoreload 2\n",
    "%matplotlib inline\n",
    "\n",
    "import logging\n",
    "\n",
    "from sklearn.datasets import make_classification\n",
    "\n",
    "import pandas as pd\n",
    "import numpy as np\n",
    "import matplotlib.pyplot as plt\n",
    "\n",
    "import lightgbm as lgb\n",
    "from sklearn.model_selection import train_test_split\n",
    "\n",
    "from sklearn.preprocessing import MinMaxScaler, StandardScaler"
   ]
  },
  {
   "cell_type": "code",
   "execution_count": 2,
   "id": "cardiovascular-lodge",
   "metadata": {},
   "outputs": [],
   "source": [
    "import tboost"
   ]
  },
  {
   "cell_type": "code",
   "execution_count": 3,
   "id": "identical-response",
   "metadata": {},
   "outputs": [],
   "source": [
    "import targen"
   ]
  },
  {
   "cell_type": "code",
   "execution_count": 4,
   "id": "consistent-artwork",
   "metadata": {},
   "outputs": [
    {
     "data": {
      "text/plain": [
       "['/Users/sandro/Analytics/Packages/TransferBoost/tboost']"
      ]
     },
     "execution_count": 4,
     "metadata": {},
     "output_type": "execute_result"
    }
   ],
   "source": [
    "tboost.__path__"
   ]
  },
  {
   "cell_type": "code",
   "execution_count": 5,
   "id": "mounted-ensemble",
   "metadata": {},
   "outputs": [],
   "source": [
    "from helpers import gen_samples, setup_logging, shift_features, psi\n",
    "\n",
    "setup_logging()"
   ]
  },
  {
   "cell_type": "code",
   "execution_count": 6,
   "id": "champion-objective",
   "metadata": {},
   "outputs": [
    {
     "name": "stderr",
     "output_type": "stream",
     "text": [
      "2021-03-01 16:19:56 - INFO - gen_samples: Generating 2 exponential features with 20 rows\n",
      "2021-03-01 16:19:56 - INFO - gen_samples: Generating 1 uniform features with 20 rows\n",
      "2021-03-01 16:19:56 - INFO - gen_samples: Generating 1 normal features with 20 rows\n"
     ]
    }
   ],
   "source": [
    "data_raw = gen_samples(n_samples = 20, n_exp = 2, n_unif =1, n_normal = 1)\n",
    "data_raw = data_raw.reset_index().rename(columns={\"index\":\"time_col\"})"
   ]
  },
  {
   "cell_type": "code",
   "execution_count": 7,
   "id": "generic-empty",
   "metadata": {},
   "outputs": [],
   "source": [
    "make_copy = lambda x: x.copy()\n",
    "\n",
    "data = (\n",
    "    data_raw\n",
    "    .pipe(make_copy)\n",
    "    .pipe(shift_features, cols_to_shift = data_raw.columns, min_max_scaler_range=(1,100))\n",
    ")\n",
    "\n",
    "features = [col for col in data_raw.columns if col.startswith(\"col_\")]"
   ]
  },
  {
   "cell_type": "code",
   "execution_count": 8,
   "id": "owned-baptist",
   "metadata": {},
   "outputs": [
    {
     "data": {
      "text/plain": [
       "['col_exp_0', 'col_exp_1', 'col_uni_0', 'col_norm_0']"
      ]
     },
     "execution_count": 8,
     "metadata": {},
     "output_type": "execute_result"
    }
   ],
   "source": [
    "features"
   ]
  },
  {
   "cell_type": "markdown",
   "id": "controlling-abraham",
   "metadata": {},
   "source": [
    "# Add targets"
   ]
  },
  {
   "cell_type": "code",
   "execution_count": 9,
   "id": "celtic-reverse",
   "metadata": {},
   "outputs": [],
   "source": [
    "from targen.data import target"
   ]
  },
  {
   "cell_type": "code",
   "execution_count": 10,
   "id": "spread-longitude",
   "metadata": {},
   "outputs": [],
   "source": [
    "interaction_terms_1 = \"\".join([\n",
    "    \"2.5*col_exp_0*col_exp_1\",\n",
    "    \"-0.2*col_uni_0*col_exp_1\",\n",
    "    \"+0.7*col_norm_0*col_exp_1\",\n",
    "    \n",
    "    \"+0.8*col_norm_0*col_uni_0\", #\n",
    "    \"-1.3*col_uni_0/col_exp_1\", # the shift shoul reduce here the effect  \n",
    "])\n",
    "\n",
    "expressions_1 = {\n",
    "    'linear': '-0.5*col_exp_0 + 2*col_uni_0 -3.2*col_norm_0',\n",
    "    \n",
    "    'interaction': interaction_terms_1,\n",
    "    \n",
    "    'uniform_noise': {\n",
    "        'weight':7.7\n",
    "    },\n",
    "    'gaussian_noise': {\n",
    "        'weight':12.4,\n",
    "        'mu_gaus': -1.5\n",
    "    }\n",
    "}"
   ]
  },
  {
   "cell_type": "code",
   "execution_count": 11,
   "id": "baking-probability",
   "metadata": {},
   "outputs": [],
   "source": [
    "data_y_1 = target.get_target_and_contributions(data, expressions=expressions_1, imbalance = 0.4, \n",
    "                                             drop_features=False)"
   ]
  },
  {
   "cell_type": "code",
   "execution_count": 12,
   "id": "referenced-movie",
   "metadata": {},
   "outputs": [],
   "source": [
    "X, y = data_y_1[features],data_y_1['y']"
   ]
  },
  {
   "cell_type": "code",
   "execution_count": 13,
   "id": "classified-float",
   "metadata": {},
   "outputs": [
    {
     "name": "stdout",
     "output_type": "stream",
     "text": [
      "Requirement already satisfied: xgboost in /Users/sandro/.miniconda/installation/lib/python3.8/site-packages (1.3.3)\n",
      "Requirement already satisfied: scipy in /Users/sandro/.miniconda/installation/lib/python3.8/site-packages (from xgboost) (1.6.1)\n",
      "Requirement already satisfied: numpy in /Users/sandro/.miniconda/installation/lib/python3.8/site-packages (from xgboost) (1.20.1)\n"
     ]
    }
   ],
   "source": [
    "! pip install xgboost"
   ]
  },
  {
   "cell_type": "code",
   "execution_count": 14,
   "id": "supported-heating",
   "metadata": {},
   "outputs": [
    {
     "name": "stdout",
     "output_type": "stream",
     "text": [
      "1\n",
      "[16:19:58] WARNING: /Users/travis/build/dmlc/xgboost/src/learner.cc:541: \n",
      "Parameters: { min_child_samples, num_leaves } might not be used.\n",
      "\n",
      "  This may not be accurate due to some parameters are only used in language bindings but\n",
      "  passed down to XGBoost core.  Or some parameters are not used but slip through this\n",
      "  verification. Please open an issue if you find above cases.\n",
      "\n",
      "\n",
      "[0]\tvalidation_0-auc:0.81771\tvalidation_0-logloss:0.55632\n",
      "[9]\tvalidation_0-auc:0.98958\tvalidation_0-logloss:0.27337\n"
     ]
    },
    {
     "name": "stderr",
     "output_type": "stream",
     "text": [
      "/Users/sandro/.miniconda/installation/lib/python3.8/site-packages/xgboost/sklearn.py:888: UserWarning: The use of label encoder in XGBClassifier is deprecated and will be removed in a future release. To remove this warning, do the following: 1) Pass option use_label_encoder=False when constructing XGBClassifier object; and 2) Encode your labels (y) as integers starting with 0, i.e. 0, 1, 2, ..., [num_class - 1].\n",
      "  warnings.warn(label_encoder_deprecation_msg, UserWarning)\n"
     ]
    },
    {
     "data": {
      "text/plain": [
       "<matplotlib.legend.Legend at 0x7ff44a7817c0>"
      ]
     },
     "execution_count": 14,
     "metadata": {},
     "output_type": "execute_result"
    },
    {
     "data": {
      "image/png": "[encoded data removed]",
      "text/plain": [
       "<Figure size 1296x576 with 2 Axes>"
      ]
     },
     "metadata": {
      "needs_background": "light"
     },
     "output_type": "display_data"
    }
   ],
   "source": [
    "import xgboost as xgb\n",
    "\n",
    "min_frac =int(0.05*X.shape[0])\n",
    "print(min_frac)\n",
    "\n",
    "model = xgb.XGBClassifier(\n",
    "    max_depth = 2,\n",
    "    reg_lambda = 0,\n",
    "    num_leaves=4,\n",
    "    n_estimators=10,\n",
    "    min_child_samples=min_frac,\n",
    "    learning_rate=0.5\n",
    ")\n",
    "\n",
    "eval_set = [(X,y)]\n",
    "model.fit(\n",
    "    X,\n",
    "    y,\n",
    "    eval_metric=[\"auc\",\"logloss\"], \n",
    "#     eval_names = ['validation_0','validation_1'],\n",
    "    eval_set=eval_set, \n",
    "    verbose=30, # after how many training sets you want the printout on the console\n",
    "    early_stopping_rounds=39\n",
    ")\n",
    "\n",
    "fig, ax = plt.subplots(1,2,figsize=(18,8))\n",
    "\n",
    "\n",
    "ax[0].plot(model.evals_result_['validation_0']['logloss'], label = \"training target\")\n",
    "# ax[0].plot(model.evals_result_['validation_1']['logloss'], label = \"test target\")\n",
    "\n",
    "ax[1].plot(model.evals_result_['validation_0']['auc'])\n",
    "# ax[1].plot(model.evals_result_['validation_1']['auc'])\n",
    "ax[0].legend()"
   ]
  },
  {
   "cell_type": "code",
   "execution_count": 15,
   "id": "pretty-survey",
   "metadata": {},
   "outputs": [],
   "source": [
    "from tboost.utils.boost import recompute_leaves"
   ]
  },
  {
   "cell_type": "code",
   "execution_count": 16,
   "id": "ordered-smile",
   "metadata": {},
   "outputs": [
    {
     "ename": "SyntaxError",
     "evalue": "invalid syntax (<ipython-input-16-a96ba3aab008>, line 1)",
     "output_type": "error",
     "traceback": [
      "\u001b[0;36m  File \u001b[0;32m\"<ipython-input-16-a96ba3aab008>\"\u001b[0;36m, line \u001b[0;32m1\u001b[0m\n\u001b[0;31m    stop here\u001b[0m\n\u001b[0m         ^\u001b[0m\n\u001b[0;31mSyntaxError\u001b[0m\u001b[0;31m:\u001b[0m invalid syntax\n"
     ]
    }
   ],
   "source": [
    "stop here"
   ]
  },
  {
   "cell_type": "code",
   "execution_count": 21,
   "id": "southern-patent",
   "metadata": {},
   "outputs": [
    {
     "data": {
      "text/plain": [
       "array([[4, 3, 2, 3, 2, 2, 1, 4, 2, 2],\n",
       "       [2, 4, 4, 2, 1, 1, 2, 2, 4, 1],\n",
       "       [2, 1, 2, 2, 2, 1, 2, 2, 2, 2],\n",
       "       [3, 3, 4, 3, 1, 1, 1, 3, 3, 1],\n",
       "       [3, 3, 4, 3, 1, 1, 1, 4, 3, 1],\n",
       "       [2, 4, 2, 2, 2, 1, 2, 2, 4, 2],\n",
       "       [4, 1, 3, 3, 1, 2, 1, 3, 3, 1],\n",
       "       [4, 1, 3, 4, 1, 2, 2, 3, 4, 1],\n",
       "       [3, 4, 2, 4, 2, 1, 2, 4, 2, 2],\n",
       "       [4, 1, 3, 3, 1, 2, 1, 3, 3, 1],\n",
       "       [2, 3, 3, 2, 1, 2, 2, 2, 4, 1],\n",
       "       [3, 4, 2, 3, 2, 1, 1, 4, 3, 2],\n",
       "       [3, 3, 4, 3, 1, 1, 1, 3, 3, 1],\n",
       "       [3, 3, 4, 3, 1, 1, 1, 3, 4, 1],\n",
       "       [3, 3, 3, 3, 1, 1, 1, 3, 3, 1],\n",
       "       [2, 1, 2, 2, 2, 1, 2, 2, 2, 2],\n",
       "       [3, 4, 2, 4, 2, 1, 2, 2, 2, 2],\n",
       "       [3, 3, 2, 4, 2, 1, 2, 4, 2, 2],\n",
       "       [4, 4, 2, 3, 2, 2, 1, 4, 2, 2],\n",
       "       [4, 3, 4, 4, 1, 2, 2, 3, 4, 1]], dtype=int32)"
      ]
     },
     "metadata": {},
     "output_type": "display_data"
    }
   ],
   "source": [
    "X_leafs = model.apply(X)\n",
    "model_params = model.get_params()\n",
    "display(X_leafs)\n"
   ]
  },
  {
   "cell_type": "code",
   "execution_count": 22,
   "id": "prerequisite-synthetic",
   "metadata": {},
   "outputs": [
    {
     "name": "stdout",
     "output_type": "stream",
     "text": [
      "start leaf = 0.0\n"
     ]
    },
    {
     "name": "stderr",
     "output_type": "stream",
     "text": [
      "/Users/sandro/Analytics/Packages/TransferBoost/tboost/utils/boost.py:32: RuntimeWarning: divide by zero encountered in double_scalars\n",
      "  -learning_rate * grad[leaves == leave_ix].sum() / (hess[leaves == leave_ix].sum() + reg_lambda)\n",
      "/Users/sandro/Analytics/Packages/TransferBoost/tboost/utils/loss_functions.py:47: RuntimeWarning: invalid value encountered in true_divide\n",
      "  return np.exp(x)/(1.0 + np.exp(x))\n"
     ]
    }
   ],
   "source": [
    "\n",
    "X_leaf_outputs = recompute_leaves(X_leafs, X, y, model_params=model_params)"
   ]
  },
  {
   "cell_type": "code",
   "execution_count": 25,
   "id": "invalid-disaster",
   "metadata": {},
   "outputs": [
    {
     "data": {
      "text/plain": [
       "array([2, 3, 4], dtype=int32)"
      ]
     },
     "metadata": {},
     "output_type": "display_data"
    },
    {
     "data": {
      "text/plain": [
       "array([-0.74170229,  0.09754784,  1.10370154])"
      ]
     },
     "metadata": {},
     "output_type": "display_data"
    },
    {
     "data": {
      "text/plain": [
       "<AxesSubplot:>"
      ]
     },
     "execution_count": 25,
     "metadata": {},
     "output_type": "execute_result"
    },
    {
     "data": {
      "image/png": "[encoded data removed]",
      "text/plain": [
       "<Figure size 720x720 with 1 Axes>"
      ]
     },
     "metadata": {
      "needs_background": "light"
     },
     "output_type": "display_data"
    }
   ],
   "source": [
    "tree_index = 1\n",
    "\n",
    "display(np.unique(X_leafs[:,tree_index+1]))\n",
    "display(np.unique(X_leaf_outputs[:,tree_index+1]))\n",
    "\n",
    "fig, ax = plt.subplots(figsize = (10,10))\n",
    "xgb.plot_tree(model, ax = ax, num_trees = tree_index)"
   ]
  },
  {
   "cell_type": "code",
   "execution_count": null,
   "id": "lined-senate",
   "metadata": {},
   "outputs": [],
   "source": [
    "X.shape"
   ]
  },
  {
   "cell_type": "code",
   "execution_count": null,
   "id": "defensive-serve",
   "metadata": {},
   "outputs": [],
   "source": [
    "model_params"
   ]
  },
  {
   "cell_type": "code",
   "execution_count": null,
   "id": "protective-durham",
   "metadata": {},
   "outputs": [],
   "source": [
    "from tboost.utils.loss_functions import _sigmoid, _logistic"
   ]
  },
  {
   "cell_type": "code",
   "execution_count": null,
   "id": "illegal-blank",
   "metadata": {},
   "outputs": [],
   "source": [
    "model.predict_proba(X, ntree_limit=3)[:,1]"
   ]
  },
  {
   "cell_type": "code",
   "execution_count": null,
   "id": "foster-banner",
   "metadata": {},
   "outputs": [],
   "source": [
    "_logistic(X_leaf_outputs[:,:4].sum(axis=1))"
   ]
  },
  {
   "cell_type": "code",
   "execution_count": null,
   "id": "static-protest",
   "metadata": {},
   "outputs": [],
   "source": [
    "# Check why the the "
   ]
  },
  {
   "cell_type": "code",
   "execution_count": null,
   "id": "greatest-collar",
   "metadata": {},
   "outputs": [],
   "source": [
    "X_leaf_outputs[:,1]"
   ]
  },
  {
   "cell_type": "code",
   "execution_count": null,
   "id": "differential-opening",
   "metadata": {},
   "outputs": [],
   "source": []
  },
  {
   "cell_type": "code",
   "execution_count": null,
   "id": "dried-intake",
   "metadata": {},
   "outputs": [],
   "source": [
    "np.unique(X_leaf_outputs[:,1])"
   ]
  },
  {
   "cell_type": "code",
   "execution_count": null,
   "id": "moved-employer",
   "metadata": {},
   "outputs": [],
   "source": [
    "fig, ax = plt.subplots(figsize = (10,10))\n",
    "xgb.plot_tree(model, ax = ax, num_trees = 3)"
   ]
  },
  {
   "cell_type": "raw",
   "id": "normal-stockholm",
   "metadata": {},
   "source": [
    "def recompute_leaves(model, X, y):\n",
    "    start_pred = 0.5 * np.ones(shape=X.shape[0])\n",
    "    print(start_pred.shape)\n",
    "\n",
    "    leaf = model.predict(X, pred_leaf=True)\n",
    "\n",
    "    n_trees = leaf.shape[1]\n",
    "    print(n_trees)\n",
    "\n",
    "    pred = start_pred\n",
    "    g, h = loglikelihoodloss(y, pred)\n",
    "\n",
    "    return leaf, g, h\n",
    "\n",
    "def recompute_leaves(model, X, y):\n",
    "    start_pred = np.ones(shape = X.shape[0])\n",
    "    print(start_pred.shape)\n",
    "    \n",
    "    try:\n",
    "        leaves = model.predict(X,pred_leaf=True)\n",
    "    except:\n",
    "        leaves = model.apply(X)\n",
    "    \n",
    "    n_trees = leaves.shape[1]\n",
    "    print(n_trees)\n",
    "    \n",
    "    pred = start_pred\n",
    "#     g,h = logloss_from_leaves(pred, y)\n",
    "\n",
    "    preds = list()\n",
    "    preds.append(pred)\n",
    "    \n",
    "    pred_array = pred.reshape(-1,1)\n",
    "    \n",
    "    for tree_index in range(n_trees):\n",
    "        \n",
    "        prev_pred = pred_array.sum(axis=1)\n",
    "        g,h = logloss_from_leaves(prev_pred, y)\n",
    "        pred = return_leaf(leaves, g, h, tree_index=tree_index, model_params = model.get_params())\n",
    "        preds.append(pred)\n",
    "        \n",
    "        pred_array = np.hstack([pred_array, pred.reshape(-1,1)])\n",
    "        print(pred_array.shape)\n",
    "        \n",
    "   \n",
    "\n",
    "    model_leaves = np.transpose(reduce(lambda x,y: np.vstack([x,y]),preds))#[:,1:]\n",
    "    \n",
    "    return  leaves, model_leaves, pred_array"
   ]
  },
  {
   "cell_type": "code",
   "execution_count": null,
   "id": "arabic-elements",
   "metadata": {},
   "outputs": [],
   "source": [
    "from functools import reduce\n",
    "\n",
    "def plot_proba_evol(X,y,model, max_n_trees=500):\n",
    "    arrays = list()\n",
    "    for ix in range(1,max_n_trees+1):\n",
    "        try:\n",
    "            pred_ix = model.predict_proba(X, num_iteration=ix)[:,1]\n",
    "        except:\n",
    "            pred_ix = model.predict_proba(X, ntree_limit=ix)[:,1]\n",
    "        arrays.append(pred_ix)\n",
    "    return np.transpose(reduce(lambda x,y: np.vstack((x,y)),arrays))        \n",
    "        \n",
    "    \n",
    "def find_pred_trend(X,y,model, max_n_trees = 500):\n",
    "    \n",
    "    proba_trees = plot_proba_evol(X,y,model, max_n_trees=max_n_trees)\n",
    "    \n",
    "#     return proba_trees\n",
    "    \n",
    "    mean_y_0 = proba_trees[y.values==0].mean(axis=0)\n",
    "    std_y_0 = proba_trees[y.values==0].std(axis=0)\n",
    "\n",
    "    mean_y_1 = proba_trees[y.values==1].mean(axis=0)\n",
    "    std_y_1 = proba_trees[y.values==1].std(axis=0)\n",
    "    \n",
    "    return mean_y_0, std_y_0, mean_y_1, std_y_1"
   ]
  },
  {
   "cell_type": "code",
   "execution_count": null,
   "id": "german-contribution",
   "metadata": {},
   "outputs": [],
   "source": [
    "y.value_counts()"
   ]
  },
  {
   "cell_type": "code",
   "execution_count": null,
   "id": "personal-fusion",
   "metadata": {},
   "outputs": [],
   "source": [
    "mean_y_zero_train_1, std_y_zero_train_1, mean_y_one_train_1, std_y_one_train_1 = find_pred_trend(X,y,model,max_n_trees=10)\n",
    "mean_y_zero_1, std_y_zero_1, mean_y_one_1, std_y_one_1 = find_pred_trend(X,y,model,max_n_trees=10)\n",
    "\n",
    "\n",
    "x = [i for i in range(1, mean_y_zero_train_1.shape[0]+1)]\n",
    "\n",
    "fig, ax = plt.subplots(figsize=(12,8))\n",
    "\n",
    "ax.plot(x,mean_y_zero_train_1, label = \"y=0 train\", color='orange', linestyle='--')\n",
    "ax.fill_between(x, mean_y_zero_train_1-std_y_zero_train_1, mean_y_zero_train_1+std_y_zero_train_1, color='orange',alpha=0.2)\n",
    "\n",
    "ax.plot(x,mean_y_one_train_1, label = \"y=1 train\", color='blue',linestyle='--')\n",
    "ax.fill_between(x, mean_y_one_train_1-std_y_one_train_1, mean_y_one_train_1+std_y_zero_train_1, color='blue',alpha=0.2)\n",
    "ax.plot(x,mean_y_zero_1, label = \"y=0\", color='orange')\n",
    "ax.plot(x,mean_y_one_1, label = \"y=1\", color='blue')\n",
    "\n",
    "\n",
    "ax.legend()\n",
    "\n",
    "# ax[1].plot(std_y_zero_train_1, label = \"y=0 train\", color='orange', linestyle='--')\n",
    "# ax[1].plot(std_y_one_train_1, label = \"y=1 train\", color='blue',linestyle='--')\n",
    "# ax[1].plot(std_y_zero_1, label = \"y=0\", color='orange')\n",
    "# ax[1].plot(std_y_one_1, label = \"y=1\", color='blue')"
   ]
  },
  {
   "cell_type": "raw",
   "id": "interesting-aquarium",
   "metadata": {},
   "source": [
    "def logloss(y_pred, y_true):\n",
    "    \"\"\"Return the gradient and hessian of the log loss.\n",
    "\n",
    "    Args:\n",
    "        y_pred (np.array or pd.Series): predictions for the observations, in the range [0,1]\n",
    "        y_true (np.array or pd.Series): true label for the observations\n",
    "\n",
    "    Returns:\n",
    "        tuple: (np.array, np.array), gradient and hessian for the observations\n",
    "    \"\"\"\n",
    "#     prob = 1.0 / (1.0 + np.exp(-y_pred))\n",
    "\n",
    "    if isinstance(y_pred, pd.Series):\n",
    "        y_pred = y_pred.values\n",
    "    if isinstance(y_true, pd.Series):\n",
    "        y_true = y_true.values\n",
    "    grad = y_true - y_pred\n",
    "    hess = y_pred * (1.0 - y_pred)\n",
    "    return grad, hess\n",
    "\n",
    "def recompute_leaves(model, X, y):\n",
    "    start_pred = 0.5*np.ones(shape = X.shape[0])\n",
    "    print(start_pred.shape)\n",
    "    \n",
    "    try:\n",
    "        leaf = model.predict(X,pred_leaf=True)\n",
    "    except:\n",
    "        leaf = model.apply(X)\n",
    "    \n",
    "    n_trees = leaf.shape[1]\n",
    "    print(n_trees)\n",
    "    \n",
    "    pred = start_pred\n",
    "    g,h = logloss(pred, y)\n",
    "    \n",
    "    return  leaf,g,h"
   ]
  },
  {
   "cell_type": "raw",
   "id": "designing-ivory",
   "metadata": {},
   "source": [
    "l, g, h = recompute_leaves(model, X, y)"
   ]
  },
  {
   "cell_type": "raw",
   "id": "scientific-creature",
   "metadata": {},
   "source": [
    "l"
   ]
  },
  {
   "cell_type": "code",
   "execution_count": null,
   "id": "grand-wagner",
   "metadata": {},
   "outputs": [],
   "source": []
  },
  {
   "cell_type": "code",
   "execution_count": null,
   "id": "sixth-automation",
   "metadata": {},
   "outputs": [],
   "source": [
    "fig, ax = plt.subplots(figsize = (10,10))\n",
    "xgb.plot_tree(model, ax = ax, num_trees = 0)"
   ]
  },
  {
   "cell_type": "code",
   "execution_count": null,
   "id": "independent-moldova",
   "metadata": {},
   "outputs": [],
   "source": [
    "Stop here"
   ]
  },
  {
   "cell_type": "code",
   "execution_count": null,
   "id": "directed-election",
   "metadata": {},
   "outputs": [],
   "source": [
    "model.learning_rate"
   ]
  },
  {
   "cell_type": "code",
   "execution_count": null,
   "id": "random-tissue",
   "metadata": {},
   "outputs": [],
   "source": [
    "tree_index = 0\n",
    "reg_lambda = 0\n",
    "leaf_outs = {}\n",
    "leaves = l[:,tree_index]\n",
    "for leave_ix in np.unique(leaves):\n",
    "    leaf_outs[leave_ix] = 0.3*g[leaves==leave_ix].sum()/(h[leaves==leave_ix].sum() + reg_lambda)\n",
    "    \n",
    "leaf_outs"
   ]
  },
  {
   "cell_type": "code",
   "execution_count": null,
   "id": "maritime-gossip",
   "metadata": {},
   "outputs": [],
   "source": [
    "g[leaves==4].sum()"
   ]
  },
  {
   "cell_type": "code",
   "execution_count": null,
   "id": "divine-phenomenon",
   "metadata": {},
   "outputs": [],
   "source": []
  }
 ],
 "metadata": {
  "kernelspec": {
   "display_name": "Python 3",
   "language": "python",
   "name": "python3"
  },
  "language_info": {
   "codemirror_mode": {
    "name": "ipython",
    "version": 3
   },
   "file_extension": ".py",
   "mimetype": "text/x-python",
   "name": "python",
   "nbconvert_exporter": "python",
   "pygments_lexer": "ipython3",
   "version": "3.8.3"
  }
 },
 "nbformat": 4,
 "nbformat_minor": 5
}
