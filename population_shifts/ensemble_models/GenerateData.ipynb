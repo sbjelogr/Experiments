{
 "cells": [
  {
   "cell_type": "code",
   "execution_count": 1,
   "id": "welsh-nancy",
   "metadata": {},
   "outputs": [],
   "source": [
    "import logging"
   ]
  },
  {
   "cell_type": "code",
   "execution_count": 2,
   "id": "instant-postcard",
   "metadata": {},
   "outputs": [
    {
     "data": {
      "text/plain": [
       "['/Users/sandro/.miniconda/installation/envs/tboost_dev/lib/python3.8/logging']"
      ]
     },
     "execution_count": 2,
     "metadata": {},
     "output_type": "execute_result"
    }
   ],
   "source": [
    "logging.__path__"
   ]
  },
  {
   "cell_type": "code",
   "execution_count": 3,
   "id": "novel-wilson",
   "metadata": {},
   "outputs": [
    {
     "data": {
      "text/html": [
       "<style>.container {width:85% !important;}</style>"
      ],
      "text/plain": [
       "<IPython.core.display.HTML object>"
      ]
     },
     "metadata": {},
     "output_type": "display_data"
    }
   ],
   "source": [
    "from IPython.core.display import display, HTML\n",
    "display(HTML(\"<style>.container {width:85% !important;}</style>\"))\n",
    "\n",
    "%load_ext autoreload\n",
    "%autoreload 2\n",
    "%matplotlib inline\n",
    "\n",
    "import logging\n",
    "\n",
    "from sklearn.datasets import make_classification\n",
    "\n",
    "import pandas as pd\n",
    "import numpy as np\n",
    "import matplotlib.pyplot as plt\n",
    "\n",
    "import lightgbm as lgb\n",
    "from sklearn.model_selection import train_test_split\n",
    "\n",
    "from sklearn.preprocessing import MinMaxScaler, StandardScaler\n"
   ]
  },
  {
   "cell_type": "code",
   "execution_count": 4,
   "id": "foreign-police",
   "metadata": {},
   "outputs": [],
   "source": [
    "from helpers import gen_samples, setup_logging, shift_features, psi\n",
    "\n",
    "setup_logging()"
   ]
  },
  {
   "cell_type": "markdown",
   "id": "handled-performance",
   "metadata": {},
   "source": [
    "# Generate some data\n",
    "\n",
    "Generate 20000 rows with 15 features, of which 5 are exponential, 5 anre uniform and 5 are normally distributed"
   ]
  },
  {
   "cell_type": "code",
   "execution_count": 5,
   "id": "driven-reach",
   "metadata": {},
   "outputs": [
    {
     "name": "stderr",
     "output_type": "stream",
     "text": [
      "2021-03-08 21:01:36 - INFO - gen_samples: Generating 3 exponential features with 15000 rows\n",
      "2021-03-08 21:01:36 - INFO - gen_samples: Generating 3 uniform features with 15000 rows\n",
      "2021-03-08 21:01:36 - INFO - gen_samples: Generating 3 normal features with 15000 rows\n"
     ]
    }
   ],
   "source": [
    "data_raw = gen_samples(n_samples = 15000, n_exp=3, n_unif=3, n_normal = 3)\n",
    "# data_raw = data_raw.reset_index().rename(columns={\"index\":\"time_col\"})\n",
    "\n",
    "data_raw.columns = [f\"f_{ix}\" for ix in range(data_raw.shape[1])]"
   ]
  },
  {
   "cell_type": "code",
   "execution_count": 6,
   "id": "completed-morrison",
   "metadata": {},
   "outputs": [],
   "source": [
    "make_copy = lambda x: x.copy()\n",
    "\n",
    "data = (\n",
    "    data_raw\n",
    "    .pipe(make_copy)\n",
    "    .pipe(shift_features, cols_to_shift = data_raw.columns, min_max_scaler_range=(1,100))\n",
    ")\n",
    "\n",
    "features = [col for col in data_raw.columns if col.startswith(\"f_\")]"
   ]
  },
  {
   "cell_type": "code",
   "execution_count": 7,
   "id": "genetic-chassis",
   "metadata": {},
   "outputs": [
    {
     "data": {
      "image/png": "[encoded data removed]",
      "text/plain": [
       "<Figure size 1080x720 with 9 Axes>"
      ]
     },
     "metadata": {
      "needs_background": "light"
     },
     "output_type": "display_data"
    }
   ],
   "source": [
    "fig, ax = plt.subplots(3,3, figsize=(15,10))\n",
    "\n",
    "for ix,col in enumerate([col for col in features]):\n",
    "    ix_horiz = ix%3\n",
    "    ix_vert = int(ix/3)                  \n",
    "    data[col].hist(bins=40,alpha=0.4, ax = ax[ix_vert][ix_horiz])\n",
    "    ax[ix_vert][ix_horiz].set_title(col)"
   ]
  },
  {
   "cell_type": "markdown",
   "id": "aging-reason",
   "metadata": {},
   "source": [
    "# Time to add the targets\n",
    "\n",
    "As we are in a simulation setting, let's make the \n",
    "\n",
    "`targen` (**Tar**get **Gen**eration) is a package available on pip<br>, and it helps to define a simulated target based on a relationship between features decided by the Data Scientist.<br>\n",
    "Very handy to test some methodologies in a \"controlled\" environment <br>\n",
    "`pip install targen`"
   ]
  },
  {
   "cell_type": "code",
   "execution_count": 8,
   "id": "dress-clearance",
   "metadata": {},
   "outputs": [],
   "source": [
    "from targen.data import target"
   ]
  },
  {
   "cell_type": "code",
   "execution_count": 9,
   "id": "golden-vaccine",
   "metadata": {},
   "outputs": [],
   "source": [
    "interaction_terms_1 = \"\".join([\n",
    "    \"0.5*f_0*f_2\",\n",
    "    \"-0.2*f_3*f_4\",\n",
    "    \"+0.27*f_7*f_1\",\n",
    "    \"+0.8*f_4/f_6\",\n",
    "    \"-0.8*f_1/f_0\",\n",
    "    \"+0.5*f_4/f_1\",\n",
    "])\n",
    "\n",
    "interaction_terms_2 = \"\".join([\n",
    "    \"-1.5*f_2*(f_2-f_1)\",\n",
    "    \"+0.09*f_2*f_4\",\n",
    "    \"+0.6*f_7*f_1\",\n",
    "    \"+0.8*f_4/(f_2+f_0)\",\n",
    "    \"+0.8*f_1/(f_2)\", # the shift shoul reduce here the effect  \n",
    "    \"+0.6*f_4/(f_1+0.2*f_7)\",\n",
    "])\n"
   ]
  },
  {
   "cell_type": "code",
   "execution_count": 10,
   "id": "coral-wisdom",
   "metadata": {},
   "outputs": [],
   "source": [
    "expressions_1 = {\n",
    "    'linear': '-12.5*f_0 + 2*f_4 -3.2*f_8',\n",
    "    'non_linear': '0.7*f_2**1.5 - 0.2*sin(f_7)- 0.9*log(f_8)',\n",
    "    'interaction': interaction_terms_1,\n",
    "    'uniform_noise': {\n",
    "        'weight':9.7\n",
    "    },\n",
    "    'gaussian_noise': {\n",
    "        'weight':1.4,\n",
    "        'mu_gaus': -1.5\n",
    "    }\n",
    "}\n",
    "\n",
    "expressions_2 = {\n",
    "    'linear': '-12.7*f_0 + 2.1*f_4 -3.2*f_6',\n",
    "    'non_linear': '0.2*f_2**1.4 - 0.2*sin(f_7)- 0.9*log(f_6)',\n",
    "    'interaction': interaction_terms_2,\n",
    "    'uniform_noise': {\n",
    "        'weight':5.8\n",
    "    },\n",
    "    'gaussian_noise': {\n",
    "        'weight':6.4,\n",
    "        'mu_gaus': -0.5\n",
    "    }\n",
    "}"
   ]
  },
  {
   "cell_type": "code",
   "execution_count": 11,
   "id": "coordinate-elements",
   "metadata": {},
   "outputs": [],
   "source": [
    "data_y_1 = target.get_target_and_contributions(data, expressions=expressions_1, imbalance = 0.4, \n",
    "                                             drop_features=False)\n",
    "data_y_2 = target.get_target_and_contributions(data, expressions=expressions_2, imbalance = 0.3, \n",
    "                                             drop_features=False)\n"
   ]
  },
  {
   "cell_type": "code",
   "execution_count": 12,
   "id": "pharmaceutical-beijing",
   "metadata": {},
   "outputs": [
    {
     "data": {
      "text/plain": [
       "Index(['f_0', 'f_1', 'f_2', 'f_3', 'f_4', 'f_5', 'f_6', 'f_7', 'f_8',\n",
       "       'score_linear', 'score_non_linear', 'score_interaction',\n",
       "       'score_uniform_noise', 'score_gaussian_noise', 'score_total', 'y'],\n",
       "      dtype='object')"
      ]
     },
     "execution_count": 12,
     "metadata": {},
     "output_type": "execute_result"
    }
   ],
   "source": [
    "data_y_1.columns"
   ]
  },
  {
   "cell_type": "code",
   "execution_count": 13,
   "id": "fitting-belly",
   "metadata": {},
   "outputs": [
    {
     "name": "stdout",
     "output_type": "stream",
     "text": [
      "target 1\n",
      "Linear component: 0.589073537037037\n",
      "Non Linear component: 0.5301520555555556\n",
      "Interaction component: 0.8954680185185186\n",
      "Total component: 0.9026631481481482\n",
      "Total component, other target: 0.5287869629629629\n",
      "target 2\n",
      "Linear component: 0.7005924656084657\n",
      "Non Linear component: 0.5169199788359788\n",
      "Interaction component: 0.8331665185185185\n",
      "Total component: 0.8383710264550264\n",
      "Total component, other target: 0.5921987407407407\n"
     ]
    }
   ],
   "source": [
    "from sklearn.metrics import roc_auc_score\n",
    "print(\"target 1\")\n",
    "print(f\"Linear component: {roc_auc_score(data_y_1['y'],data_y_1['score_linear'])}\")\n",
    "print(f\"Non Linear component: {roc_auc_score(data_y_1['y'],data_y_1['score_non_linear'])}\")\n",
    "print(f\"Interaction component: {roc_auc_score(data_y_1['y'],data_y_1['score_interaction'])}\")\n",
    "print(f\"Total component: {roc_auc_score(data_y_1['y'],data_y_1['score_linear']+data_y_1['score_non_linear']+data_y_1['score_interaction'])}\")\n",
    "print(f\"Total component, other target: {roc_auc_score(data_y_2['y'],data_y_1['score_linear']+data_y_1['score_non_linear']+data_y_1['score_interaction'])}\")\n",
    "\n",
    "print(\"target 2\")\n",
    "print(f\"Linear component: {roc_auc_score(data_y_2['y'],data_y_2['score_linear'])}\")\n",
    "print(f\"Non Linear component: {roc_auc_score(data_y_2['y'],data_y_2['score_non_linear'])}\")\n",
    "print(f\"Interaction component: {roc_auc_score(data_y_2['y'],data_y_2['score_interaction'])}\")\n",
    "print(f\"Total component: {roc_auc_score(data_y_2['y'],data_y_2['score_linear']+data_y_2['score_non_linear']+data_y_2['score_interaction'])}\")\n",
    "print(f\"Total component, other target: {roc_auc_score(data_y_1['y'],data_y_2['score_linear']+data_y_2['score_non_linear']+data_y_2['score_interaction'])}\")\n",
    "# print(f\"Total component, other target: {roc_auc_score(data_y_1['y'],data_y_2['score_linear']+data_y_2['score_non_linear']+data_y_2['score_interaction'])}\")"
   ]
  },
  {
   "cell_type": "code",
   "execution_count": 14,
   "id": "extraordinary-building",
   "metadata": {},
   "outputs": [
    {
     "data": {
      "text/plain": [
       "['f_0', 'f_1', 'f_2', 'f_3', 'f_4', 'f_5', 'f_6', 'f_7', 'f_8']"
      ]
     },
     "execution_count": 14,
     "metadata": {},
     "output_type": "execute_result"
    }
   ],
   "source": [
    "features"
   ]
  },
  {
   "cell_type": "code",
   "execution_count": 15,
   "id": "thorough-summit",
   "metadata": {},
   "outputs": [],
   "source": [
    "data_y_1[features] = data_y_1[features].apply(lambda x: np.round(x,2))"
   ]
  },
  {
   "cell_type": "code",
   "execution_count": 16,
   "id": "palestinian-brown",
   "metadata": {},
   "outputs": [],
   "source": [
    "out_data = pd.concat([\n",
    "    data_y_1[features + ['y']].rename(columns = {\"y\":\"y_1\"}),\n",
    "    data_y_2[['y']].rename(columns = {\"y\":\"y_2\"})\n",
    "], axis=1)\n",
    "    "
   ]
  },
  {
   "cell_type": "code",
   "execution_count": 17,
   "id": "prerequisite-thompson",
   "metadata": {},
   "outputs": [
    {
     "ename": "NameError",
     "evalue": "name 'stop' is not defined",
     "output_type": "error",
     "traceback": [
      "\u001b[0;31m---------------------------------------------------------------------------\u001b[0m",
      "\u001b[0;31mNameError\u001b[0m                                 Traceback (most recent call last)",
      "\u001b[0;32m<ipython-input-17-4f76a9dad686>\u001b[0m in \u001b[0;36m<module>\u001b[0;34m\u001b[0m\n\u001b[0;32m----> 1\u001b[0;31m \u001b[0mstop\u001b[0m\u001b[0;34m\u001b[0m\u001b[0;34m\u001b[0m\u001b[0m\n\u001b[0m",
      "\u001b[0;31mNameError\u001b[0m: name 'stop' is not defined"
     ]
    }
   ],
   "source": [
    "stop"
   ]
  },
  {
   "cell_type": "code",
   "execution_count": null,
   "id": "armed-wagon",
   "metadata": {},
   "outputs": [],
   "source": [
    "out_data.to_csv( \"data.csv\", index = False)"
   ]
  },
  {
   "cell_type": "code",
   "execution_count": null,
   "id": "electric-gentleman",
   "metadata": {},
   "outputs": [],
   "source": [
    "features = [col for col in data.columns if col.startswith(\"col\")]"
   ]
  },
  {
   "cell_type": "markdown",
   "id": "advance-screw",
   "metadata": {},
   "source": [
    "# Build a lighgbm"
   ]
  },
  {
   "cell_type": "code",
   "execution_count": null,
   "id": "editorial-auction",
   "metadata": {},
   "outputs": [],
   "source": [
    "X_train, X_test, y_train_1, y_test_1 = train_test_split(data_y_1[features],data_y_1['y'], test_size=0.33, random_state=42)"
   ]
  },
  {
   "cell_type": "code",
   "execution_count": null,
   "id": "unexpected-whale",
   "metadata": {},
   "outputs": [],
   "source": [
    "y_train_2 = data_y_2.loc[X_train.index,'y']\n",
    "y_test_2= data_y_2.loc[X_test.index,'y']"
   ]
  },
  {
   "cell_type": "code",
   "execution_count": null,
   "id": "organized-turner",
   "metadata": {},
   "outputs": [],
   "source": [
    "%config Completer.use_jedi = False"
   ]
  },
  {
   "cell_type": "code",
   "execution_count": null,
   "id": "digital-middle",
   "metadata": {},
   "outputs": [],
   "source": [
    "import xgboost as xgb"
   ]
  },
  {
   "cell_type": "code",
   "execution_count": null,
   "id": "australian-seeking",
   "metadata": {},
   "outputs": [],
   "source": [
    "xgb.XGBClassifier()"
   ]
  },
  {
   "cell_type": "markdown",
   "id": "prime-trash",
   "metadata": {},
   "source": [
    "# Train lgb"
   ]
  },
  {
   "cell_type": "code",
   "execution_count": null,
   "id": "postal-consumption",
   "metadata": {},
   "outputs": [],
   "source": [
    "%%time\n",
    "\n",
    "min_frac =int(0.05*X_train.shape[0])\n",
    "print(min_frac)\n",
    "\n",
    "lgb_model = lgb.LGBMClassifier(\n",
    "    num_leaves=4,\n",
    "    n_estimators=10,\n",
    "    min_child_samples=min_frac\n",
    ")\n",
    "\n",
    "eval_set = [(X_train,y_train_1),(X_test, y_test_1)]\n",
    "\n",
    "lgb_model.fit(\n",
    "    X_train,\n",
    "    y_train_1,\n",
    "    eval_metric=[\"auc\",\"logloss\"], \n",
    "    eval_names = ['validation_0','validation_1'],\n",
    "    eval_set=eval_set, \n",
    "    verbose=30, # after how many training sets you want the printout on the console\n",
    "    early_stopping_rounds=39\n",
    ")\n",
    "\n",
    "fig, ax = plt.subplots(1,2,figsize=(18,8))\n",
    "ax[0].plot(lgb_model.evals_result_['validation_0']['binary_logloss'], label = \"training target\")\n",
    "ax[0].plot(lgb_model.evals_result_['validation_1']['binary_logloss'], label = \"test target\")\n",
    "# except:\n",
    "#     ax[0].plot(model.evals_result_['validation_0']['logloss'], label = \"training target\")\n",
    "#     ax[0].plot(model.evals_result_['validation_1']['logloss'], label = \"test target\")\n",
    "\n",
    "ax[1].plot(lgb_model.evals_result_['validation_0']['auc'])\n",
    "ax[1].plot(lgb_model.evals_result_['validation_1']['auc'])\n",
    "ax[0].legend()\n",
    "\n"
   ]
  },
  {
   "cell_type": "code",
   "execution_count": null,
   "id": "controversial-restriction",
   "metadata": {},
   "outputs": [],
   "source": [
    "%%time\n",
    "\n",
    "min_frac =int(0.05*X_train.shape[0])\n",
    "print(min_frac)\n",
    "\n",
    "# model = lgb.LGBMClassifier(\n",
    "#     num_leaves=4,\n",
    "#     n_estimators=10,\n",
    "#     min_child_samples=min_frac\n",
    "# )\n",
    "\n",
    "xgb_model = xgb.XGBClassifier(\n",
    "    max_depth = 2,\n",
    "    reg_lambda = 0,\n",
    "    num_leaves=4,\n",
    "    n_estimators=10,\n",
    "    min_child_samples=min_frac\n",
    ")\n",
    "\n",
    "eval_set = [(X_train,y_train_1),(X_test, y_test_1)]\n",
    "\n",
    "xgb_model.fit(\n",
    "    X_train,\n",
    "    y_train_1,\n",
    "    eval_metric=[\"auc\",\"logloss\"], \n",
    "#     eval_names = ['validation_0','validation_1'],\n",
    "    eval_set=eval_set, \n",
    "    verbose=30, # after how many training sets you want the printout on the console\n",
    "    early_stopping_rounds=39\n",
    ")\n",
    "\n",
    "fig, ax = plt.subplots(1,2,figsize=(18,8))\n",
    "\n",
    "\n",
    "ax[0].plot(xgb_model.evals_result_['validation_0']['logloss'], label = \"training target\")\n",
    "ax[0].plot(xgb_model.evals_result_['validation_1']['logloss'], label = \"test target\")\n",
    "\n",
    "ax[1].plot(xgb_model.evals_result_['validation_0']['auc'])\n",
    "ax[1].plot(xgb_model.evals_result_['validation_1']['auc'])\n",
    "ax[0].legend()\n"
   ]
  },
  {
   "cell_type": "code",
   "execution_count": null,
   "id": "regional-workshop",
   "metadata": {},
   "outputs": [],
   "source": [
    "from functools import reduce\n",
    "\n",
    "def plot_proba_evol(X,y,model, max_n_trees=500):\n",
    "    arrays = list()\n",
    "    for ix in range(1,max_n_trees+1):\n",
    "        try:\n",
    "            pred_ix = model.predict_proba(X, num_iteration=ix)[:,1]\n",
    "        except:\n",
    "            pred_ix = model.predict_proba(X, ntree_limit=ix)[:,1]\n",
    "        arrays.append(pred_ix)\n",
    "    return np.transpose(reduce(lambda x,y: np.vstack((x,y)),arrays))        \n",
    "        \n",
    "    \n",
    "def find_pred_trend(X,y,model, max_n_trees = 500):\n",
    "    \n",
    "    proba_trees = plot_proba_evol(X,y,model, max_n_trees=max_n_trees)\n",
    "    \n",
    "#     return proba_trees\n",
    "    \n",
    "    mean_y_0 = proba_trees[y.values==0].mean(axis=0)\n",
    "    std_y_0 = proba_trees[y.values==0].std(axis=0)\n",
    "\n",
    "    mean_y_1 = proba_trees[y.values==1].mean(axis=0)\n",
    "    std_y_1 = proba_trees[y.values==1].std(axis=0)\n",
    "    \n",
    "    return mean_y_0, std_y_0, mean_y_1, std_y_1"
   ]
  },
  {
   "cell_type": "code",
   "execution_count": null,
   "id": "practical-technology",
   "metadata": {},
   "outputs": [],
   "source": [
    "mean_y_zero_train_1, std_y_zero_train_1, mean_y_one_train_1, std_y_one_train_1 = find_pred_trend(X_train,y_train_1,model,max_n_trees=50)\n",
    "mean_y_zero_1, std_y_zero_1, mean_y_one_1, std_y_one_1 = find_pred_trend(X_test,y_test_1,model,max_n_trees=50)\n",
    "\n",
    "mean_y_zero_train_2, std_y_zero_train_2, mean_y_one_train_2, std_y_one_train_2 = find_pred_trend(X_train,y_train_2,model,max_n_trees=50)\n",
    "mean_y_zero_2, std_y_zero_2, mean_y_one_2, std_y_one_2 = find_pred_trend(X_test,y_test_2,model,max_n_trees=50)\n",
    "\n",
    "\n",
    "x = [i for i in range(1, mean_y_zero_train_1.shape[0]+1)]\n",
    "\n",
    "fig, ax = plt.subplots(figsize=(12,8))\n",
    "\n",
    "ax.plot(x,mean_y_zero_train_1, label = \"y=0 train\", color='orange', linestyle='--')\n",
    "# ax.fill_between(x, mean_y_zero_train_1-std_y_zero_train_1, mean_y_zero_train_1+std_y_zero_train_1, color='orange',alpha=0.2)\n",
    "\n",
    "ax.plot(x,mean_y_one_train_1, label = \"y=1 train\", color='blue',linestyle='--')\n",
    "# ax.fill_between(x, mean_y_one_train_1-std_y_one_train_1, mean_y_one_train_1+std_y_zero_train_1, color='blue',alpha=0.2)\n",
    "ax.plot(x,mean_y_zero_1, label = \"y=0\", color='orange')\n",
    "ax.plot(x,mean_y_one_1, label = \"y=1\", color='blue')\n",
    "\n",
    "ax.plot(x,mean_y_zero_train_2, label = \"y=0 train\", color='red', linestyle='--')\n",
    "ax.plot(x,mean_y_one_train_2, label = \"y=1 train\", color='green',linestyle='--')\n",
    "ax.plot(x,mean_y_zero_2, label = \"y=0\", color='red')\n",
    "ax.plot(x,mean_y_one_2, label = \"y=1\", color='green')\n",
    "\n",
    "ax.legend()\n",
    "\n",
    "# ax[1].plot(std_y_zero_train_1, label = \"y=0 train\", color='orange', linestyle='--')\n",
    "# ax[1].plot(std_y_one_train_1, label = \"y=1 train\", color='blue',linestyle='--')\n",
    "# ax[1].plot(std_y_zero_1, label = \"y=0\", color='orange')\n",
    "# ax[1].plot(std_y_one_1, label = \"y=1\", color='blue')"
   ]
  },
  {
   "cell_type": "code",
   "execution_count": null,
   "id": "later-february",
   "metadata": {},
   "outputs": [],
   "source": [
    "# train_leaf = model.predict(X_train,pred_leaf=True)\n",
    "\n",
    "# n_trees = train_leaf.shape[1]\n",
    "# n_trees\n",
    "\n",
    "# model.predict_proba(X_train, num_iteration=14)"
   ]
  },
  {
   "cell_type": "code",
   "execution_count": null,
   "id": "tropical-diesel",
   "metadata": {},
   "outputs": [],
   "source": [
    "train_leaf = lgb_model.predict(X_train,pred_leaf=True)\n",
    "test_leaf = lgb_model.predict(X_test,pred_leaf=True)\n",
    "\n",
    "train_leaf = pd.DataFrame(train_leaf,columns = [f'tree_{i}' for i in range(test_leaf.shape[1])])\n",
    "test_leaf = pd.DataFrame(test_leaf,columns = [f'tree_{i}' for i in range(test_leaf.shape[1])])\n"
   ]
  },
  {
   "cell_type": "code",
   "execution_count": null,
   "id": "statewide-rocket",
   "metadata": {},
   "outputs": [],
   "source": [
    "xgb.XGBClassifier?"
   ]
  },
  {
   "cell_type": "code",
   "execution_count": null,
   "id": "eastern-estimate",
   "metadata": {},
   "outputs": [],
   "source": [
    "lgb.LGBMClassifier?"
   ]
  },
  {
   "cell_type": "code",
   "execution_count": null,
   "id": "stupid-humanitarian",
   "metadata": {},
   "outputs": [],
   "source": [
    "lgb_model.get_params()"
   ]
  },
  {
   "cell_type": "markdown",
   "id": "champion-local",
   "metadata": {},
   "source": [
    "# Get leaves outputs"
   ]
  },
  {
   "cell_type": "code",
   "execution_count": null,
   "id": "lovely-gibraltar",
   "metadata": {},
   "outputs": [],
   "source": [
    "model."
   ]
  },
  {
   "cell_type": "code",
   "execution_count": null,
   "id": "objective-cycle",
   "metadata": {},
   "outputs": [],
   "source": [
    "model.predict"
   ]
  },
  {
   "cell_type": "code",
   "execution_count": null,
   "id": "shared-forty",
   "metadata": {},
   "outputs": [],
   "source": [
    "type(model)"
   ]
  },
  {
   "cell_type": "code",
   "execution_count": null,
   "id": "burning-verse",
   "metadata": {},
   "outputs": [],
   "source": []
  },
  {
   "cell_type": "code",
   "execution_count": null,
   "id": "aware-keeping",
   "metadata": {},
   "outputs": [],
   "source": [
    "from functools import reduce\n",
    "\n",
    "def logloss(y_pred, y_true):\n",
    "    \"\"\"Return the gradient and hessian of the log loss.\n",
    "\n",
    "    Args:\n",
    "        y_pred (np.array or pd.Series): predictions for the observations, in the range [0,1]\n",
    "        y_true (np.array or pd.Series): true label for the observations\n",
    "\n",
    "    Returns:\n",
    "        tuple: (np.array, np.array), gradient and hessian for the observations\n",
    "    \"\"\"\n",
    "#     prob = 1.0 / (1.0 + np.exp(-y_pred))\n",
    "\n",
    "    if isinstance(y_pred, pd.Series):\n",
    "        y_pred = y_pred.values\n",
    "    if isinstance(y_true, pd.Series):\n",
    "        y_true = y_true.values\n",
    "    grad = y_true - y_pred\n",
    "    hess = y_pred * (1.0 - y_pred)\n",
    "    return grad, hess\n",
    "\n",
    "\n",
    "sigmoid = lambda x: 1.0 / (1.0 + np.exp(-x))\n",
    "\n",
    "def logloss_from_leaves(y_leaf, y_true):\n",
    "    \n",
    "#     prob = 1.0 / (1.0 + np.exp(-y_leaf))\n",
    "    prob = sigmoid(y_leaf)\n",
    "    \n",
    "    return logloss(prob, y_true)\n",
    "\n",
    "\n",
    "def return_leaf(leaves, grad, hess, tree_index=0, model_params=None):\n",
    "    \n",
    "\n",
    "    tree_index = tree_index\n",
    "    reg_lambda = model_params['reg_lambda']\n",
    "    lr = model_params['learning_rate']\n",
    "    leaf_outs = {}\n",
    "    leaves = leaves[:,tree_index]\n",
    "    for leave_ix in np.unique(leaves):\n",
    "        leaf_outs[leave_ix] =lr*g[leaves==leave_ix].sum()/(h[leaves==leave_ix].sum() + reg_lambda)\n",
    "#     leaf_outs\n",
    "\n",
    "    new_pred = np.array([leaf_outs[ix] for ix in leaves])\n",
    "    return new_pred\n",
    "\n",
    "\n",
    "\n",
    "def recompute_leaves(model, X, y):\n",
    "    start_pred = np.ones(shape = X.shape[0])\n",
    "    print(start_pred.shape)\n",
    "    \n",
    "    try:\n",
    "        leaves = model.predict(X,pred_leaf=True)\n",
    "    except:\n",
    "        leaves = model.apply(X)\n",
    "    \n",
    "    n_trees = leaves.shape[1]\n",
    "    print(n_trees)\n",
    "    \n",
    "    pred = start_pred\n",
    "#     g,h = logloss_from_leaves(pred, y)\n",
    "\n",
    "    preds = list()\n",
    "    preds.append(pred)\n",
    "    \n",
    "    pred_array = pred.reshape(-1,1)\n",
    "    \n",
    "    for tree_index in range(n_trees):\n",
    "        \n",
    "        prev_pred = pred_array.sum(axis=1)\n",
    "        g,h = logloss_from_leaves(prev_pred, y)\n",
    "        pred = return_leaf(leaves, g, h, tree_index=tree_index, model_params = model.get_params())\n",
    "        preds.append(pred)\n",
    "        \n",
    "        pred_array = np.hstack([pred_array, pred.reshape(-1,1)])\n",
    "        print(pred_array.shape)\n",
    "        \n",
    "   \n",
    "\n",
    "    model_leaves = np.transpose(reduce(lambda x,y: np.vstack([x,y]),preds))#[:,1:]\n",
    "    \n",
    "    return  leaves, model_leaves, pred_array"
   ]
  },
  {
   "cell_type": "code",
   "execution_count": null,
   "id": "treated-keyboard",
   "metadata": {},
   "outputs": [],
   "source": [
    "leaf_index, leaf_vals, preds = recompute_leaves(model, X_train, y_train_1)"
   ]
  },
  {
   "cell_type": "code",
   "execution_count": null,
   "id": "designing-semiconductor",
   "metadata": {},
   "outputs": [],
   "source": [
    "np.unique(preds[:,2])"
   ]
  },
  {
   "cell_type": "code",
   "execution_count": null,
   "id": "seeing-garage",
   "metadata": {},
   "outputs": [],
   "source": [
    "np.hstack([preds[0].reshape(-1,1),preds[1].reshape(-1,1)]).shape"
   ]
  },
  {
   "cell_type": "code",
   "execution_count": null,
   "id": "normal-effectiveness",
   "metadata": {},
   "outputs": [],
   "source": [
    "leaf_vals[:,:2].sum(axis=1)"
   ]
  },
  {
   "cell_type": "code",
   "execution_count": null,
   "id": "animal-parts",
   "metadata": {},
   "outputs": [],
   "source": [
    "np.unique(leaf_vals[:,1])"
   ]
  },
  {
   "cell_type": "code",
   "execution_count": null,
   "id": "continental-colon",
   "metadata": {},
   "outputs": [],
   "source": [
    "sigmoid(leaf_vals[:,:2].sum(axis=1))"
   ]
  },
  {
   "cell_type": "code",
   "execution_count": null,
   "id": "supported-continuity",
   "metadata": {},
   "outputs": [],
   "source": [
    "model.predict_proba(X_train, ntree_limit=0)[:,1]"
   ]
  },
  {
   "cell_type": "code",
   "execution_count": null,
   "id": "personal-mercury",
   "metadata": {},
   "outputs": [],
   "source": [
    "model_leaves[:,1]"
   ]
  },
  {
   "cell_type": "code",
   "execution_count": null,
   "id": "negative-cathedral",
   "metadata": {},
   "outputs": [],
   "source": [
    "np.unique(l[:,0])"
   ]
  },
  {
   "cell_type": "code",
   "execution_count": null,
   "id": "emotional-garlic",
   "metadata": {},
   "outputs": [],
   "source": [
    "from lightgbm import plot_tree"
   ]
  },
  {
   "cell_type": "code",
   "execution_count": null,
   "id": "potential-satellite",
   "metadata": {},
   "outputs": [],
   "source": [
    "model.get_params()['learning_rate']"
   ]
  },
  {
   "cell_type": "code",
   "execution_count": null,
   "id": "operating-paraguay",
   "metadata": {},
   "outputs": [],
   "source": [
    "xgb.XGBClassifier()"
   ]
  },
  {
   "cell_type": "code",
   "execution_count": null,
   "id": "australian-merchant",
   "metadata": {},
   "outputs": [],
   "source": [
    "fig, ax = plt.subplots(figsize = (10,10))\n",
    "xgb.plot_tree(model, ax = ax, num_trees = 0)"
   ]
  },
  {
   "cell_type": "code",
   "execution_count": null,
   "id": "assigned-music",
   "metadata": {},
   "outputs": [],
   "source": []
  },
  {
   "cell_type": "code",
   "execution_count": null,
   "id": "acute-lambda",
   "metadata": {},
   "outputs": [],
   "source": [
    "    \n",
    "\n",
    "tree_index = 0\n",
    "reg_lambda = 0\n",
    "leaf_outs = {}\n",
    "leaves = l[:,tree_index]\n",
    "for leave_ix in np.unique(leaves):\n",
    "    leaf_outs[leave_ix] = 0.3*g[leaves==leave_ix].sum()/(h[leaves==leave_ix].sum() + reg_lambda)\n",
    "    \n",
    "leaf_outs\n",
    "\n",
    "new_pred = np.array([leaf_outs[ix] for ix in leaves])\n"
   ]
  },
  {
   "cell_type": "code",
   "execution_count": null,
   "id": "vanilla-voltage",
   "metadata": {},
   "outputs": [],
   "source": [
    "new_pred = np.array([leaf_outs[ix] for ix in leaves])"
   ]
  },
  {
   "cell_type": "code",
   "execution_count": null,
   "id": "baking-earth",
   "metadata": {},
   "outputs": [],
   "source": [
    "new_pred"
   ]
  },
  {
   "cell_type": "code",
   "execution_count": null,
   "id": "rubber-encoding",
   "metadata": {},
   "outputs": [],
   "source": [
    "np.unique(l[:,0])"
   ]
  },
  {
   "cell_type": "code",
   "execution_count": null,
   "id": "allied-factory",
   "metadata": {},
   "outputs": [],
   "source": [
    "help(logloss)"
   ]
  },
  {
   "cell_type": "code",
   "execution_count": null,
   "id": "gross-brother",
   "metadata": {},
   "outputs": [],
   "source": [
    "dir(model)"
   ]
  },
  {
   "cell_type": "code",
   "execution_count": null,
   "id": "monthly-happiness",
   "metadata": {},
   "outputs": [],
   "source": [
    "from sklearn.utils.validation import check_is_fitted\n",
    "\n",
    "\n",
    "class TransferBoost():\n",
    "    \n",
    "    def __init__(self,fitted_model):\n",
    "\n",
    "#         check_is_fitted(fitted_model)\n",
    "\n",
    "        self.model = fitted_model\n",
    "        self.estimators_ = fitted_model.n_estimators\n",
    "        \n",
    "    def fit(self, X, y):\n",
    "        pass\n",
    "    \n",
    "    \n",
    "    "
   ]
  },
  {
   "cell_type": "code",
   "execution_count": null,
   "id": "patent-commission",
   "metadata": {},
   "outputs": [],
   "source": [
    "TransferBoost(model)"
   ]
  },
  {
   "cell_type": "code",
   "execution_count": null,
   "id": "quarterly-coast",
   "metadata": {},
   "outputs": [],
   "source": [
    "check_is_fitted(model)"
   ]
  },
  {
   "cell_type": "code",
   "execution_count": null,
   "id": "adjusted-curtis",
   "metadata": {},
   "outputs": [],
   "source": [
    "def loglikelihoodloss(y_hat, y_true):\n",
    "    prob = 1.0 / (1.0 + np.exp(-y_hat))\n",
    "    grad = prob - y_true\n",
    "    hess = prob * (1.0 - prob)\n",
    "    return grad, hess\n",
    "\n",
    "def recompute_leaves(model, X, y):\n",
    "    start_pred = 0.5*np.ones(shape = X.shape[0])\n",
    "    print(start_pred.shape)\n",
    "    \n",
    "    leaf = model.predict(X,pred_leaf=True)\n",
    "    \n",
    "    n_trees = leaf.shape[1]\n",
    "    print(n_trees)\n",
    "    \n",
    "    pred = start_pred\n",
    "    g,h = loglikelihoodloss(y,pred)\n",
    "    \n",
    "    return  leaf,g,h\n",
    "\n",
    "def compute_leaves_outputs(leaf_ixs, prev_leaf, ):\n",
    "    pass"
   ]
  },
  {
   "cell_type": "code",
   "execution_count": null,
   "id": "novel-orange",
   "metadata": {},
   "outputs": [],
   "source": [
    "leaves,grad,hess= recompute_leaves(model, X_train, y_train)"
   ]
  },
  {
   "cell_type": "code",
   "execution_count": null,
   "id": "played-adelaide",
   "metadata": {},
   "outputs": [],
   "source": [
    "leaves[:,0].shape"
   ]
  },
  {
   "cell_type": "code",
   "execution_count": null,
   "id": "steady-parcel",
   "metadata": {},
   "outputs": [],
   "source": [
    "grad.values"
   ]
  },
  {
   "cell_type": "code",
   "execution_count": null,
   "id": "statutory-aside",
   "metadata": {},
   "outputs": [],
   "source": [
    "train_leaf['tree_0'].values, y_train.values, pred  "
   ]
  },
  {
   "cell_type": "code",
   "execution_count": null,
   "id": "painted-precipitation",
   "metadata": {},
   "outputs": [],
   "source": []
  },
  {
   "cell_type": "code",
   "execution_count": null,
   "id": "vanilla-catch",
   "metadata": {},
   "outputs": [],
   "source": []
  }
 ],
 "metadata": {
  "kernelspec": {
   "display_name": "Python 3",
   "language": "python",
   "name": "python3"
  },
  "language_info": {
   "codemirror_mode": {
    "name": "ipython",
    "version": 3
   },
   "file_extension": ".py",
   "mimetype": "text/x-python",
   "name": "python",
   "nbconvert_exporter": "python",
   "pygments_lexer": "ipython3",
   "version": "3.8.5"
  }
 },
 "nbformat": 4,
 "nbformat_minor": 5
}
