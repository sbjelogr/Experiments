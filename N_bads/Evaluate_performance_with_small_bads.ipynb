{
 "cells": [
  {
   "cell_type": "code",
   "execution_count": 4,
   "metadata": {
    "ExecuteTime": {
     "end_time": "2019-10-14T14:59:17.772625Z",
     "start_time": "2019-10-14T14:59:17.769551Z"
    }
   },
   "outputs": [],
   "source": [
    "# ! pip install seaborn"
   ]
  },
  {
   "cell_type": "code",
   "execution_count": 5,
   "metadata": {
    "ExecuteTime": {
     "end_time": "2019-10-14T14:59:19.193177Z",
     "start_time": "2019-10-14T14:59:19.152119Z"
    }
   },
   "outputs": [],
   "source": [
    "import pandas as pd\n",
    "import numpy as np\n",
    "import matplotlib.pyplot as plt\n",
    "%matplotlib inline\n",
    "from importlib import reload\n",
    "\n",
    "import simulate\n",
    "from simulate import simulate_data, bayes_boundary, parabola, circle, boundary_1\n",
    "import plotting\n",
    "from plotting import plot_two_variables, plot_roc_curve, plot_clf_decision_boundary, plot_strategy_curve, plot_classifier_profit"
   ]
  },
  {
   "cell_type": "code",
   "execution_count": 83,
   "metadata": {
    "ExecuteTime": {
     "end_time": "2019-10-14T15:21:00.519586Z",
     "start_time": "2019-10-14T15:21:00.516584Z"
    }
   },
   "outputs": [],
   "source": [
    "from xgboost import XGBClassifier\n",
    "from probatus.metric_uncertainty import VolatilityEstimation\n",
    "from sklearn.model_selection import train_test_split"
   ]
  },
  {
   "cell_type": "code",
   "execution_count": 84,
   "metadata": {
    "ExecuteTime": {
     "end_time": "2019-10-14T15:21:00.863262Z",
     "start_time": "2019-10-14T15:21:00.860863Z"
    }
   },
   "outputs": [],
   "source": [
    "# data = simulate_data(population_size=N_population, N_cont_variables=5, N_exponential_variables=5, N_normal_variables=5)"
   ]
  },
  {
   "cell_type": "code",
   "execution_count": 85,
   "metadata": {
    "ExecuteTime": {
     "end_time": "2019-10-14T15:21:01.178174Z",
     "start_time": "2019-10-14T15:21:01.175620Z"
    }
   },
   "outputs": [],
   "source": [
    "import seaborn as sns"
   ]
  },
  {
   "cell_type": "code",
   "execution_count": 86,
   "metadata": {
    "ExecuteTime": {
     "end_time": "2019-10-14T15:21:01.670809Z",
     "start_time": "2019-10-14T15:21:01.449271Z"
    }
   },
   "outputs": [
    {
     "data": {
      "text/plain": [
       "<matplotlib.axes._subplots.AxesSubplot at 0x1a191b2438>"
      ]
     },
     "execution_count": 86,
     "metadata": {},
     "output_type": "execute_result"
    },
    {
     "data": {
      "image/png": "[encoded data removed]",
      "text/plain": [
       "<Figure size 432x288 with 2 Axes>"
      ]
     },
     "metadata": {
      "needs_background": "light"
     },
     "output_type": "display_data"
    }
   ],
   "source": [
    "sns.heatmap(data.corr())"
   ]
  },
  {
   "cell_type": "markdown",
   "metadata": {
    "ExecuteTime": {
     "end_time": "2019-10-14T15:01:29.827239Z",
     "start_time": "2019-10-14T15:01:29.821857Z"
    }
   },
   "source": [
    "### Define function for boundary"
   ]
  },
  {
   "cell_type": "code",
   "execution_count": 339,
   "metadata": {
    "ExecuteTime": {
     "end_time": "2019-10-14T16:33:50.455575Z",
     "start_time": "2019-10-14T16:33:50.445382Z"
    }
   },
   "outputs": [],
   "source": [
    "xgb_mod = XGBClassifier(\n",
    "    n_estimators=50,\n",
    "    max_depth=2\n",
    ")\n",
    "\n",
    "N_population = 5500\n",
    "data = simulate_data(population_size=N_population, N_cont_variables=5, N_exponential_variables=5, N_normal_variables=5)\n",
    "\n",
    "def custom_func(x1,x2,x3,x4,x5,x6,x7,x8,x9,x10,bias,we):\n",
    "    return (\n",
    "        10*x1*x1 + \n",
    "        5*x2*x2*x2 - \n",
    "        5*x3 +\n",
    "        2.5 * (x4-10) +\n",
    "        3 * x5*x5*np.log(x5) +\n",
    "        0.5 * x6 -\n",
    "        2* np.log(x7) +\n",
    "        0.3 *x8*x8 +\n",
    "        0.1 * x9 *x9 *x9 +\n",
    "        0.4 *np.exp(x10) + \n",
    "        bias\n",
    "\n",
    "    )\n"
   ]
  },
  {
   "cell_type": "code",
   "execution_count": 340,
   "metadata": {
    "ExecuteTime": {
     "end_time": "2019-10-14T16:33:50.783172Z",
     "start_time": "2019-10-14T16:33:50.756065Z"
    }
   },
   "outputs": [
    {
     "name": "stdout",
     "output_type": "stream",
     "text": [
      "4.056735977766085\n"
     ]
    },
    {
     "name": "stderr",
     "output_type": "stream",
     "text": [
      "/Users/we56sc/Developer/.miniconda3/envs/py36/lib/python3.6/site-packages/pandas/core/series.py:853: RuntimeWarning: invalid value encountered in log\n",
      "  result = getattr(ufunc, method)(*inputs, **kwargs)\n"
     ]
    },
    {
     "data": {
      "text/plain": [
       "1    4414\n",
       "0    1086\n",
       "dtype: int64"
      ]
     },
     "execution_count": 340,
     "metadata": {},
     "output_type": "execute_result"
    }
   ],
   "source": [
    "probs,targets,coordinates = bayes_boundary(\n",
    "    boundary_func=custom_func,\n",
    "    print_median=True, \n",
    "    x1 = data['col_3'], \n",
    "    x2 = data['col_4'],\n",
    "    x3 = data['col_6'],\n",
    "    x4 = data['col_7'],\n",
    "    x5 = data['col_12'],\n",
    "    x6 = data['col_1'],\n",
    "    x7 = data['col_2'],\n",
    "    x8 = data['col_5'],\n",
    "    x9 = data['col_10'],\n",
    "    x10 = data['col_11'],\n",
    "    bias=22.5,\n",
    "    max_accuracy=0.98,\n",
    "    threshold=0.9)\n",
    "\n",
    "targets.value_counts()"
   ]
  },
  {
   "cell_type": "code",
   "execution_count": 341,
   "metadata": {
    "ExecuteTime": {
     "end_time": "2019-10-14T16:34:56.113780Z",
     "start_time": "2019-10-14T16:34:56.100946Z"
    }
   },
   "outputs": [
    {
     "data": {
      "text/plain": [
       "{'x1': 0       0.794093\n",
       " 1       0.138069\n",
       " 2       0.423429\n",
       " 3       0.924668\n",
       " 4       0.729517\n",
       "           ...   \n",
       " 5495    0.975209\n",
       " 5496    0.800398\n",
       " 5497    0.228658\n",
       " 5498    0.850908\n",
       " 5499    0.323385\n",
       " Name: col_3, Length: 5500, dtype: float64, 'x2': 0       0.459724\n",
       " 1       0.867105\n",
       " 2       0.318287\n",
       " 3       0.437124\n",
       " 4       0.950792\n",
       "           ...   \n",
       " 5495    0.767497\n",
       " 5496    0.261766\n",
       " 5497    0.307342\n",
       " 5498    0.136423\n",
       " 5499    0.140645\n",
       " Name: col_4, Length: 5500, dtype: float64, 'x3': 0       2.143956\n",
       " 1       2.152842\n",
       " 2       1.577674\n",
       " 3       1.228129\n",
       " 4       2.361440\n",
       "           ...   \n",
       " 5495    0.743415\n",
       " 5496    1.469577\n",
       " 5497    3.174107\n",
       " 5498    0.992876\n",
       " 5499    0.140636\n",
       " Name: col_6, Length: 5500, dtype: float64, 'x4': 0       1.099267\n",
       " 1       0.736017\n",
       " 2       0.022213\n",
       " 3       1.704971\n",
       " 4       0.332101\n",
       "           ...   \n",
       " 5495    2.186443\n",
       " 5496    2.023356\n",
       " 5497    2.454121\n",
       " 5498    0.324864\n",
       " 5499    1.298089\n",
       " Name: col_7, Length: 5500, dtype: float64, 'x5': 0      -0.620545\n",
       " 1      -0.449359\n",
       " 2       0.112853\n",
       " 3       1.106389\n",
       " 4      -1.297034\n",
       "           ...   \n",
       " 5495    1.715526\n",
       " 5496    0.916922\n",
       " 5497    0.374353\n",
       " 5498   -0.474330\n",
       " 5499   -0.344637\n",
       " Name: col_12, Length: 5500, dtype: float64, 'x6': 0       0.988748\n",
       " 1       0.281766\n",
       " 2       0.069917\n",
       " 3       0.903455\n",
       " 4       0.136076\n",
       "           ...   \n",
       " 5495    0.446930\n",
       " 5496    0.339216\n",
       " 5497    0.715993\n",
       " 5498    0.585597\n",
       " 5499    0.641825\n",
       " Name: col_1, Length: 5500, dtype: float64, 'x7': 0       0.816706\n",
       " 1       0.042453\n",
       " 2       0.756474\n",
       " 3       0.021454\n",
       " 4       0.104765\n",
       "           ...   \n",
       " 5495    0.582744\n",
       " 5496    0.811866\n",
       " 5497    0.939858\n",
       " 5498    0.054897\n",
       " 5499    0.097534\n",
       " Name: col_2, Length: 5500, dtype: float64, 'x8': 0       0.197662\n",
       " 1       0.219428\n",
       " 2       1.439287\n",
       " 3       0.062177\n",
       " 4       1.299947\n",
       "           ...   \n",
       " 5495    0.787358\n",
       " 5496    0.658024\n",
       " 5497    2.767194\n",
       " 5498    0.687011\n",
       " 5499    0.355114\n",
       " Name: col_5, Length: 5500, dtype: float64, 'x9': 0      -1.604931\n",
       " 1      -0.889883\n",
       " 2       0.429368\n",
       " 3       0.910225\n",
       " 4       0.235055\n",
       "           ...   \n",
       " 5495   -0.167248\n",
       " 5496    0.057750\n",
       " 5497   -0.406923\n",
       " 5498   -1.418589\n",
       " 5499    1.174481\n",
       " Name: col_10, Length: 5500, dtype: float64, 'x10': 0       0.001274\n",
       " 1       0.163169\n",
       " 2       0.781649\n",
       " 3      -1.154887\n",
       " 4       0.521105\n",
       "           ...   \n",
       " 5495    0.239218\n",
       " 5496   -0.984359\n",
       " 5497    1.176409\n",
       " 5498   -1.729150\n",
       " 5499    0.248917\n",
       " Name: col_11, Length: 5500, dtype: float64, 'bias': 22.5}"
      ]
     },
     "execution_count": 341,
     "metadata": {},
     "output_type": "execute_result"
    }
   ],
   "source": [
    "coordinates"
   ]
  },
  {
   "cell_type": "code",
   "execution_count": 305,
   "metadata": {
    "ExecuteTime": {
     "end_time": "2019-10-14T16:12:02.243363Z",
     "start_time": "2019-10-14T16:12:02.239772Z"
    }
   },
   "outputs": [],
   "source": [
    "data['y_10'] = targets"
   ]
  },
  {
   "cell_type": "code",
   "execution_count": 306,
   "metadata": {
    "ExecuteTime": {
     "end_time": "2019-10-14T16:12:02.624813Z",
     "start_time": "2019-10-14T16:12:02.620697Z"
    }
   },
   "outputs": [
    {
     "data": {
      "text/plain": [
       "Index(['col_0', 'col_1', 'col_2', 'col_3', 'col_4', 'col_5', 'col_6', 'col_7',\n",
       "       'col_8', 'col_9', 'col_10', 'col_11', 'col_12', 'col_13', 'col_14',\n",
       "       'y_3', 'y_4', 'y_5', 'y_6', 'y_7', 'y_8', 'y_9', 'y_10'],\n",
       "      dtype='object')"
      ]
     },
     "execution_count": 306,
     "metadata": {},
     "output_type": "execute_result"
    }
   ],
   "source": [
    "data.columns"
   ]
  },
  {
   "cell_type": "code",
   "execution_count": 158,
   "metadata": {
    "ExecuteTime": {
     "end_time": "2019-10-14T15:49:07.860937Z",
     "start_time": "2019-10-14T15:49:07.852500Z"
    }
   },
   "outputs": [
    {
     "data": {
      "text/plain": [
       "1    4955\n",
       "0     545\n",
       "Name: y, dtype: int64"
      ]
     },
     "execution_count": 158,
     "metadata": {},
     "output_type": "execute_result"
    }
   ],
   "source": [
    "##### assign it to the dataset\n",
    "data['y']=targets\n",
    "\n",
    "# #show the first five values\n",
    "# data.head(5)\n",
    "\n",
    "X = data[[col for col in data.columns if 'col' in col]]\n",
    "y = targets\n",
    "\n",
    "data.y.value_counts()"
   ]
  },
  {
   "cell_type": "code",
   "execution_count": 145,
   "metadata": {
    "ExecuteTime": {
     "end_time": "2019-10-14T15:32:01.815946Z",
     "start_time": "2019-10-14T15:31:39.203770Z"
    }
   },
   "outputs": [],
   "source": [
    "# defining the metrics we are interested in\n",
    "evaluators =  {'AUC' : [roc_auc_score,'proba']}\n",
    "\n",
    "# declaring the evaluation class\n",
    "checker = VolatilityEstimation(xgb_mod, \n",
    "                               X,#.drop('col_4',axis=1), \n",
    "                               y, evaluators, 'boot_seed', n_jobs=-1)\n",
    "\n",
    "# running 1000 random samples with 40% of data assigned to test partition\n",
    "checker.estimate(0.25,500)"
   ]
  },
  {
   "cell_type": "code",
   "execution_count": 317,
   "metadata": {
    "ExecuteTime": {
     "end_time": "2019-10-14T16:18:44.851495Z",
     "start_time": "2019-10-14T16:18:44.846928Z"
    }
   },
   "outputs": [],
   "source": [
    "def run_checker(data, ix = 3):\n",
    "    print(ix)\n",
    "    X = data[[col for col in data.columns if 'col' in col]]\n",
    "    y = data['y_{}'.format(ix)]\n",
    "    \n",
    "    checker = VolatilityEstimation(xgb_mod, \n",
    "                               X,#.drop('col_4',axis=1), \n",
    "                               y, evaluators, 'boot_seed', n_jobs=-1)\n",
    "    checker.estimate(0.25,300)\n",
    "    \n",
    "    return checker\n",
    "    "
   ]
  },
  {
   "cell_type": "code",
   "execution_count": 318,
   "metadata": {
    "ExecuteTime": {
     "end_time": "2019-10-14T16:18:45.161492Z",
     "start_time": "2019-10-14T16:18:45.159121Z"
    }
   },
   "outputs": [],
   "source": [
    "# data.to_csv('simulated_data.csv')"
   ]
  },
  {
   "cell_type": "code",
   "execution_count": 319,
   "metadata": {
    "ExecuteTime": {
     "end_time": "2019-10-14T16:20:37.247191Z",
     "start_time": "2019-10-14T16:18:45.441456Z"
    }
   },
   "outputs": [
    {
     "name": "stdout",
     "output_type": "stream",
     "text": [
      "3\n",
      "4\n",
      "5\n",
      "6\n",
      "7\n",
      "8\n",
      "9\n",
      "10\n"
     ]
    }
   ],
   "source": [
    "checkers = [\n",
    "    run_checker(data,ix=ix)\n",
    "    for ix in range(3,11)\n",
    "]"
   ]
  },
  {
   "cell_type": "code",
   "execution_count": 321,
   "metadata": {
    "ExecuteTime": {
     "end_time": "2019-10-14T16:20:59.917046Z",
     "start_time": "2019-10-14T16:20:59.914179Z"
    }
   },
   "outputs": [],
   "source": [
    "check = checkers[0]"
   ]
  },
  {
   "cell_type": "code",
   "execution_count": 330,
   "metadata": {
    "ExecuteTime": {
     "end_time": "2019-10-14T16:23:23.087549Z",
     "start_time": "2019-10-14T16:23:23.080999Z"
    }
   },
   "outputs": [],
   "source": [
    "mean_test = [\n",
    "    check.metrics_list['AUC'][:,1].mean() for check in checkers\n",
    "]\n",
    "\n",
    "std_test = [\n",
    "    check.metrics_list['AUC'][:,1].std() for check in checkers\n",
    "]\n",
    "\n",
    "mean_train = [\n",
    "    check.metrics_list['AUC'][:,0].mean() for check in checkers\n",
    "]\n",
    "\n",
    "std_train = [\n",
    "    check.metrics_list['AUC'][:,0].std() for check in checkers\n",
    "]\n",
    "\n",
    "mean_oft = [\n",
    "    check.metrics_list['AUC'][:,2].mean() for check in checkers\n",
    "]\n",
    "\n",
    "std_oft = [\n",
    "    check.metrics_list['AUC'][:,2].std() for check in checkers\n",
    "]"
   ]
  },
  {
   "cell_type": "code",
   "execution_count": 331,
   "metadata": {
    "ExecuteTime": {
     "end_time": "2019-10-14T16:23:45.349242Z",
     "start_time": "2019-10-14T16:23:45.344740Z"
    }
   },
   "outputs": [
    {
     "data": {
      "text/plain": [
       "[3, 4, 5, 6, 7, 8, 9, 10]"
      ]
     },
     "execution_count": 331,
     "metadata": {},
     "output_type": "execute_result"
    }
   ],
   "source": [
    "x_axis = list(range(3,11))\n",
    "x_axis"
   ]
  },
  {
   "cell_type": "code",
   "execution_count": 336,
   "metadata": {
    "ExecuteTime": {
     "end_time": "2019-10-14T16:24:34.514885Z",
     "start_time": "2019-10-14T16:24:34.394664Z"
    }
   },
   "outputs": [
    {
     "data": {
      "text/plain": [
       "[<matplotlib.lines.Line2D at 0x1a1c7bf9e8>]"
      ]
     },
     "execution_count": 336,
     "metadata": {},
     "output_type": "execute_result"
    },
    {
     "data": {
      "image/png": "[encoded data removed]",
      "text/plain": [
       "<Figure size 432x288 with 1 Axes>"
      ]
     },
     "metadata": {
      "needs_background": "light"
     },
     "output_type": "display_data"
    }
   ],
   "source": [
    "plt.plot(x_axis,mean_train)\n",
    "plt.plot(x_axis,mean_test)"
   ]
  },
  {
   "cell_type": "code",
   "execution_count": 338,
   "metadata": {
    "ExecuteTime": {
     "end_time": "2019-10-14T16:25:22.546289Z",
     "start_time": "2019-10-14T16:25:22.429015Z"
    }
   },
   "outputs": [
    {
     "data": {
      "text/plain": [
       "[<matplotlib.lines.Line2D at 0x1a1ad53780>]"
      ]
     },
     "execution_count": 338,
     "metadata": {},
     "output_type": "execute_result"
    },
    {
     "data": {
      "image/png": "[encoded data removed]",
      "text/plain": [
       "<Figure size 432x288 with 1 Axes>"
      ]
     },
     "metadata": {
      "needs_background": "light"
     },
     "output_type": "display_data"
    }
   ],
   "source": [
    "plt.plot(x_axis,std_train)\n",
    "plt.plot(x_axis,std_test)\n",
    "plt.plot(x_axis,std_oft)"
   ]
  },
  {
   "cell_type": "code",
   "execution_count": null,
   "metadata": {},
   "outputs": [],
   "source": [
    "plt.plot(x_axis,std_train)\n",
    "plt.plot(x_axis,std_test)"
   ]
  },
  {
   "cell_type": "code",
   "execution_count": 111,
   "metadata": {
    "ExecuteTime": {
     "end_time": "2019-10-14T15:25:22.743489Z",
     "start_time": "2019-10-14T15:25:22.740412Z"
    }
   },
   "outputs": [],
   "source": [
    "xgb_mod = XGBClassifier(\n",
    "    n_estimators=50,\n",
    "    max_depth=2\n",
    ")"
   ]
  },
  {
   "cell_type": "code",
   "execution_count": 136,
   "metadata": {
    "ExecuteTime": {
     "end_time": "2019-10-14T15:29:53.974570Z",
     "start_time": "2019-10-14T15:29:53.676453Z"
    }
   },
   "outputs": [
    {
     "data": {
      "image/png": "[encoded data removed]",
      "text/plain": [
       "<Figure size 432x288 with 1 Axes>"
      ]
     },
     "metadata": {
      "needs_background": "light"
     },
     "output_type": "display_data"
    },
    {
     "data": {
      "image/png": "[encoded data removed]",
      "text/plain": [
       "<Figure size 432x288 with 1 Axes>"
      ]
     },
     "metadata": {
      "needs_background": "light"
     },
     "output_type": "display_data"
    }
   ],
   "source": [
    "checker.plot('AUC')"
   ]
  },
  {
   "cell_type": "code",
   "execution_count": 137,
   "metadata": {
    "ExecuteTime": {
     "end_time": "2019-10-14T15:29:55.933850Z",
     "start_time": "2019-10-14T15:29:55.929082Z"
    }
   },
   "outputs": [
    {
     "name": "stdout",
     "output_type": "stream",
     "text": [
      "Mean of metric on train is 0.77\n",
      "Mean of metric on test is 0.7\n",
      "Mean of delta is 0.06\n",
      "Standard Deviation of metric on train is 0.00558\n",
      "Standard Deviation of metric on test is 0.01974\n",
      "Standard Deviation of delta is 0.02451\n"
     ]
    }
   ],
   "source": [
    "checker.reporting('AUC')"
   ]
  },
  {
   "cell_type": "code",
   "execution_count": 140,
   "metadata": {
    "ExecuteTime": {
     "end_time": "2019-10-14T15:31:00.739283Z",
     "start_time": "2019-10-14T15:31:00.443394Z"
    }
   },
   "outputs": [
    {
     "data": {
      "image/png": "[encoded data removed]",
      "text/plain": [
       "<Figure size 432x288 with 1 Axes>"
      ]
     },
     "metadata": {
      "needs_background": "light"
     },
     "output_type": "display_data"
    },
    {
     "data": {
      "image/png": "[encoded data removed]",
      "text/plain": [
       "<Figure size 432x288 with 1 Axes>"
      ]
     },
     "metadata": {
      "needs_background": "light"
     },
     "output_type": "display_data"
    }
   ],
   "source": [
    "checker.plot('AUC')"
   ]
  },
  {
   "cell_type": "code",
   "execution_count": 141,
   "metadata": {
    "ExecuteTime": {
     "end_time": "2019-10-14T15:31:00.744336Z",
     "start_time": "2019-10-14T15:31:00.740826Z"
    }
   },
   "outputs": [
    {
     "name": "stdout",
     "output_type": "stream",
     "text": [
      "Mean of metric on train is 0.92\n",
      "Mean of metric on test is 0.9\n",
      "Mean of delta is 0.02\n",
      "Standard Deviation of metric on train is 0.0058\n",
      "Standard Deviation of metric on test is 0.01731\n",
      "Standard Deviation of delta is 0.02239\n"
     ]
    }
   ],
   "source": [
    "checker.reporting('AUC')"
   ]
  },
  {
   "cell_type": "code",
   "execution_count": 146,
   "metadata": {
    "ExecuteTime": {
     "end_time": "2019-10-14T15:32:02.089334Z",
     "start_time": "2019-10-14T15:32:01.817328Z"
    }
   },
   "outputs": [
    {
     "data": {
      "image/png": "[encoded data removed]",
      "text/plain": [
       "<Figure size 432x288 with 1 Axes>"
      ]
     },
     "metadata": {
      "needs_background": "light"
     },
     "output_type": "display_data"
    },
    {
     "data": {
      "image/png": "[encoded data removed]",
      "text/plain": [
       "<Figure size 432x288 with 1 Axes>"
      ]
     },
     "metadata": {
      "needs_background": "light"
     },
     "output_type": "display_data"
    }
   ],
   "source": [
    "checker.plot('AUC')"
   ]
  },
  {
   "cell_type": "code",
   "execution_count": 147,
   "metadata": {
    "ExecuteTime": {
     "end_time": "2019-10-14T15:32:02.094779Z",
     "start_time": "2019-10-14T15:32:02.091049Z"
    }
   },
   "outputs": [
    {
     "name": "stdout",
     "output_type": "stream",
     "text": [
      "Mean of metric on train is 0.92\n",
      "Mean of metric on test is 0.87\n",
      "Mean of delta is 0.04\n",
      "Standard Deviation of metric on train is 0.00529\n",
      "Standard Deviation of metric on test is 0.01993\n",
      "Standard Deviation of delta is 0.02406\n"
     ]
    }
   ],
   "source": [
    "checker.reporting('AUC')"
   ]
  },
  {
   "cell_type": "code",
   "execution_count": 133,
   "metadata": {
    "ExecuteTime": {
     "end_time": "2019-10-14T15:28:45.439626Z",
     "start_time": "2019-10-14T15:28:45.435151Z"
    }
   },
   "outputs": [
    {
     "name": "stdout",
     "output_type": "stream",
     "text": [
      "0.7595709824854304\n",
      "0.6839279644245769\n",
      "0.0756430180608536\n"
     ]
    }
   ],
   "source": [
    "print(checker.metrics_list['AUC'][:,0].mean())\n",
    "print(checker.metrics_list['AUC'][:,1].mean())\n",
    "print(checker.metrics_list['AUC'][:,2].mean())"
   ]
  },
  {
   "cell_type": "code",
   "execution_count": null,
   "metadata": {},
   "outputs": [],
   "source": []
  }
 ],
 "metadata": {
  "kernelspec": {
   "display_name": "Python 3",
   "language": "python",
   "name": "python3"
  },
  "language_info": {
   "codemirror_mode": {
    "name": "ipython",
    "version": 3
   },
   "file_extension": ".py",
   "mimetype": "text/x-python",
   "name": "python",
   "nbconvert_exporter": "python",
   "pygments_lexer": "ipython3",
   "version": "3.6.9"
  },
  "latex_envs": {
   "LaTeX_envs_menu_present": true,
   "autoclose": false,
   "autocomplete": true,
   "bibliofile": "biblio.bib",
   "cite_by": "apalike",
   "current_citInitial": 1,
   "eqLabelWithNumbers": true,
   "eqNumInitial": 1,
   "hotkeys": {
    "equation": "Ctrl-E",
    "itemize": "Ctrl-I"
   },
   "labels_anchors": false,
   "latex_user_defs": false,
   "report_style_numbering": false,
   "user_envs_cfg": false
  }
 },
 "nbformat": 4,
 "nbformat_minor": 2
}
