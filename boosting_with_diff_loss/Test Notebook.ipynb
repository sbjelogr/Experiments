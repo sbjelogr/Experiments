{
 "cells": [
  {
   "cell_type": "code",
   "execution_count": 2,
   "metadata": {
    "ExecuteTime": {
     "end_time": "2020-01-07T20:23:55.906990Z",
     "start_time": "2020-01-07T20:23:54.897358Z"
    }
   },
   "outputs": [],
   "source": [
    "import pandas as pd\n",
    "from xgboost import XGBClassifier\n"
   ]
  },
  {
   "cell_type": "code",
   "execution_count": 3,
   "metadata": {
    "ExecuteTime": {
     "end_time": "2020-01-07T20:23:56.040434Z",
     "start_time": "2020-01-07T20:23:55.908917Z"
    }
   },
   "outputs": [
    {
     "name": "stdout",
     "output_type": "stream",
     "text": [
      "\u001b[1m\u001b[33mCredit_Card_Fraud\u001b[m\u001b[m\n",
      "\u001b[1m\u001b[33mDefault_Of_Credit_Card_Clients\u001b[m\u001b[m\n",
      "\u001b[1m\u001b[33mEuropean_Cutsomer_Credit_Card_Transactions\u001b[m\u001b[m\n",
      "\u001b[1m\u001b[33mHome_Credit\u001b[m\u001b[m\n",
      "\u001b[1m\u001b[33mSantander_Customer_Transaction\u001b[m\u001b[m\n"
     ]
    }
   ],
   "source": [
    "! ls /Users/we56sc/Analytics/DataSets/"
   ]
  },
  {
   "cell_type": "code",
   "execution_count": 4,
   "metadata": {
    "ExecuteTime": {
     "end_time": "2020-01-07T20:23:57.689996Z",
     "start_time": "2020-01-07T20:23:56.043519Z"
    }
   },
   "outputs": [],
   "source": [
    "data_cc = pd.read_csv(\"/Users/we56sc/Analytics/DataSets/Credit_Card_Fraud/creditcard.csv\")\n",
    "data_taiwan = pd.read_csv(\"/Users/we56sc/Analytics/DataSets/Default_Of_Credit_Card_Clients/UCI_Credit_Card.csv\")"
   ]
  },
  {
   "cell_type": "code",
   "execution_count": 5,
   "metadata": {
    "ExecuteTime": {
     "end_time": "2020-01-07T20:23:57.699965Z",
     "start_time": "2020-01-07T20:23:57.691271Z"
    }
   },
   "outputs": [
    {
     "data": {
      "text/plain": [
       "Index(['Time', 'V1', 'V2', 'V3', 'V4', 'V5', 'V6', 'V7', 'V8', 'V9', 'V10',\n",
       "       'V11', 'V12', 'V13', 'V14', 'V15', 'V16', 'V17', 'V18', 'V19', 'V20',\n",
       "       'V21', 'V22', 'V23', 'V24', 'V25', 'V26', 'V27', 'V28', 'Amount',\n",
       "       'Class'],\n",
       "      dtype='object')"
      ]
     },
     "execution_count": 5,
     "metadata": {},
     "output_type": "execute_result"
    }
   ],
   "source": [
    "data_cc.columns"
   ]
  },
  {
   "cell_type": "code",
   "execution_count": 6,
   "metadata": {
    "ExecuteTime": {
     "end_time": "2020-01-07T20:23:57.710855Z",
     "start_time": "2020-01-07T20:23:57.701894Z"
    }
   },
   "outputs": [
    {
     "data": {
      "text/plain": [
       "0    284315\n",
       "1       492\n",
       "Name: Class, dtype: int64"
      ]
     },
     "execution_count": 6,
     "metadata": {},
     "output_type": "execute_result"
    }
   ],
   "source": [
    "data_cc.Class.value_counts()"
   ]
  },
  {
   "cell_type": "code",
   "execution_count": 7,
   "metadata": {
    "ExecuteTime": {
     "end_time": "2020-01-07T20:23:57.716178Z",
     "start_time": "2020-01-07T20:23:57.712348Z"
    }
   },
   "outputs": [
    {
     "data": {
      "text/plain": [
       "Index(['Time', 'V1', 'V2', 'V3', 'V4', 'V5', 'V6', 'V7', 'V8', 'V9', 'V10',\n",
       "       'V11', 'V12', 'V13', 'V14', 'V15', 'V16', 'V17', 'V18', 'V19', 'V20',\n",
       "       'V21', 'V22', 'V23', 'V24', 'V25', 'V26', 'V27', 'V28', 'Amount',\n",
       "       'Class'],\n",
       "      dtype='object')"
      ]
     },
     "execution_count": 7,
     "metadata": {},
     "output_type": "execute_result"
    }
   ],
   "source": [
    "data_cc.columns"
   ]
  },
  {
   "cell_type": "markdown",
   "metadata": {},
   "source": [
    "# Import imbalance xgboost"
   ]
  },
  {
   "cell_type": "code",
   "execution_count": 10,
   "metadata": {
    "ExecuteTime": {
     "end_time": "2020-01-07T20:23:57.721310Z",
     "start_time": "2020-01-07T20:23:57.717384Z"
    }
   },
   "outputs": [],
   "source": [
    "# from imxgboost.imbalance_xgb import imbalance_xgboost as imb_xgb"
   ]
  },
  {
   "cell_type": "code",
   "execution_count": 9,
   "metadata": {
    "ExecuteTime": {
     "end_time": "2020-01-07T20:23:58.201812Z",
     "start_time": "2020-01-07T20:23:58.194158Z"
    }
   },
   "outputs": [],
   "source": [
    "data_taiwan.drop('ID',inplace=True, axis=1)"
   ]
  },
  {
   "cell_type": "code",
   "execution_count": 9,
   "metadata": {
    "ExecuteTime": {
     "end_time": "2020-01-07T20:23:58.813754Z",
     "start_time": "2020-01-07T20:23:58.765260Z"
    }
   },
   "outputs": [],
   "source": [
    "data_cc.drop(\"Time\",inplace=True, axis=1)"
   ]
  },
  {
   "cell_type": "code",
   "execution_count": 10,
   "metadata": {
    "ExecuteTime": {
     "end_time": "2020-01-07T20:23:59.334657Z",
     "start_time": "2020-01-07T20:23:59.332509Z"
    }
   },
   "outputs": [],
   "source": [
    "from sklearn.model_selection import train_test_split\n"
   ]
  },
  {
   "cell_type": "code",
   "execution_count": 11,
   "metadata": {
    "ExecuteTime": {
     "end_time": "2020-01-07T20:23:59.588660Z",
     "start_time": "2020-01-07T20:23:59.584496Z"
    }
   },
   "outputs": [
    {
     "data": {
      "text/plain": [
       "Index(['LIMIT_BAL', 'SEX', 'EDUCATION', 'MARRIAGE', 'AGE', 'PAY_0', 'PAY_2',\n",
       "       'PAY_3', 'PAY_4', 'PAY_5', 'PAY_6', 'BILL_AMT1', 'BILL_AMT2',\n",
       "       'BILL_AMT3', 'BILL_AMT4', 'BILL_AMT5', 'BILL_AMT6', 'PAY_AMT1',\n",
       "       'PAY_AMT2', 'PAY_AMT3', 'PAY_AMT4', 'PAY_AMT5', 'PAY_AMT6',\n",
       "       'default.payment.next.month'],\n",
       "      dtype='object')"
      ]
     },
     "execution_count": 11,
     "metadata": {},
     "output_type": "execute_result"
    }
   ],
   "source": [
    "data_taiwan.columns"
   ]
  },
  {
   "cell_type": "code",
   "execution_count": 12,
   "metadata": {
    "ExecuteTime": {
     "end_time": "2020-01-07T20:23:59.869408Z",
     "start_time": "2020-01-07T20:23:59.854854Z"
    }
   },
   "outputs": [],
   "source": [
    " X_train, X_test, y_train, y_test = train_test_split(\n",
    "     data_taiwan.drop('default.payment.next.month', axis=1), \n",
    "     data_taiwan['default.payment.next.month'], \n",
    "     test_size=0.33, random_state=42)\n"
   ]
  },
  {
   "cell_type": "code",
   "execution_count": 13,
   "metadata": {
    "ExecuteTime": {
     "end_time": "2020-01-07T20:24:00.403239Z",
     "start_time": "2020-01-07T20:24:00.401138Z"
    }
   },
   "outputs": [],
   "source": [
    "#  X_train, X_test, y_train, y_test = train_test_split(\n",
    "#      data_cc.drop('Class', axis=1), \n",
    "#      data_cc['Class'], \n",
    "#      test_size=0.33, random_state=42)"
   ]
  },
  {
   "cell_type": "markdown",
   "metadata": {},
   "source": [
    "## Define own Extended XGboost"
   ]
  },
  {
   "cell_type": "code",
   "execution_count": 14,
   "metadata": {
    "ExecuteTime": {
     "end_time": "2020-01-07T20:24:00.976601Z",
     "start_time": "2020-01-07T20:24:00.972916Z"
    }
   },
   "outputs": [],
   "source": [
    "from sklearn.metrics import roc_auc_score, f1_score\n",
    "\n",
    "def get_auc(X,y,model):\n",
    "    proba = model.predict_proba(X)[:,1]\n",
    "    \n",
    "    return roc_auc_score(y,proba)\n",
    "\n",
    "def get_f1(X,y,model):\n",
    "    pred = model.predict_proba(X)[:,1]>0.5\n",
    "    \n",
    "    return f1_score(y,pred)\n",
    "    "
   ]
  },
  {
   "cell_type": "code",
   "execution_count": 15,
   "metadata": {
    "ExecuteTime": {
     "end_time": "2020-01-07T20:24:01.580521Z",
     "start_time": "2020-01-07T20:24:01.552016Z"
    }
   },
   "outputs": [],
   "source": [
    "XGBClassifier?"
   ]
  },
  {
   "cell_type": "code",
   "execution_count": 16,
   "metadata": {
    "ExecuteTime": {
     "end_time": "2020-01-07T20:24:02.696997Z",
     "start_time": "2020-01-07T20:24:02.684999Z"
    }
   },
   "outputs": [],
   "source": [
    "import numpy as np\n",
    "\n",
    "class ExtendedXGboost(XGBClassifier):\n",
    "    \n",
    "    def __init__(self, imbalance_alpha = 1, gamma_indct=0,\n",
    "                 max_depth=3, learning_rate=0.1,\n",
    "                 n_estimators=100, verbosity=1,\n",
    "                 objective=\"binary:logistic\", booster='gbtree',\n",
    "                 tree_method='auto', n_jobs=1, gpu_id=0, gamma=0,\n",
    "                 min_child_weight=1, max_delta_step=0, subsample=1,\n",
    "                 colsample_bytree=1, colsample_bylevel=1, colsample_bynode=1,\n",
    "                 reg_alpha=0, reg_lambda=1, scale_pos_weight=1, base_score=0.5,\n",
    "                 random_state=0, missing=None, **kwargs):\n",
    "        \n",
    "        self.imbalance_alpha = imbalance_alpha,\n",
    "        self.gamma_indct = gamma_indct\n",
    "        if objective =='user:focal':\n",
    "            self.obj_func = self.focal_binary\n",
    "            \n",
    "        elif objective == 'user:weight':\n",
    "            self.obj_func = self.weighted_binary_cross_entropy\n",
    "            \n",
    "        else:\n",
    "            self.obj_func = objective\n",
    "        \n",
    "        super(ExtendedXGboost, self).__init__(\n",
    "            max_depth=max_depth, learning_rate=learning_rate,\n",
    "            n_estimators=n_estimators, verbosity=verbosity,\n",
    "            objective=self.obj_func,\n",
    "            booster=booster, tree_method=tree_method,\n",
    "            n_jobs=n_jobs, gpu_id=gpu_id, gamma=gamma,\n",
    "            min_child_weight=min_child_weight,\n",
    "            max_delta_step=max_delta_step, subsample=subsample,\n",
    "            colsample_bytree=colsample_bytree,\n",
    "            colsample_bylevel=colsample_bylevel,\n",
    "            colsample_bynode=colsample_bynode,\n",
    "            reg_alpha=reg_alpha, reg_lambda=reg_lambda,\n",
    "            scale_pos_weight=scale_pos_weight,\n",
    "            base_score=base_score, random_state=random_state, missing=missing,\n",
    "            **kwargs)\n",
    "        \n",
    "    def __repr__(self):\n",
    "        return \"This is extended XGboost with custom loss function\"\n",
    "        \n",
    "    def robust_pow(self, num_base, num_pow):\n",
    "        # numpy does not permit negative numbers to fractional power\n",
    "        # use this to perform the power algorithmic\n",
    "\n",
    "        return np.sign(num_base) * (np.abs(num_base)) ** (num_pow)\n",
    "\n",
    "    \n",
    "    def focal_binary(self, y_true, y_pred):\n",
    "        \n",
    "        gamma_indct = self.gamma_indct\n",
    "        # retrieve data from dtrain matrix\n",
    "        # compute the prediction with sigmoid\n",
    "        # gradient\n",
    "        # complex gradient with different parts\n",
    "        g1 = y_pred * (1 - y_pred)\n",
    "        g2 = y_true + ((-1) ** y_true) * y_pred\n",
    "        g3 = y_pred + y_true - 1\n",
    "        g4 = 1 - y_true - ((-1) ** y_true) * y_pred\n",
    "        g5 = y_true + ((-1) ** y_true) * y_pred\n",
    "        # combine the gradient\n",
    "        grad = gamma_indct * g3 * self.robust_pow(g2, gamma_indct) * np.log(g4 + 1e-9) + \\\n",
    "               ((-1) ** y_true) * self.robust_pow(g5, (gamma_indct + 1))\n",
    "        # combine the gradient parts to get hessian components\n",
    "        hess_1 = self.robust_pow(g2, gamma_indct) + \\\n",
    "                 gamma_indct * ((-1) ** y_true) * g3 * self.robust_pow(g2, (gamma_indct - 1))\n",
    "        hess_2 = ((-1) ** y_true) * g3 * self.robust_pow(g2, gamma_indct) / g4\n",
    "        # get the final 2nd order derivative\n",
    "        hess = ((hess_1 * np.log(g4 + 1e-9) - hess_2) * gamma_indct +\n",
    "                (gamma_indct + 1) * self.robust_pow(g5, gamma_indct)) * g1\n",
    "\n",
    "        return grad, hess\n",
    "    \n",
    "    def weighted_binary_cross_entropy(self, y_true, y_pred):\n",
    "        # assign the value of imbalanced alpha\n",
    "        imbalance_alpha = self.imbalance_alpha\n",
    "        # retrieve data from dtrain matrix\n",
    "\n",
    "        # gradient\n",
    "        grad = -(imbalance_alpha ** y_true) * (y_true - y_pred)\n",
    "        hess = (imbalance_alpha ** y_true) * y_pred * (1.0 - y_pred)\n",
    "\n",
    "        return grad, hess\n",
    "        \n",
    "   \n",
    "        "
   ]
  },
  {
   "cell_type": "code",
   "execution_count": 17,
   "metadata": {
    "ExecuteTime": {
     "end_time": "2020-01-07T20:24:07.797343Z",
     "start_time": "2020-01-07T20:24:05.875899Z"
    }
   },
   "outputs": [
    {
     "data": {
      "text/plain": [
       "XGBClassifier(base_score=0.5, booster='gbtree', colsample_bylevel=1,\n",
       "              colsample_bynode=1, colsample_bytree=1, gamma=0,\n",
       "              learning_rate=0.1, max_delta_step=0, max_depth=3,\n",
       "              min_child_weight=1, missing=None, n_estimators=100, n_jobs=1,\n",
       "              nthread=None, objective='binary:logistic', random_state=0,\n",
       "              reg_alpha=0, reg_lambda=1, scale_pos_weight=1, seed=None,\n",
       "              silent=None, subsample=1, verbosity=1)"
      ]
     },
     "execution_count": 17,
     "metadata": {},
     "output_type": "execute_result"
    }
   ],
   "source": [
    "model_1 = XGBClassifier().fit(X_train,y_train)\n",
    "model_1"
   ]
  },
  {
   "cell_type": "code",
   "execution_count": 20,
   "metadata": {
    "ExecuteTime": {
     "end_time": "2020-01-07T20:24:40.458477Z",
     "start_time": "2020-01-07T20:24:40.331659Z"
    }
   },
   "outputs": [],
   "source": [
    "from xgboost import plot_tree\n",
    "import matplotlib.pyplot as plt"
   ]
  },
  {
   "cell_type": "code",
   "execution_count": 31,
   "metadata": {
    "ExecuteTime": {
     "end_time": "2020-01-07T20:27:54.053219Z",
     "start_time": "2020-01-07T20:27:54.050221Z"
    }
   },
   "outputs": [],
   "source": [
    "from xgboost import plotting as xgb_plot"
   ]
  },
  {
   "cell_type": "code",
   "execution_count": 33,
   "metadata": {
    "ExecuteTime": {
     "end_time": "2020-01-07T20:28:21.848178Z",
     "start_time": "2020-01-07T20:28:21.438163Z"
    }
   },
   "outputs": [
    {
     "data": {
      "text/plain": [
       "<matplotlib.axes._subplots.AxesSubplot at 0x1a24613780>"
      ]
     },
     "execution_count": 33,
     "metadata": {},
     "output_type": "execute_result"
    },
    {
     "data": {
      "image/png": "[encoded data removed]",
      "text/plain": [
       "<Figure size 432x288 with 1 Axes>"
      ]
     },
     "metadata": {
      "needs_background": "light"
     },
     "output_type": "display_data"
    }
   ],
   "source": [
    "xgb_plot.plot_importance(model_1)"
   ]
  },
  {
   "cell_type": "code",
   "execution_count": 30,
   "metadata": {
    "ExecuteTime": {
     "end_time": "2020-01-07T20:26:09.350981Z",
     "start_time": "2020-01-07T20:26:08.505804Z"
    }
   },
   "outputs": [
    {
     "data": {
      "image/png": "[encoded data removed]",
      "text/plain": [
       "<Figure size 2160x2160 with 1 Axes>"
      ]
     },
     "metadata": {
      "needs_background": "light"
     },
     "output_type": "display_data"
    }
   ],
   "source": [
    "fig, ax = plt.subplots(figsize=(30, 30))\n",
    "plot_tree(model_1, num_trees=99, ax=ax)\n",
    "plt.show()"
   ]
  },
  {
   "cell_type": "code",
   "execution_count": null,
   "metadata": {
    "ExecuteTime": {
     "end_time": "2020-01-07T20:18:20.282617Z",
     "start_time": "2020-01-07T20:18:18.346638Z"
    }
   },
   "outputs": [],
   "source": [
    "! pip install graphviz"
   ]
  },
  {
   "cell_type": "code",
   "execution_count": null,
   "metadata": {
    "ExecuteTime": {
     "end_time": "2020-01-07T20:18:50.070120Z",
     "start_time": "2020-01-07T20:18:50.064130Z"
    }
   },
   "outputs": [],
   "source": [
    "plot_tree?"
   ]
  },
  {
   "cell_type": "code",
   "execution_count": null,
   "metadata": {
    "ExecuteTime": {
     "end_time": "2020-01-06T19:23:37.463462Z",
     "start_time": "2020-01-06T19:23:34.772586Z"
    }
   },
   "outputs": [],
   "source": [
    "model_2 = ExtendedXGboost(objective='user:weight').fit(X_train,y_train)\n",
    "model_2"
   ]
  },
  {
   "cell_type": "markdown",
   "metadata": {},
   "source": [
    "# Test different gammas"
   ]
  },
  {
   "cell_type": "code",
   "execution_count": null,
   "metadata": {
    "ExecuteTime": {
     "end_time": "2020-01-06T19:25:24.878389Z",
     "start_time": "2020-01-06T19:25:05.737716Z"
    }
   },
   "outputs": [],
   "source": [
    "gammas = [-4,-2,-1,-0.5,0,0.5,1,2,4]\n",
    "\n",
    "list_auc_train = list()\n",
    "list_auc_test = list()\n",
    "list_f1_train = list()\n",
    "list_f1_test = list()\n",
    "\n",
    "for gamma in gammas:\n",
    "    print(\"gamma {}\".format(gamma))\n",
    "    xgb_model = ExtendedXGboost(n_estimators=100,objective='user:focal', gamma_indct=gamma).fit(X_train,y_train)\n",
    "    \n",
    "    auc_train = get_auc(X_train,y_train, xgb_model)\n",
    "    auc_test = get_auc(X_test,y_test, xgb_model)\n",
    "    \n",
    "    f1_train = get_f1(X_train,y_train, xgb_model)\n",
    "    f1_test = get_f1(X_test,y_test, xgb_model)\n",
    "    \n",
    "    list_auc_train.append(auc_train)\n",
    "    list_auc_test.append(auc_test)\n",
    "    \n",
    "    list_f1_train.append(f1_train)\n",
    "    list_f1_test.append(f1_test)\n",
    "    \n",
    "    "
   ]
  },
  {
   "cell_type": "code",
   "execution_count": null,
   "metadata": {
    "ExecuteTime": {
     "end_time": "2020-01-06T19:25:25.153331Z",
     "start_time": "2020-01-06T19:25:24.879831Z"
    }
   },
   "outputs": [],
   "source": [
    "fig, ax = plt.subplots(1,2,figsize=(15,8))\n",
    "\n",
    "ax[0].plot(gammas, list_auc_train, label ='auc train', color = 'b')\n",
    "ax[0].plot(gammas, list_auc_test, label ='auc test', color = 'r')\n",
    "\n",
    "ax[1].plot(gammas, list_f1_train, label ='f1 train', color = 'b',linestyle='--')\n",
    "ax[1].plot(gammas, list_f1_test, label ='f1 test', color = 'r',linestyle='--')"
   ]
  },
  {
   "cell_type": "markdown",
   "metadata": {},
   "source": [
    "### Test the focal loss"
   ]
  },
  {
   "cell_type": "code",
   "execution_count": null,
   "metadata": {
    "ExecuteTime": {
     "end_time": "2020-01-06T19:30:28.593064Z",
     "start_time": "2020-01-06T19:30:06.750201Z"
    }
   },
   "outputs": [],
   "source": [
    "alphas = [0.5,1.,1.5,2,2.5,3.5,4,5]\n",
    "\n",
    "list_auc_train = list()\n",
    "list_auc_test = list()\n",
    "list_f1_train = list()\n",
    "list_f1_test = list()\n",
    "\n",
    "for alpha in alphas:\n",
    "    print(\"alpha {}\".format(alpha))\n",
    "    xgb_model = ExtendedXGboost(n_estimators=100,objective='user:weight', \n",
    "                                grow_policy='lossguide',\n",
    "                                reg_lambda=1000,\n",
    "                                imbalance_alpha=alpha).fit(X_train,y_train)\n",
    "    \n",
    "    auc_train = get_auc(X_train,y_train, xgb_model)\n",
    "    auc_test = get_auc(X_test,y_test, xgb_model)\n",
    "    \n",
    "    f1_train = get_f1(X_train,y_train, xgb_model)\n",
    "    f1_test = get_f1(X_test,y_test, xgb_model)\n",
    "    \n",
    "    list_auc_train.append(auc_train)\n",
    "    list_auc_test.append(auc_test)\n",
    "    \n",
    "    list_f1_train.append(f1_train)\n",
    "    list_f1_test.append(f1_test)\n",
    "    "
   ]
  },
  {
   "cell_type": "code",
   "execution_count": null,
   "metadata": {
    "ExecuteTime": {
     "end_time": "2020-01-06T19:30:28.844061Z",
     "start_time": "2020-01-06T19:30:28.594389Z"
    }
   },
   "outputs": [],
   "source": [
    "fig, ax = plt.subplots(1,2,figsize=(15,8))\n",
    "\n",
    "ax[0].plot(alphas, list_auc_train, label ='auc train', color = 'b')\n",
    "ax[0].plot(alphas, list_auc_test, label ='auc test', color = 'r')\n",
    "\n",
    "ax[1].plot(alphas, list_f1_train, label ='f1 train', color = 'b',linestyle='--')\n",
    "ax[1].plot(alphas, list_f1_test, label ='f1 test', color = 'r',linestyle='--')"
   ]
  },
  {
   "cell_type": "markdown",
   "metadata": {},
   "source": [
    "# Test the early stopping"
   ]
  },
  {
   "cell_type": "code",
   "execution_count": null,
   "metadata": {
    "ExecuteTime": {
     "end_time": "2020-01-06T19:31:20.122324Z",
     "start_time": "2020-01-06T19:31:20.119461Z"
    }
   },
   "outputs": [],
   "source": [
    "xgb = ExtendedXGboost(objective='user:weight', imbalance_alpha=2.5,n_estimators=1000, learning_rate=0.05)"
   ]
  },
  {
   "cell_type": "code",
   "execution_count": null,
   "metadata": {
    "ExecuteTime": {
     "end_time": "2020-01-06T19:31:39.344924Z",
     "start_time": "2020-01-06T19:31:39.338745Z"
    }
   },
   "outputs": [],
   "source": [
    "xgb.fit?"
   ]
  },
  {
   "cell_type": "code",
   "execution_count": null,
   "metadata": {
    "ExecuteTime": {
     "end_time": "2020-01-06T19:32:40.210575Z",
     "start_time": "2020-01-06T19:32:38.780587Z"
    }
   },
   "outputs": [],
   "source": [
    "%%time\n",
    "\n",
    "eval_set = [(X_train,y_train),(X_test, y_test)]\n",
    "\n",
    "xgb.fit(\n",
    "    X_train, y_train, \n",
    "    eval_metric=[\"auc\",'aucpr'], \n",
    "    eval_set=eval_set, \n",
    "    verbose=15, # after how many training sets you want the printout on the console\n",
    "    early_stopping_rounds=10\n",
    ")"
   ]
  },
  {
   "cell_type": "code",
   "execution_count": null,
   "metadata": {
    "ExecuteTime": {
     "end_time": "2020-01-06T18:59:46.946104Z",
     "start_time": "2020-01-06T18:59:46.675589Z"
    }
   },
   "outputs": [],
   "source": [
    "import matplotlib.pyplot as plt"
   ]
  },
  {
   "cell_type": "code",
   "execution_count": null,
   "metadata": {
    "ExecuteTime": {
     "end_time": "2020-01-06T19:33:18.631440Z",
     "start_time": "2020-01-06T19:33:18.354123Z"
    }
   },
   "outputs": [],
   "source": [
    "results = xgb.evals_result()\n",
    "\n",
    "epochs = len(results['validation_0']['aucpr'])\n",
    "x_axis = range(0, epochs)\n",
    "\n",
    "fig, ax = plt.subplots(1,2,figsize = (20,8))\n",
    "ax[0].plot(x_axis, results['validation_0']['aucpr'], label='Train')\n",
    "ax[0].plot(x_axis, results['validation_1']['aucpr'], label='Test')\n",
    "ax[0].set_title('LogLoss')\n",
    "ax[1].plot(x_axis, results['validation_0']['auc'], label='Train')\n",
    "ax[1].plot(x_axis, results['validation_1']['auc'], label='Test')\n",
    "ax[1].set_title('AUC')"
   ]
  },
  {
   "cell_type": "markdown",
   "metadata": {},
   "source": [
    "### Build a dmatrix"
   ]
  },
  {
   "cell_type": "code",
   "execution_count": null,
   "metadata": {
    "ExecuteTime": {
     "end_time": "2019-09-13T14:41:11.354413Z",
     "start_time": "2019-09-13T14:41:11.335166Z"
    }
   },
   "outputs": [],
   "source": [
    "import xgboost as xgb\n",
    "dtrain = xgb.DMatrix(X_train, label=y_train)\n",
    "dtest = xgb.DMatrix(X_test, label=y_test)"
   ]
  },
  {
   "cell_type": "code",
   "execution_count": null,
   "metadata": {
    "ExecuteTime": {
     "end_time": "2019-09-13T14:41:11.595872Z",
     "start_time": "2019-09-13T14:41:11.592064Z"
    }
   },
   "outputs": [],
   "source": [
    "xgb_params = {\n",
    "    \"n_estimators\":500,\n",
    "    \n",
    "    'objective':weighted_binary_cross_entropy,\n",
    "    \"learning_rate\":0.05,\n",
    "    \"imbalance_alpha\": 40\n",
    "}\n",
    "\n",
    "param = {'max_depth': 2, 'eta': 1, 'silent': 1}\n",
    "watchlist = [(dtest, 'eval'), (dtrain, 'train')]\n",
    "num_round = 2"
   ]
  },
  {
   "cell_type": "code",
   "execution_count": null,
   "metadata": {
    "ExecuteTime": {
     "end_time": "2019-09-13T14:42:05.948618Z",
     "start_time": "2019-09-13T14:42:05.935377Z"
    }
   },
   "outputs": [],
   "source": [
    "xgb.train(\n",
    "    params = xgb_params,\n",
    "    dtrain=dtrain,\n",
    "    evals =watchlist,\n",
    "    obj=weighted_binary_cross_entropy,\n",
    "    feval=evalerror\n",
    ")"
   ]
  },
  {
   "cell_type": "code",
   "execution_count": null,
   "metadata": {
    "ExecuteTime": {
     "end_time": "2019-09-13T15:01:10.425051Z",
     "start_time": "2019-09-13T15:01:10.257740Z"
    }
   },
   "outputs": [],
   "source": [
    "#!/usr/bin/python\n",
    "import numpy as np\n",
    "import xgboost as xgb\n",
    "###\n",
    "# advanced: customized loss function\n",
    "#\n",
    "print('start running example to used customized objective function')\n",
    "\n",
    "# dtrain = xgb.DMatrix('../data/agaricus.txt.train')\n",
    "# dtest = xgb.DMatrix('../data/agaricus.txt.test')\n",
    "\n",
    "# note: for customized objective function, we leave objective as default\n",
    "# note: what we are getting is margin value in prediction\n",
    "# you must know what you are doing\n",
    "param = {\"n_estimators\":100,'max_depth': 2, 'eta': 1, 'silent': 1}\n",
    "watchlist = [(dtest, 'eval'), (dtrain, 'train')]\n",
    "num_round = 2\n",
    "\n",
    "\n",
    "# user define objective function, given prediction, return gradient and second\n",
    "# order gradient this is log likelihood loss\n",
    "# def logregobj(preds, dtrain):\n",
    "#     labels = dtrain.get_label()\n",
    "#     preds = 1.0 / (1.0 + np.exp(-preds))\n",
    "#     grad = preds - labels\n",
    "#     hess = preds * (1.0 - preds)\n",
    "#     return grad, hess\n",
    "\n",
    "def weighted_binary_cross_entropy(preds, dtrain):\n",
    "       \n",
    "    imbalance_alpha = 10\n",
    "    # retrieve data from dtrain matrix\n",
    "    label = dtrain.get_label()\n",
    "    # compute the prediction with sigmoid\n",
    "    sigmoid_pred = 1.0 / (1.0 + np.exp(-preds))\n",
    "    # gradient\n",
    "    grad = -(imbalance_alpha ** label) * (label - sigmoid_pred)\n",
    "    hess = (imbalance_alpha ** label) * sigmoid_pred * (1.0 - sigmoid_pred)\n",
    "\n",
    "    return grad, hess\n",
    "\n",
    "\n",
    "# user defined evaluation function, return a pair metric_name, result\n",
    "\n",
    "# NOTE: when you do customized loss function, the default prediction value is\n",
    "# margin. this may make builtin evaluation metric not function properly for\n",
    "# example, we are doing logistic loss, the prediction is score before logistic\n",
    "# transformation the builtin evaluation error assumes input is after logistic\n",
    "# transformation Take this in mind when you use the customization, and maybe\n",
    "# you need write customized evaluation function\n",
    "def evalerror(preds, dtrain):\n",
    "    labels = dtrain.get_label()\n",
    "    # return a pair metric_name, result. The metric name must not contain a\n",
    "    # colon (:) or a space since preds are margin(before logistic\n",
    "    # transformation, cutoff at 0)\n",
    "    return 'my-error', float(sum(labels != (preds > 0.0))) / len(labels)\n",
    "\n",
    "\n",
    "\n",
    "\n",
    "# training with customized objective, we can also do step by step training\n",
    "# simply look at xgboost.py's implementation of train\n",
    "bst = xgb.train(param, dtrain, \n",
    "                num_round, \n",
    "                watchlist, \n",
    "                obj=weighted_binary_cross_entropy,\n",
    "                feval=evalerror)"
   ]
  },
  {
   "cell_type": "code",
   "execution_count": null,
   "metadata": {
    "ExecuteTime": {
     "end_time": "2019-09-13T15:01:41.899266Z",
     "start_time": "2019-09-13T15:01:41.892699Z"
    }
   },
   "outputs": [],
   "source": [
    "xgb.train?"
   ]
  },
  {
   "cell_type": "code",
   "execution_count": null,
   "metadata": {
    "ExecuteTime": {
     "end_time": "2019-09-13T15:02:56.652458Z",
     "start_time": "2019-09-13T15:02:55.896214Z"
    }
   },
   "outputs": [],
   "source": [
    "#!/usr/bin/python\n",
    "import numpy as np\n",
    "import xgboost as xgb\n",
    "###\n",
    "# advanced: customized loss function\n",
    "#\n",
    "print('start running example to used customized objective function')\n",
    "\n",
    "# dtrain = xgb.DMatrix('../data/agaricus.txt.train')\n",
    "# dtest = xgb.DMatrix('../data/agaricus.txt.test')\n",
    "\n",
    "# note: for customized objective function, we leave objective as default\n",
    "# note: what we are getting is margin value in prediction\n",
    "# you must know what you are doing\n",
    "param = {'max_depth': 2, 'eta': 1, 'silent': 1}\n",
    "watchlist = [(dtest, 'eval'), (dtrain, 'train')]\n",
    "num_round = 10\n",
    "\n",
    "\n",
    "# user define objective function, given prediction, return gradient and second\n",
    "# order gradient this is log likelihood loss\n",
    "def logregobj(preds, dtrain):\n",
    "    labels = dtrain.get_label()\n",
    "    preds = 1.0 / (1.0 + np.exp(-preds))\n",
    "    grad = preds - labels\n",
    "    hess = preds * (1.0 - preds)\n",
    "    return grad, hess\n",
    "\n",
    "\n",
    "# user defined evaluation function, return a pair metric_name, result\n",
    "\n",
    "# NOTE: when you do customized loss function, the default prediction value is\n",
    "# margin. this may make builtin evaluation metric not function properly for\n",
    "# example, we are doing logistic loss, the prediction is score before logistic\n",
    "# transformation the builtin evaluation error assumes input is after logistic\n",
    "# transformation Take this in mind when you use the customization, and maybe\n",
    "# you need write customized evaluation function\n",
    "def evalerror(preds, dtrain):\n",
    "    labels = dtrain.get_label()\n",
    "    # return a pair metric_name, result. The metric name must not contain a\n",
    "    # colon (:) or a space since preds are margin(before logistic\n",
    "    # transformation, cutoff at 0)\n",
    "    return 'my-error', float(sum(labels != (preds > 0.0))) / len(labels)\n",
    "\n",
    "\n",
    "# training with customized objective, we can also do step by step training\n",
    "# simply look at xgboost.py's implementation of train\n",
    "bst = xgb.train(param, dtrain, num_round, watchlist, obj=logregobj,\n",
    "                feval=evalerror)"
   ]
  },
  {
   "cell_type": "code",
   "execution_count": null,
   "metadata": {},
   "outputs": [],
   "source": []
  }
 ],
 "metadata": {
  "kernelspec": {
   "display_name": "Python 3",
   "language": "python",
   "name": "python3"
  },
  "language_info": {
   "codemirror_mode": {
    "name": "ipython",
    "version": 3
   },
   "file_extension": ".py",
   "mimetype": "text/x-python",
   "name": "python",
   "nbconvert_exporter": "python",
   "pygments_lexer": "ipython3",
   "version": "3.8.5"
  },
  "latex_envs": {
   "LaTeX_envs_menu_present": true,
   "autoclose": false,
   "autocomplete": true,
   "bibliofile": "biblio.bib",
   "cite_by": "apalike",
   "current_citInitial": 1,
   "eqLabelWithNumbers": true,
   "eqNumInitial": 1,
   "hotkeys": {
    "equation": "Ctrl-E",
    "itemize": "Ctrl-I"
   },
   "labels_anchors": false,
   "latex_user_defs": false,
   "report_style_numbering": false,
   "user_envs_cfg": false
  }
 },
 "nbformat": 4,
 "nbformat_minor": 4
}
