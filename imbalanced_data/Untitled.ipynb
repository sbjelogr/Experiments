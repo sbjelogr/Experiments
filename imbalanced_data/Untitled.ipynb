{
 "cells": [
  {
   "cell_type": "code",
   "execution_count": 1,
   "id": "academic-second",
   "metadata": {},
   "outputs": [],
   "source": [
    "import pandas as pd\n",
    "import matplotlib.pyplot as plt\n",
    "import numpy as np\n",
    "\n",
    "from sklearn.model_selection import train_test_split\n",
    "from sklearn.metrics import roc_auc_score, f1_score, precision_recall_curve, auc, roc_curve\n",
    "import lightgbm as lgb\n",
    "\n",
    "\n",
    "%matplotlib inline"
   ]
  },
  {
   "cell_type": "code",
   "execution_count": 2,
   "id": "talented-layout",
   "metadata": {},
   "outputs": [],
   "source": [
    "data_defaults = pd.read_csv(\"../data/UCI_Credit_Card.csv\")\n",
    "data_fraud = pd.read_csv(\"../data/creditcard.csv\")"
   ]
  },
  {
   "cell_type": "code",
   "execution_count": 3,
   "id": "valued-burning",
   "metadata": {},
   "outputs": [],
   "source": [
    "X_train, X_test, y_train, y_test = train_test_split(\n",
    "    data_defaults.drop(['default.payment.next.month','ID'],axis=1),\n",
    "    data_defaults['default.payment.next.month'] ,\n",
    "    test_size=0.33, \n",
    "    random_state=42\n",
    ")"
   ]
  },
  {
   "cell_type": "code",
   "execution_count": 5,
   "id": "advance-server",
   "metadata": {},
   "outputs": [
    {
     "data": {
      "text/plain": [
       "0    0.777214\n",
       "1    0.222786\n",
       "Name: default.payment.next.month, dtype: float64"
      ]
     },
     "execution_count": 5,
     "metadata": {},
     "output_type": "execute_result"
    }
   ],
   "source": [
    "y_train.value_counts(normalize=True)"
   ]
  },
  {
   "cell_type": "code",
   "execution_count": 110,
   "id": "parliamentary-symphony",
   "metadata": {},
   "outputs": [],
   "source": [
    "# Old stuff"
   ]
  },
  {
   "cell_type": "markdown",
   "id": "statewide-builder",
   "metadata": {},
   "source": [
    "### Buld the default model"
   ]
  },
  {
   "cell_type": "code",
   "execution_count": 6,
   "id": "aquatic-bargain",
   "metadata": {},
   "outputs": [],
   "source": [
    "import lightgbm as lgb\n",
    "\n",
    "train = lgb.Dataset(X_train, y_train)\n",
    "test = lgb.Dataset(X_test, y_test, reference=train)\n"
   ]
  },
  {
   "cell_type": "code",
   "execution_count": 84,
   "id": "numerical-prayer",
   "metadata": {},
   "outputs": [
    {
     "name": "stderr",
     "output_type": "stream",
     "text": [
      "/Users/sandro/.miniconda/installation/envs/py38/lib/python3.8/site-packages/lightgbm/engine.py:151: UserWarning: Found `n_estimators` in params. Will use it instead of argument\n",
      "  warnings.warn(\"Found `{}` in params. Will use it instead of argument\".format(alias))\n"
     ]
    },
    {
     "name": "stdout",
     "output_type": "stream",
     "text": [
      "[LightGBM] [Warning] Auto-choosing row-wise multi-threading, the overhead of testing was 0.002279 seconds.\n",
      "You can set `force_row_wise=true` to remove the overhead.\n",
      "And if memory is not enough, you can set `force_col_wise=true`.\n"
     ]
    }
   ],
   "source": [
    "params_std = {\n",
    "    'num_leaves': 8,\n",
    "    'n_estimators':150, \n",
    "     'n_jobs': 2,\n",
    "     'learning_rate': 0.02,\n",
    "    'metric' : ['binary_logloss'],\n",
    "    \"verbose\":0,\n",
    "    \"objective\":\"binary\"\n",
    "   }\n",
    "\n",
    "lgb_std = lgb.train(params=params_std,\n",
    "                train_set=train,\n",
    "                valid_sets=[train, test],\n",
    "                valid_names=['train','test'],\n",
    "                early_stopping_rounds=10,\n",
    "                verbose_eval=0,\n",
    "               )\n"
   ]
  },
  {
   "cell_type": "code",
   "execution_count": 85,
   "id": "solved-tenant",
   "metadata": {},
   "outputs": [
    {
     "data": {
      "text/plain": [
       "0.7784170284061349"
      ]
     },
     "execution_count": 85,
     "metadata": {},
     "output_type": "execute_result"
    }
   ],
   "source": [
    "roc_auc_score(y_test, lgb_std.predict(X_test))"
   ]
  },
  {
   "cell_type": "code",
   "execution_count": 86,
   "id": "northern-amsterdam",
   "metadata": {},
   "outputs": [],
   "source": [
    "# lgb_std.trees_to_dataframe().head(20)"
   ]
  },
  {
   "cell_type": "code",
   "execution_count": 88,
   "id": "changed-installation",
   "metadata": {},
   "outputs": [
    {
     "name": "stdout",
     "output_type": "stream",
     "text": [
      "3.4886109870477893\n",
      "[LightGBM] [Warning] Auto-choosing row-wise multi-threading, the overhead of testing was 0.001799 seconds.\n",
      "You can set `force_row_wise=true` to remove the overhead.\n",
      "And if memory is not enough, you can set `force_col_wise=true`.\n"
     ]
    }
   ],
   "source": [
    "scale_pos_weight = y_train.value_counts().iloc[0]/y_train.value_counts().iloc[1]\n",
    "print(scale_pos_weight)\n",
    "\n",
    "params_balanced = params_std.copy()\n",
    "params_balanced['scale_pos_weight']=2\n",
    "\n",
    "lgb_balanced = lgb.train(params=params_balanced,\n",
    "                train_set=train,\n",
    "                valid_sets=[train, test],\n",
    "                valid_names=['train','test'],\n",
    "                early_stopping_rounds=10,\n",
    "                verbose_eval=0\n",
    "               )\n",
    "\n"
   ]
  },
  {
   "cell_type": "code",
   "execution_count": 97,
   "id": "lined-services",
   "metadata": {},
   "outputs": [],
   "source": [
    "# lgb_balanced.predict?"
   ]
  },
  {
   "cell_type": "code",
   "execution_count": 99,
   "id": "known-delhi",
   "metadata": {},
   "outputs": [],
   "source": [
    "std_preds = pd.DataFrame(\n",
    "    lgb_std.predict(X_test, raw_score=True), index = X_test.index)\n",
    "bal_preds =  pd.DataFrame(\n",
    "    lgb_balanced.predict(X_test, raw_score=True),index = X_test.index\n",
    ")"
   ]
  },
  {
   "cell_type": "code",
   "execution_count": 94,
   "id": "palestinian-fireplace",
   "metadata": {},
   "outputs": [],
   "source": [
    "# df_trees = lgb_std.trees_to_dataframe()\n",
    "# df_trees[(df_trees['tree_index']==1) & (df_trees['split_feature'].isnull())]"
   ]
  },
  {
   "cell_type": "code",
   "execution_count": 93,
   "id": "colonial-somewhere",
   "metadata": {},
   "outputs": [
    {
     "data": {
      "text/html": [
       "<div>\n",
       "<style scoped>\n",
       "    .dataframe tbody tr th:only-of-type {\n",
       "        vertical-align: middle;\n",
       "    }\n",
       "\n",
       "    .dataframe tbody tr th {\n",
       "        vertical-align: top;\n",
       "    }\n",
       "\n",
       "    .dataframe thead th {\n",
       "        text-align: right;\n",
       "    }\n",
       "</style>\n",
       "<table border=\"1\" class=\"dataframe\">\n",
       "  <thead>\n",
       "    <tr style=\"text-align: right;\">\n",
       "      <th></th>\n",
       "      <th>tree_index</th>\n",
       "      <th>node_depth</th>\n",
       "      <th>node_index</th>\n",
       "      <th>left_child</th>\n",
       "      <th>right_child</th>\n",
       "      <th>parent_index</th>\n",
       "      <th>split_feature</th>\n",
       "      <th>split_gain</th>\n",
       "      <th>threshold</th>\n",
       "      <th>decision_type</th>\n",
       "      <th>missing_direction</th>\n",
       "      <th>missing_type</th>\n",
       "      <th>value</th>\n",
       "      <th>weight</th>\n",
       "      <th>count</th>\n",
       "    </tr>\n",
       "  </thead>\n",
       "  <tbody>\n",
       "    <tr>\n",
       "      <th>19</th>\n",
       "      <td>1</td>\n",
       "      <td>5</td>\n",
       "      <td>1-L0</td>\n",
       "      <td>None</td>\n",
       "      <td>None</td>\n",
       "      <td>1-S6</td>\n",
       "      <td>None</td>\n",
       "      <td>NaN</td>\n",
       "      <td>NaN</td>\n",
       "      <td>None</td>\n",
       "      <td>None</td>\n",
       "      <td>None</td>\n",
       "      <td>0.008811</td>\n",
       "      <td>993.190648</td>\n",
       "      <td>4849</td>\n",
       "    </tr>\n",
       "    <tr>\n",
       "      <th>20</th>\n",
       "      <td>1</td>\n",
       "      <td>5</td>\n",
       "      <td>1-L7</td>\n",
       "      <td>None</td>\n",
       "      <td>None</td>\n",
       "      <td>1-S6</td>\n",
       "      <td>None</td>\n",
       "      <td>NaN</td>\n",
       "      <td>NaN</td>\n",
       "      <td>None</td>\n",
       "      <td>None</td>\n",
       "      <td>None</td>\n",
       "      <td>0.035647</td>\n",
       "      <td>54.609206</td>\n",
       "      <td>227</td>\n",
       "    </tr>\n",
       "    <tr>\n",
       "      <th>21</th>\n",
       "      <td>1</td>\n",
       "      <td>4</td>\n",
       "      <td>1-L6</td>\n",
       "      <td>None</td>\n",
       "      <td>None</td>\n",
       "      <td>1-S5</td>\n",
       "      <td>None</td>\n",
       "      <td>NaN</td>\n",
       "      <td>NaN</td>\n",
       "      <td>None</td>\n",
       "      <td>None</td>\n",
       "      <td>None</td>\n",
       "      <td>0.045176</td>\n",
       "      <td>50.116138</td>\n",
       "      <td>197</td>\n",
       "    </tr>\n",
       "    <tr>\n",
       "      <th>23</th>\n",
       "      <td>1</td>\n",
       "      <td>4</td>\n",
       "      <td>1-L3</td>\n",
       "      <td>None</td>\n",
       "      <td>None</td>\n",
       "      <td>1-S3</td>\n",
       "      <td>None</td>\n",
       "      <td>NaN</td>\n",
       "      <td>NaN</td>\n",
       "      <td>None</td>\n",
       "      <td>None</td>\n",
       "      <td>None</td>\n",
       "      <td>-0.004515</td>\n",
       "      <td>1850.442470</td>\n",
       "      <td>9719</td>\n",
       "    </tr>\n",
       "    <tr>\n",
       "      <th>24</th>\n",
       "      <td>1</td>\n",
       "      <td>4</td>\n",
       "      <td>1-L4</td>\n",
       "      <td>None</td>\n",
       "      <td>None</td>\n",
       "      <td>1-S3</td>\n",
       "      <td>None</td>\n",
       "      <td>NaN</td>\n",
       "      <td>NaN</td>\n",
       "      <td>None</td>\n",
       "      <td>None</td>\n",
       "      <td>None</td>\n",
       "      <td>0.025302</td>\n",
       "      <td>122.174135</td>\n",
       "      <td>547</td>\n",
       "    </tr>\n",
       "    <tr>\n",
       "      <th>27</th>\n",
       "      <td>1</td>\n",
       "      <td>4</td>\n",
       "      <td>1-L1</td>\n",
       "      <td>None</td>\n",
       "      <td>None</td>\n",
       "      <td>1-S4</td>\n",
       "      <td>None</td>\n",
       "      <td>NaN</td>\n",
       "      <td>NaN</td>\n",
       "      <td>None</td>\n",
       "      <td>None</td>\n",
       "      <td>None</td>\n",
       "      <td>0.020032</td>\n",
       "      <td>271.109526</td>\n",
       "      <td>1237</td>\n",
       "    </tr>\n",
       "    <tr>\n",
       "      <th>28</th>\n",
       "      <td>1</td>\n",
       "      <td>4</td>\n",
       "      <td>1-L5</td>\n",
       "      <td>None</td>\n",
       "      <td>None</td>\n",
       "      <td>1-S4</td>\n",
       "      <td>None</td>\n",
       "      <td>NaN</td>\n",
       "      <td>NaN</td>\n",
       "      <td>None</td>\n",
       "      <td>None</td>\n",
       "      <td>None</td>\n",
       "      <td>0.042170</td>\n",
       "      <td>306.330492</td>\n",
       "      <td>1205</td>\n",
       "    </tr>\n",
       "    <tr>\n",
       "      <th>29</th>\n",
       "      <td>1</td>\n",
       "      <td>3</td>\n",
       "      <td>1-L2</td>\n",
       "      <td>None</td>\n",
       "      <td>None</td>\n",
       "      <td>1-S1</td>\n",
       "      <td>None</td>\n",
       "      <td>NaN</td>\n",
       "      <td>NaN</td>\n",
       "      <td>None</td>\n",
       "      <td>None</td>\n",
       "      <td>None</td>\n",
       "      <td>0.065214</td>\n",
       "      <td>646.256785</td>\n",
       "      <td>2119</td>\n",
       "    </tr>\n",
       "  </tbody>\n",
       "</table>\n",
       "</div>"
      ],
      "text/plain": [
       "    tree_index  node_depth node_index left_child right_child parent_index  \\\n",
       "19           1           5       1-L0       None        None         1-S6   \n",
       "20           1           5       1-L7       None        None         1-S6   \n",
       "21           1           4       1-L6       None        None         1-S5   \n",
       "23           1           4       1-L3       None        None         1-S3   \n",
       "24           1           4       1-L4       None        None         1-S3   \n",
       "27           1           4       1-L1       None        None         1-S4   \n",
       "28           1           4       1-L5       None        None         1-S4   \n",
       "29           1           3       1-L2       None        None         1-S1   \n",
       "\n",
       "   split_feature  split_gain  threshold decision_type missing_direction  \\\n",
       "19          None         NaN        NaN          None              None   \n",
       "20          None         NaN        NaN          None              None   \n",
       "21          None         NaN        NaN          None              None   \n",
       "23          None         NaN        NaN          None              None   \n",
       "24          None         NaN        NaN          None              None   \n",
       "27          None         NaN        NaN          None              None   \n",
       "28          None         NaN        NaN          None              None   \n",
       "29          None         NaN        NaN          None              None   \n",
       "\n",
       "   missing_type     value       weight  count  \n",
       "19         None  0.008811   993.190648   4849  \n",
       "20         None  0.035647    54.609206    227  \n",
       "21         None  0.045176    50.116138    197  \n",
       "23         None -0.004515  1850.442470   9719  \n",
       "24         None  0.025302   122.174135    547  \n",
       "27         None  0.020032   271.109526   1237  \n",
       "28         None  0.042170   306.330492   1205  \n",
       "29         None  0.065214   646.256785   2119  "
      ]
     },
     "execution_count": 93,
     "metadata": {},
     "output_type": "execute_result"
    }
   ],
   "source": [
    "# df_trees = lgb_balanced.trees_to_dataframe()\n",
    "# df_trees[(df_trees['tree_index']==1) & (df_trees['split_feature'].isnull())]"
   ]
  },
  {
   "cell_type": "code",
   "execution_count": 78,
   "id": "basic-tobago",
   "metadata": {},
   "outputs": [
    {
     "data": {
      "text/plain": [
       "6    4368\n",
       "3    1559\n",
       "5    1227\n",
       "7     953\n",
       "0     848\n",
       "2     755\n",
       "4     132\n",
       "1      58\n",
       "Name: 0, dtype: int64"
      ]
     },
     "execution_count": 78,
     "metadata": {},
     "output_type": "execute_result"
    }
   ],
   "source": [
    "std_preds[0].value_counts()"
   ]
  },
  {
   "cell_type": "code",
   "execution_count": 109,
   "id": "general-banner",
   "metadata": {},
   "outputs": [
    {
     "data": {
      "text/plain": [
       "2751    -527.54\n",
       "1109    -314.56\n",
       "9798    -302.41\n",
       "14576   -164.35\n",
       "7376    -157.47\n",
       "          ...  \n",
       "8735      98.73\n",
       "20921    125.03\n",
       "19025    228.07\n",
       "7751     231.53\n",
       "15443    866.20\n",
       "Name: 0, Length: 9900, dtype: float64"
      ]
     },
     "execution_count": 109,
     "metadata": {},
     "output_type": "execute_result"
    }
   ],
   "source": [
    "round((std_preds[0]/bal_preds[0]),2).sort_values()"
   ]
  },
  {
   "cell_type": "code",
   "execution_count": null,
   "id": "great-corpus",
   "metadata": {},
   "outputs": [],
   "source": [
    "lgb_balanced.predict(X_train"
   ]
  },
  {
   "cell_type": "code",
   "execution_count": 55,
   "id": "horizontal-married",
   "metadata": {},
   "outputs": [
    {
     "data": {
      "text/plain": [
       "\u001b[0;31mSignature:\u001b[0m\n",
       "\u001b[0mlgb\u001b[0m\u001b[0;34m.\u001b[0m\u001b[0msklearn\u001b[0m\u001b[0;34m.\u001b[0m\u001b[0mtrain\u001b[0m\u001b[0;34m(\u001b[0m\u001b[0;34m\u001b[0m\n",
       "\u001b[0;34m\u001b[0m    \u001b[0mparams\u001b[0m\u001b[0;34m,\u001b[0m\u001b[0;34m\u001b[0m\n",
       "\u001b[0;34m\u001b[0m    \u001b[0mtrain_set\u001b[0m\u001b[0;34m,\u001b[0m\u001b[0;34m\u001b[0m\n",
       "\u001b[0;34m\u001b[0m    \u001b[0mnum_boost_round\u001b[0m\u001b[0;34m=\u001b[0m\u001b[0;36m100\u001b[0m\u001b[0;34m,\u001b[0m\u001b[0;34m\u001b[0m\n",
       "\u001b[0;34m\u001b[0m    \u001b[0mvalid_sets\u001b[0m\u001b[0;34m=\u001b[0m\u001b[0;32mNone\u001b[0m\u001b[0;34m,\u001b[0m\u001b[0;34m\u001b[0m\n",
       "\u001b[0;34m\u001b[0m    \u001b[0mvalid_names\u001b[0m\u001b[0;34m=\u001b[0m\u001b[0;32mNone\u001b[0m\u001b[0;34m,\u001b[0m\u001b[0;34m\u001b[0m\n",
       "\u001b[0;34m\u001b[0m    \u001b[0mfobj\u001b[0m\u001b[0;34m=\u001b[0m\u001b[0;32mNone\u001b[0m\u001b[0;34m,\u001b[0m\u001b[0;34m\u001b[0m\n",
       "\u001b[0;34m\u001b[0m    \u001b[0mfeval\u001b[0m\u001b[0;34m=\u001b[0m\u001b[0;32mNone\u001b[0m\u001b[0;34m,\u001b[0m\u001b[0;34m\u001b[0m\n",
       "\u001b[0;34m\u001b[0m    \u001b[0minit_model\u001b[0m\u001b[0;34m=\u001b[0m\u001b[0;32mNone\u001b[0m\u001b[0;34m,\u001b[0m\u001b[0;34m\u001b[0m\n",
       "\u001b[0;34m\u001b[0m    \u001b[0mfeature_name\u001b[0m\u001b[0;34m=\u001b[0m\u001b[0;34m'auto'\u001b[0m\u001b[0;34m,\u001b[0m\u001b[0;34m\u001b[0m\n",
       "\u001b[0;34m\u001b[0m    \u001b[0mcategorical_feature\u001b[0m\u001b[0;34m=\u001b[0m\u001b[0;34m'auto'\u001b[0m\u001b[0;34m,\u001b[0m\u001b[0;34m\u001b[0m\n",
       "\u001b[0;34m\u001b[0m    \u001b[0mearly_stopping_rounds\u001b[0m\u001b[0;34m=\u001b[0m\u001b[0;32mNone\u001b[0m\u001b[0;34m,\u001b[0m\u001b[0;34m\u001b[0m\n",
       "\u001b[0;34m\u001b[0m    \u001b[0mevals_result\u001b[0m\u001b[0;34m=\u001b[0m\u001b[0;32mNone\u001b[0m\u001b[0;34m,\u001b[0m\u001b[0;34m\u001b[0m\n",
       "\u001b[0;34m\u001b[0m    \u001b[0mverbose_eval\u001b[0m\u001b[0;34m=\u001b[0m\u001b[0;32mTrue\u001b[0m\u001b[0;34m,\u001b[0m\u001b[0;34m\u001b[0m\n",
       "\u001b[0;34m\u001b[0m    \u001b[0mlearning_rates\u001b[0m\u001b[0;34m=\u001b[0m\u001b[0;32mNone\u001b[0m\u001b[0;34m,\u001b[0m\u001b[0;34m\u001b[0m\n",
       "\u001b[0;34m\u001b[0m    \u001b[0mkeep_training_booster\u001b[0m\u001b[0;34m=\u001b[0m\u001b[0;32mFalse\u001b[0m\u001b[0;34m,\u001b[0m\u001b[0;34m\u001b[0m\n",
       "\u001b[0;34m\u001b[0m    \u001b[0mcallbacks\u001b[0m\u001b[0;34m=\u001b[0m\u001b[0;32mNone\u001b[0m\u001b[0;34m,\u001b[0m\u001b[0;34m\u001b[0m\n",
       "\u001b[0;34m\u001b[0m\u001b[0;34m)\u001b[0m\u001b[0;34m\u001b[0m\u001b[0;34m\u001b[0m\u001b[0m\n",
       "\u001b[0;31mDocstring:\u001b[0m\n",
       "Perform the training with given parameters.\n",
       "\n",
       "Parameters\n",
       "----------\n",
       "params : dict\n",
       "    Parameters for training.\n",
       "train_set : Dataset\n",
       "    Data to be trained on.\n",
       "num_boost_round : int, optional (default=100)\n",
       "    Number of boosting iterations.\n",
       "valid_sets : list of Datasets or None, optional (default=None)\n",
       "    List of data to be evaluated on during training.\n",
       "valid_names : list of strings or None, optional (default=None)\n",
       "    Names of ``valid_sets``.\n",
       "fobj : callable or None, optional (default=None)\n",
       "    Customized objective function.\n",
       "    Should accept two parameters: preds, train_data,\n",
       "    and return (grad, hess).\n",
       "\n",
       "        preds : list or numpy 1-D array\n",
       "            The predicted values.\n",
       "        train_data : Dataset\n",
       "            The training dataset.\n",
       "        grad : list or numpy 1-D array\n",
       "            The value of the first order derivative (gradient) for each sample point.\n",
       "        hess : list or numpy 1-D array\n",
       "            The value of the second order derivative (Hessian) for each sample point.\n",
       "\n",
       "    For binary task, the preds is margin.\n",
       "    For multi-class task, the preds is group by class_id first, then group by row_id.\n",
       "    If you want to get i-th row preds in j-th class, the access way is score[j * num_data + i]\n",
       "    and you should group grad and hess in this way as well.\n",
       "\n",
       "feval : callable, list of callable functions or None, optional (default=None)\n",
       "    Customized evaluation function.\n",
       "    Each evaluation function should accept two parameters: preds, train_data,\n",
       "    and return (eval_name, eval_result, is_higher_better) or list of such tuples.\n",
       "\n",
       "        preds : list or numpy 1-D array\n",
       "            The predicted values.\n",
       "        train_data : Dataset\n",
       "            The training dataset.\n",
       "        eval_name : string\n",
       "            The name of evaluation function (without whitespaces).\n",
       "        eval_result : float\n",
       "            The eval result.\n",
       "        is_higher_better : bool\n",
       "            Is eval result higher better, e.g. AUC is ``is_higher_better``.\n",
       "\n",
       "    For binary task, the preds is probability of positive class (or margin in case of specified ``fobj``).\n",
       "    For multi-class task, the preds is group by class_id first, then group by row_id.\n",
       "    If you want to get i-th row preds in j-th class, the access way is preds[j * num_data + i].\n",
       "    To ignore the default metric corresponding to the used objective,\n",
       "    set the ``metric`` parameter to the string ``\"None\"`` in ``params``.\n",
       "init_model : string, Booster or None, optional (default=None)\n",
       "    Filename of LightGBM model or Booster instance used for continue training.\n",
       "feature_name : list of strings or 'auto', optional (default=\"auto\")\n",
       "    Feature names.\n",
       "    If 'auto' and data is pandas DataFrame, data columns names are used.\n",
       "categorical_feature : list of strings or int, or 'auto', optional (default=\"auto\")\n",
       "    Categorical features.\n",
       "    If list of int, interpreted as indices.\n",
       "    If list of strings, interpreted as feature names (need to specify ``feature_name`` as well).\n",
       "    If 'auto' and data is pandas DataFrame, pandas unordered categorical columns are used.\n",
       "    All values in categorical features should be less than int32 max value (2147483647).\n",
       "    Large values could be memory consuming. Consider using consecutive integers starting from zero.\n",
       "    All negative values in categorical features will be treated as missing values.\n",
       "    The output cannot be monotonically constrained with respect to a categorical feature.\n",
       "early_stopping_rounds : int or None, optional (default=None)\n",
       "    Activates early stopping. The model will train until the validation score stops improving.\n",
       "    Validation score needs to improve at least every ``early_stopping_rounds`` round(s)\n",
       "    to continue training.\n",
       "    Requires at least one validation data and one metric.\n",
       "    If there's more than one, will check all of them. But the training data is ignored anyway.\n",
       "    To check only the first metric, set the ``first_metric_only`` parameter to ``True`` in ``params``.\n",
       "    The index of iteration that has the best performance will be saved in the ``best_iteration`` field\n",
       "    if early stopping logic is enabled by setting ``early_stopping_rounds``.\n",
       "evals_result: dict or None, optional (default=None)\n",
       "    This dictionary used to store all evaluation results of all the items in ``valid_sets``.\n",
       "\n",
       "    .. rubric:: Example\n",
       "\n",
       "    With a ``valid_sets`` = [valid_set, train_set],\n",
       "    ``valid_names`` = ['eval', 'train']\n",
       "    and a ``params`` = {'metric': 'logloss'}\n",
       "    returns {'train': {'logloss': ['0.48253', '0.35953', ...]},\n",
       "    'eval': {'logloss': ['0.480385', '0.357756', ...]}}.\n",
       "\n",
       "verbose_eval : bool or int, optional (default=True)\n",
       "    Requires at least one validation data.\n",
       "    If True, the eval metric on the valid set is printed at each boosting stage.\n",
       "    If int, the eval metric on the valid set is printed at every ``verbose_eval`` boosting stage.\n",
       "    The last boosting stage or the boosting stage found by using ``early_stopping_rounds`` is also printed.\n",
       "\n",
       "    .. rubric:: Example\n",
       "\n",
       "    With ``verbose_eval`` = 4 and at least one item in ``valid_sets``,\n",
       "    an evaluation metric is printed every 4 (instead of 1) boosting stages.\n",
       "\n",
       "learning_rates : list, callable or None, optional (default=None)\n",
       "    List of learning rates for each boosting round\n",
       "    or a customized function that calculates ``learning_rate``\n",
       "    in terms of current number of round (e.g. yields learning rate decay).\n",
       "keep_training_booster : bool, optional (default=False)\n",
       "    Whether the returned Booster will be used to keep training.\n",
       "    If False, the returned value will be converted into _InnerPredictor before returning.\n",
       "    When your model is very large and cause the memory error, you can try to set this param to ``True`` to avoid the model conversion performed during the internal call of ``model_to_string``.\n",
       "    You can still use _InnerPredictor as ``init_model`` for future continue training.\n",
       "callbacks : list of callables or None, optional (default=None)\n",
       "    List of callback functions that are applied at each iteration.\n",
       "    See Callbacks in Python API for more information.\n",
       "\n",
       "Returns\n",
       "-------\n",
       "booster : Booster\n",
       "    The trained Booster model.\n",
       "\u001b[0;31mFile:\u001b[0m      ~/.miniconda/installation/envs/py38/lib/python3.8/site-packages/lightgbm/engine.py\n",
       "\u001b[0;31mType:\u001b[0m      function\n"
      ]
     },
     "metadata": {},
     "output_type": "display_data"
    }
   ],
   "source": [
    "lgb.sklearn.train?"
   ]
  },
  {
   "cell_type": "code",
   "execution_count": 52,
   "id": "passing-actress",
   "metadata": {},
   "outputs": [
    {
     "ename": "AttributeError",
     "evalue": "'Booster' object has no attribute 'train_set'",
     "output_type": "error",
     "traceback": [
      "\u001b[0;31m---------------------------------------------------------------------------\u001b[0m",
      "\u001b[0;31mAttributeError\u001b[0m                            Traceback (most recent call last)",
      "\u001b[0;32m<ipython-input-52-66a8d482cbb9>\u001b[0m in \u001b[0;36m<module>\u001b[0;34m\u001b[0m\n\u001b[0;32m----> 1\u001b[0;31m \u001b[0mlgb_balanced\u001b[0m\u001b[0;34m.\u001b[0m\u001b[0meval\u001b[0m\u001b[0;34m(\u001b[0m\u001b[0mtrain\u001b[0m\u001b[0;34m,\u001b[0m \u001b[0mname\u001b[0m\u001b[0;34m=\u001b[0m\u001b[0;34m'train'\u001b[0m\u001b[0;34m)\u001b[0m\u001b[0;34m\u001b[0m\u001b[0;34m\u001b[0m\u001b[0m\n\u001b[0m",
      "\u001b[0;32m~/.miniconda/installation/envs/py38/lib/python3.8/site-packages/lightgbm/basic.py\u001b[0m in \u001b[0;36meval\u001b[0;34m(self, data, name, feval)\u001b[0m\n\u001b[1;32m   2625\u001b[0m             \u001b[0;32mraise\u001b[0m \u001b[0mTypeError\u001b[0m\u001b[0;34m(\u001b[0m\u001b[0;34m\"Can only eval for Dataset instance\"\u001b[0m\u001b[0;34m)\u001b[0m\u001b[0;34m\u001b[0m\u001b[0;34m\u001b[0m\u001b[0m\n\u001b[1;32m   2626\u001b[0m         \u001b[0mdata_idx\u001b[0m \u001b[0;34m=\u001b[0m \u001b[0;34m-\u001b[0m\u001b[0;36m1\u001b[0m\u001b[0;34m\u001b[0m\u001b[0;34m\u001b[0m\u001b[0m\n\u001b[0;32m-> 2627\u001b[0;31m         \u001b[0;32mif\u001b[0m \u001b[0mdata\u001b[0m \u001b[0;32mis\u001b[0m \u001b[0mself\u001b[0m\u001b[0;34m.\u001b[0m\u001b[0mtrain_set\u001b[0m\u001b[0;34m:\u001b[0m\u001b[0;34m\u001b[0m\u001b[0;34m\u001b[0m\u001b[0m\n\u001b[0m\u001b[1;32m   2628\u001b[0m             \u001b[0mdata_idx\u001b[0m \u001b[0;34m=\u001b[0m \u001b[0;36m0\u001b[0m\u001b[0;34m\u001b[0m\u001b[0;34m\u001b[0m\u001b[0m\n\u001b[1;32m   2629\u001b[0m         \u001b[0;32melse\u001b[0m\u001b[0;34m:\u001b[0m\u001b[0;34m\u001b[0m\u001b[0;34m\u001b[0m\u001b[0m\n",
      "\u001b[0;31mAttributeError\u001b[0m: 'Booster' object has no attribute 'train_set'"
     ]
    }
   ],
   "source": [
    "lgb_balanced.eval(train, name='train')"
   ]
  },
  {
   "cell_type": "code",
   "execution_count": 44,
   "id": "mighty-poverty",
   "metadata": {},
   "outputs": [
    {
     "data": {
      "text/plain": [
       "0.7661501878587218"
      ]
     },
     "execution_count": 44,
     "metadata": {},
     "output_type": "execute_result"
    }
   ],
   "source": [
    "roc_auc_score(y_test, lgb_balanced.predict(X_test))"
   ]
  },
  {
   "cell_type": "code",
   "execution_count": null,
   "id": "growing-moment",
   "metadata": {},
   "outputs": [],
   "source": [
    "params_balanced = params_std.copy()\n",
    "params_balanced['class_weight']=\"balanced\"\n",
    "\n",
    "lgb_balanced = lgb.train(params=params_balanced,\n",
    "                train_set=train,\n",
    "                valid_sets=[train, test],\n",
    "                valid_names=['train','test'],\n",
    "#                 fobj=WeightedFocalLoss(alpha=alpha, gamma=gamma),\n",
    "#                 feval=WeightedFocalMetric(alpha=alpha, gamma=gamma),\n",
    "                early_stopping_rounds=10,\n",
    "                verbose_eval=15\n",
    "               )\n",
    "\n"
   ]
  }
 ],
 "metadata": {
  "kernelspec": {
   "display_name": "Python 3",
   "language": "python",
   "name": "python3"
  },
  "language_info": {
   "codemirror_mode": {
    "name": "ipython",
    "version": 3
   },
   "file_extension": ".py",
   "mimetype": "text/x-python",
   "name": "python",
   "nbconvert_exporter": "python",
   "pygments_lexer": "ipython3",
   "version": "3.6.13"
  }
 },
 "nbformat": 4,
 "nbformat_minor": 5
}
