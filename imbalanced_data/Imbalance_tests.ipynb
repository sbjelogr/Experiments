{
 "cells": [
  {
   "cell_type": "code",
   "execution_count": 1,
   "id": "comparative-enforcement",
   "metadata": {},
   "outputs": [],
   "source": [
    "import pandas as pd\n",
    "import matplotlib.pyplot as plt\n",
    "import numpy as np\n",
    "\n",
    "%matplotlib inline"
   ]
  },
  {
   "cell_type": "code",
   "execution_count": 2,
   "id": "living-death",
   "metadata": {},
   "outputs": [
    {
     "name": "stdout",
     "output_type": "stream",
     "text": [
      "UCI_Credit_Card.csv UCI_Credit_Card.zip\n"
     ]
    }
   ],
   "source": [
    "! ls ../data"
   ]
  },
  {
   "cell_type": "code",
   "execution_count": 43,
   "id": "brutal-morris",
   "metadata": {},
   "outputs": [],
   "source": [
    "# data = pd.read_csv(\"../data/UCI_Credit_Card.csv\")\n",
    "data = pd.read_csv(\"../data/creditcard.csv\")"
   ]
  },
  {
   "cell_type": "code",
   "execution_count": 44,
   "id": "changed-ranch",
   "metadata": {},
   "outputs": [
    {
     "data": {
      "text/html": [
       "<div>\n",
       "<style scoped>\n",
       "    .dataframe tbody tr th:only-of-type {\n",
       "        vertical-align: middle;\n",
       "    }\n",
       "\n",
       "    .dataframe tbody tr th {\n",
       "        vertical-align: top;\n",
       "    }\n",
       "\n",
       "    .dataframe thead th {\n",
       "        text-align: right;\n",
       "    }\n",
       "</style>\n",
       "<table border=\"1\" class=\"dataframe\">\n",
       "  <thead>\n",
       "    <tr style=\"text-align: right;\">\n",
       "      <th></th>\n",
       "      <th>Time</th>\n",
       "      <th>V1</th>\n",
       "      <th>V2</th>\n",
       "      <th>V3</th>\n",
       "      <th>V4</th>\n",
       "      <th>V5</th>\n",
       "      <th>V6</th>\n",
       "      <th>V7</th>\n",
       "      <th>V8</th>\n",
       "      <th>V9</th>\n",
       "      <th>...</th>\n",
       "      <th>V21</th>\n",
       "      <th>V22</th>\n",
       "      <th>V23</th>\n",
       "      <th>V24</th>\n",
       "      <th>V25</th>\n",
       "      <th>V26</th>\n",
       "      <th>V27</th>\n",
       "      <th>V28</th>\n",
       "      <th>Amount</th>\n",
       "      <th>Class</th>\n",
       "    </tr>\n",
       "  </thead>\n",
       "  <tbody>\n",
       "    <tr>\n",
       "      <th>0</th>\n",
       "      <td>0.0</td>\n",
       "      <td>-1.359807</td>\n",
       "      <td>-0.072781</td>\n",
       "      <td>2.536347</td>\n",
       "      <td>1.378155</td>\n",
       "      <td>-0.338321</td>\n",
       "      <td>0.462388</td>\n",
       "      <td>0.239599</td>\n",
       "      <td>0.098698</td>\n",
       "      <td>0.363787</td>\n",
       "      <td>...</td>\n",
       "      <td>-0.018307</td>\n",
       "      <td>0.277838</td>\n",
       "      <td>-0.110474</td>\n",
       "      <td>0.066928</td>\n",
       "      <td>0.128539</td>\n",
       "      <td>-0.189115</td>\n",
       "      <td>0.133558</td>\n",
       "      <td>-0.021053</td>\n",
       "      <td>149.62</td>\n",
       "      <td>0</td>\n",
       "    </tr>\n",
       "    <tr>\n",
       "      <th>1</th>\n",
       "      <td>0.0</td>\n",
       "      <td>1.191857</td>\n",
       "      <td>0.266151</td>\n",
       "      <td>0.166480</td>\n",
       "      <td>0.448154</td>\n",
       "      <td>0.060018</td>\n",
       "      <td>-0.082361</td>\n",
       "      <td>-0.078803</td>\n",
       "      <td>0.085102</td>\n",
       "      <td>-0.255425</td>\n",
       "      <td>...</td>\n",
       "      <td>-0.225775</td>\n",
       "      <td>-0.638672</td>\n",
       "      <td>0.101288</td>\n",
       "      <td>-0.339846</td>\n",
       "      <td>0.167170</td>\n",
       "      <td>0.125895</td>\n",
       "      <td>-0.008983</td>\n",
       "      <td>0.014724</td>\n",
       "      <td>2.69</td>\n",
       "      <td>0</td>\n",
       "    </tr>\n",
       "    <tr>\n",
       "      <th>2</th>\n",
       "      <td>1.0</td>\n",
       "      <td>-1.358354</td>\n",
       "      <td>-1.340163</td>\n",
       "      <td>1.773209</td>\n",
       "      <td>0.379780</td>\n",
       "      <td>-0.503198</td>\n",
       "      <td>1.800499</td>\n",
       "      <td>0.791461</td>\n",
       "      <td>0.247676</td>\n",
       "      <td>-1.514654</td>\n",
       "      <td>...</td>\n",
       "      <td>0.247998</td>\n",
       "      <td>0.771679</td>\n",
       "      <td>0.909412</td>\n",
       "      <td>-0.689281</td>\n",
       "      <td>-0.327642</td>\n",
       "      <td>-0.139097</td>\n",
       "      <td>-0.055353</td>\n",
       "      <td>-0.059752</td>\n",
       "      <td>378.66</td>\n",
       "      <td>0</td>\n",
       "    </tr>\n",
       "    <tr>\n",
       "      <th>3</th>\n",
       "      <td>1.0</td>\n",
       "      <td>-0.966272</td>\n",
       "      <td>-0.185226</td>\n",
       "      <td>1.792993</td>\n",
       "      <td>-0.863291</td>\n",
       "      <td>-0.010309</td>\n",
       "      <td>1.247203</td>\n",
       "      <td>0.237609</td>\n",
       "      <td>0.377436</td>\n",
       "      <td>-1.387024</td>\n",
       "      <td>...</td>\n",
       "      <td>-0.108300</td>\n",
       "      <td>0.005274</td>\n",
       "      <td>-0.190321</td>\n",
       "      <td>-1.175575</td>\n",
       "      <td>0.647376</td>\n",
       "      <td>-0.221929</td>\n",
       "      <td>0.062723</td>\n",
       "      <td>0.061458</td>\n",
       "      <td>123.50</td>\n",
       "      <td>0</td>\n",
       "    </tr>\n",
       "    <tr>\n",
       "      <th>4</th>\n",
       "      <td>2.0</td>\n",
       "      <td>-1.158233</td>\n",
       "      <td>0.877737</td>\n",
       "      <td>1.548718</td>\n",
       "      <td>0.403034</td>\n",
       "      <td>-0.407193</td>\n",
       "      <td>0.095921</td>\n",
       "      <td>0.592941</td>\n",
       "      <td>-0.270533</td>\n",
       "      <td>0.817739</td>\n",
       "      <td>...</td>\n",
       "      <td>-0.009431</td>\n",
       "      <td>0.798278</td>\n",
       "      <td>-0.137458</td>\n",
       "      <td>0.141267</td>\n",
       "      <td>-0.206010</td>\n",
       "      <td>0.502292</td>\n",
       "      <td>0.219422</td>\n",
       "      <td>0.215153</td>\n",
       "      <td>69.99</td>\n",
       "      <td>0</td>\n",
       "    </tr>\n",
       "  </tbody>\n",
       "</table>\n",
       "<p>5 rows × 31 columns</p>\n",
       "</div>"
      ],
      "text/plain": [
       "   Time        V1        V2        V3        V4        V5        V6        V7  \\\n",
       "0   0.0 -1.359807 -0.072781  2.536347  1.378155 -0.338321  0.462388  0.239599   \n",
       "1   0.0  1.191857  0.266151  0.166480  0.448154  0.060018 -0.082361 -0.078803   \n",
       "2   1.0 -1.358354 -1.340163  1.773209  0.379780 -0.503198  1.800499  0.791461   \n",
       "3   1.0 -0.966272 -0.185226  1.792993 -0.863291 -0.010309  1.247203  0.237609   \n",
       "4   2.0 -1.158233  0.877737  1.548718  0.403034 -0.407193  0.095921  0.592941   \n",
       "\n",
       "         V8        V9  ...       V21       V22       V23       V24       V25  \\\n",
       "0  0.098698  0.363787  ... -0.018307  0.277838 -0.110474  0.066928  0.128539   \n",
       "1  0.085102 -0.255425  ... -0.225775 -0.638672  0.101288 -0.339846  0.167170   \n",
       "2  0.247676 -1.514654  ...  0.247998  0.771679  0.909412 -0.689281 -0.327642   \n",
       "3  0.377436 -1.387024  ... -0.108300  0.005274 -0.190321 -1.175575  0.647376   \n",
       "4 -0.270533  0.817739  ... -0.009431  0.798278 -0.137458  0.141267 -0.206010   \n",
       "\n",
       "        V26       V27       V28  Amount  Class  \n",
       "0 -0.189115  0.133558 -0.021053  149.62      0  \n",
       "1  0.125895 -0.008983  0.014724    2.69      0  \n",
       "2 -0.139097 -0.055353 -0.059752  378.66      0  \n",
       "3 -0.221929  0.062723  0.061458  123.50      0  \n",
       "4  0.502292  0.219422  0.215153   69.99      0  \n",
       "\n",
       "[5 rows x 31 columns]"
      ]
     },
     "execution_count": 44,
     "metadata": {},
     "output_type": "execute_result"
    }
   ],
   "source": [
    "data.head()"
   ]
  },
  {
   "cell_type": "code",
   "execution_count": 46,
   "id": "ahead-recovery",
   "metadata": {},
   "outputs": [
    {
     "data": {
      "text/plain": [
       "0    0.998273\n",
       "1    0.001727\n",
       "Name: Class, dtype: float64"
      ]
     },
     "execution_count": 46,
     "metadata": {},
     "output_type": "execute_result"
    }
   ],
   "source": [
    "data['Class'].value_counts(normalize=True)"
   ]
  },
  {
   "cell_type": "code",
   "execution_count": 5,
   "id": "incorporated-scholar",
   "metadata": {},
   "outputs": [],
   "source": [
    "from sklearn.model_selection import train_test_split"
   ]
  },
  {
   "cell_type": "code",
   "execution_count": 6,
   "id": "fifteen-summit",
   "metadata": {},
   "outputs": [],
   "source": [
    "X_train, X_test, y_train, y_test = train_test_split(\n",
    "    data.drop(['default.payment.next.month','ID'],axis=1),\n",
    "    data['default.payment.next.month'] ,\n",
    "    test_size=0.33, \n",
    "    random_state=42\n",
    ")"
   ]
  },
  {
   "cell_type": "code",
   "execution_count": 17,
   "id": "clean-singer",
   "metadata": {},
   "outputs": [],
   "source": [
    "from bokbokbok.loss_functions.classification import WeightedCrossEntropyLoss\n",
    "from bokbokbok.eval_metrics.classification import WeightedCrossEntropyMetric\n",
    "\n",
    "from sklearn.metrics import roc_auc_score, f1_score, precision_recall_curve, auc, roc_curve\n"
   ]
  },
  {
   "cell_type": "code",
   "execution_count": 42,
   "id": "verified-general",
   "metadata": {},
   "outputs": [
    {
     "name": "stdout",
     "output_type": "stream",
     "text": [
      "[LightGBM] [Warning] Auto-choosing row-wise multi-threading, the overhead of testing was 0.001083 seconds.\n",
      "You can set `force_row_wise=true` to remove the overhead.\n",
      "And if memory is not enough, you can set `force_col_wise=true`.\n",
      "Training until validation scores don't improve for 10 rounds\n",
      "[15]\ttrain's binary_logloss: 0.434612\ttest's binary_logloss: 0.435991\n",
      "[30]\ttrain's binary_logloss: 0.422605\ttest's binary_logloss: 0.428331\n",
      "[45]\ttrain's binary_logloss: 0.416895\ttest's binary_logloss: 0.426518\n",
      "[60]\ttrain's binary_logloss: 0.412939\ttest's binary_logloss: 0.426046\n",
      "[75]\ttrain's binary_logloss: 0.409236\ttest's binary_logloss: 0.42573\n",
      "Early stopping, best iteration is:\n",
      "[65]\ttrain's binary_logloss: 0.411566\ttest's binary_logloss: 0.42562\n"
     ]
    }
   ],
   "source": [
    "import lightgbm as lgb\n",
    "\n",
    "\n",
    "train = lgb.Dataset(X_train, y_train)\n",
    "test = lgb.Dataset(X_test, y_test, reference=train)\n",
    "params = {\n",
    "    'num_leaves': 10,\n",
    "    'n_estimators':100, \n",
    "#     'class_weight' : \"balanced\",\n",
    "     'n_jobs': 2,\n",
    "     'learning_rate': 0.1,\n",
    "    'metric' : [\n",
    "       # 'auc', \n",
    "        'binary_logloss'\n",
    "    ],\n",
    "    \"verbose\":0\n",
    "   }\n",
    "\n",
    "clf = lgb.train(params=params,\n",
    "                train_set=train,\n",
    "                valid_sets=[train, test],\n",
    "                valid_names=['train','test'],\n",
    "#                 fobj=WeightedFocalLoss(alpha=alpha, gamma=gamma),\n",
    "#                 feval=WeightedFocalMetric(alpha=alpha, gamma=gamma),\n",
    "                early_stopping_rounds=10,\n",
    "                verbose_eval=15\n",
    "               )\n",
    "\n",
    "# roc_auc_score(y_test, clip_sigmoid(clf.predict(X_valid)))"
   ]
  },
  {
   "cell_type": "code",
   "execution_count": null,
   "id": "floppy-obligation",
   "metadata": {},
   "outputs": [],
   "source": [
    "params = {\n",
    "    'num_leaves': 10,\n",
    "    'n_estimators':100, \n",
    "   'class_weight' : \"balanced\",\n",
    "     'n_jobs': 2,\n",
    "     'learning_rate': 0.1,\n",
    "    'metric' : [\n",
    "       # 'auc', \n",
    "        'binary_logloss'\n",
    "    ],\n",
    "    \"verbose\":0\n",
    "   }\n",
    "\n",
    "clf = lgb.train(params=params,\n",
    "                train_set=train,\n",
    "                valid_sets=[train, test],\n",
    "                valid_names=['train','test'],\n",
    "#                 fobj=WeightedFocalLoss(alpha=alpha, gamma=gamma),\n",
    "#                 feval=WeightedFocalMetric(alpha=alpha, gamma=gamma),\n",
    "                early_stopping_rounds=10,\n",
    "                verbose_eval=15\n",
    "               )\n",
    "\n"
   ]
  },
  {
   "cell_type": "code",
   "execution_count": null,
   "id": "enhanced-vacuum",
   "metadata": {},
   "outputs": [],
   "source": []
  },
  {
   "cell_type": "code",
   "execution_count": 31,
   "id": "heavy-baltimore",
   "metadata": {},
   "outputs": [
    {
     "data": {
      "text/plain": [
       "0.781653290825604"
      ]
     },
     "execution_count": 31,
     "metadata": {},
     "output_type": "execute_result"
    }
   ],
   "source": [
    "# clf.predict(X_test)\n",
    "roc_auc_score(y_test, clf.predict(X_test))\n",
    "# roc_auc_score(y_train, clf.predict(X_train))"
   ]
  },
  {
   "cell_type": "code",
   "execution_count": 26,
   "id": "labeled-montana",
   "metadata": {},
   "outputs": [
    {
     "data": {
      "text/plain": [
       "0    0.777214\n",
       "1    0.222786\n",
       "Name: default.payment.next.month, dtype: float64"
      ]
     },
     "execution_count": 26,
     "metadata": {},
     "output_type": "execute_result"
    }
   ],
   "source": [
    "y_train.value_counts(normalize=True)"
   ]
  },
  {
   "cell_type": "code",
   "execution_count": null,
   "id": "noted-preview",
   "metadata": {},
   "outputs": [],
   "source": [
    "import lightgbm as lgb"
   ]
  },
  {
   "cell_type": "code",
   "execution_count": null,
   "id": "innocent-hurricane",
   "metadata": {},
   "outputs": [],
   "source": [
    "\n",
    "# precision, recall, thresholds = precision_recall_curve(y_test, clf.predict_proba(X_test)[:,1])\n",
    "# area = auc(recall, precision)\n",
    "\n",
    "def fit_model(model, *, X_train, y_train, X_test, y_test):\n",
    "\n",
    "    eval_set = [(X_train, y_train), (X_test, y_test)]\n",
    "    model.fit(\n",
    "        X_train, \n",
    "        y_train, \n",
    "        eval_metric=[\"logloss\"], \n",
    "        eval_set=eval_set, \n",
    "        verbose=0,\n",
    "    early_stopping_rounds=10)\n",
    "    \n",
    "    \n",
    "    return model\n",
    "\n",
    "\n",
    "def _eval(model, X, y, thr = 0.5):\n",
    "    \n",
    "    proba_0 = model.predict_proba(X)[:,0]\n",
    "    proba_1 = model.predict_proba(X)[:,1]\n",
    "    \n",
    "    auc = round(roc_auc_score(y, proba_1),4)\n",
    "    \n",
    "    out = {\n",
    "        \"auc\": auc\n",
    "    }\n",
    "    \n",
    "    return out\n",
    "    \n",
    "\n",
    "def eval_model(model, *, X_train=None, y_train=None, X_test=None, y_test=None,thr = 0.5):\n",
    "    \n",
    "    if X_train is not None:\n",
    "        train_res = _eval( model, X_train, y_train, thr=thr)\n",
    "        print(\"\\nTrain\")\n",
    "        print(train_res)\n",
    "    \n",
    "    if X_test is not None:\n",
    "        test_res = _eval( model, X_test, y_test, thr=thr)\n",
    "        print(\"\\nTest\")\n",
    "        print(test_res)\n",
    "    \n",
    "\n",
    "    \n",
    "\n",
    "def plot_logloss(model, ax = None, **plot_kwargs):\n",
    "    \n",
    "    results = model.evals_result_\n",
    "\n",
    "    epochs = len(results['training']['binary_logloss'])\n",
    "    x_axis = range(0, epochs)\n",
    "    # plot log loss\n",
    "    if ax is None:\n",
    "        fig, ax = plt.subplots(figsize=(8,5))\n",
    "    ax.plot(x_axis, results['training']['binary_logloss'], label='Train', **plot_kwargs)\n",
    "    ax.plot(x_axis, results['valid_1']['binary_logloss'], label='Test', **plot_kwargs)\n",
    "    ax.legend()\n",
    "    # make predictions for test data\n",
    "    \n",
    "    \n"
   ]
  },
  {
   "cell_type": "markdown",
   "id": "right-appearance",
   "metadata": {},
   "source": [
    "### Default model"
   ]
  },
  {
   "cell_type": "code",
   "execution_count": null,
   "id": "empty-strength",
   "metadata": {},
   "outputs": [],
   "source": [
    "def_model = lgb.LGBMClassifier(num_leaves = 10, n_estimators=100)\n",
    "\n",
    "def_model = fit_model(def_model, X_train = X_train, y_train = y_train, X_test = X_test, y_test = y_test)\n",
    "# plot_logloss(def_model)\n",
    "eval_model(def_model, X_train = X_train, y_train = y_train, X_test = X_test, y_test = y_test)"
   ]
  },
  {
   "cell_type": "code",
   "execution_count": null,
   "id": "rational-lighting",
   "metadata": {},
   "outputs": [],
   "source": [
    "rescaled_model = lgb.LGBMClassifier(num_leaves = 10, n_estimators=100, class_weight = \"balanced\")\n",
    "# rescaled_model = lgb.LGBMClassifier(num_leaves = 4, n_estimators=20)\n",
    "\n",
    "rescaled_model = fit_model(rescaled_model, X_train = X_train, y_train = y_train, X_test = X_test, y_test = y_test)\n",
    "# plot_logloss(rescaled_model)\n",
    "eval_model(rescaled_model, X_train = X_train, y_train = y_train, X_test = X_test, y_test = y_test)"
   ]
  },
  {
   "cell_type": "markdown",
   "id": "persistent-candle",
   "metadata": {},
   "source": [
    "# Check ordering"
   ]
  },
  {
   "cell_type": "code",
   "execution_count": null,
   "id": "wired-gospel",
   "metadata": {},
   "outputs": [],
   "source": [
    "proba_def=np.round(def_model.predict_proba(X_test)[:,1],3)\n",
    "proba_rescaled=np.round(rescaled_model.predict_proba(X_test, )[:,1],3)\n",
    "\n",
    "proba_def_raw=def_model.predict_proba(X_test, raw_score=True)\n",
    "proba_rescaled_raw=rescaled_model.predict_proba(X_test, raw_score=True)\n",
    "\n",
    "df_scores = pd.DataFrame(\n",
    "    {\n",
    "      'proba_default':proba_def,\n",
    "      'proba_rescaled':proba_rescaled,\n",
    "      'log_odds_default':proba_def_raw,\n",
    "      'log_odds_rescaled':proba_rescaled_raw,\n",
    "      'y':y_test\n",
    "        \n",
    "    }\n",
    ")"
   ]
  },
  {
   "cell_type": "code",
   "execution_count": null,
   "id": "revised-insurance",
   "metadata": {},
   "outputs": [],
   "source": [
    "# pd.qcut?"
   ]
  },
  {
   "cell_type": "code",
   "execution_count": null,
   "id": "rapid-idaho",
   "metadata": {},
   "outputs": [],
   "source": [
    "def agg_buckets(df, col, q):\n",
    "    df_stats = (\n",
    "        df.sort_values(by=col)\n",
    "        .groupby(pd.qcut(df[col], q=q, duplicates='drop'), as_index = False)\n",
    "        .agg(\n",
    "            tot_def = pd.NamedAgg(\"y\",\"sum\"),\n",
    "            tot_entries = pd.NamedAgg(\"y\",\"count\"),\n",
    "            def_rate = pd.NamedAgg(\"y\",\"mean\"),\n",
    "            mean_proba = pd.NamedAgg(\"proba_default\",\"mean\"),\n",
    "            mean_proba_resc = pd.NamedAgg(\"proba_rescaled\",\"mean\")\n",
    "        )\n",
    "    )\n",
    "    df_stats['tot_goods'] = df_stats['tot_entries'] - df_stats['tot_def']\n",
    "    \n",
    "    df_stats['pc_goods'] = df_stats['tot_goods']/df_stats['tot_goods'].sum()\n",
    "    df_stats['pc_def'] = df_stats['tot_def']/df_stats['tot_def'].sum()\n",
    "    \n",
    "    df_stats['woe'] = np.log(df_stats['pc_goods']/df_stats['pc_def'])\n",
    "    df_stats['iv'] = (df_stats['pc_goods']-df_stats['pc_def'])* df_stats['woe']\n",
    "    \n",
    "    columns = [\n",
    "        'tot_entries','tot_goods','tot_def',\n",
    "        'def_rate','mean_proba','mean_proba_resc',\n",
    "        'woe','iv'\n",
    "    ]\n",
    "#     return df_stats\n",
    "    return df_stats[columns]\n",
    "\n",
    "def_stats = agg_buckets(df_scores, col = 'log_odds_default',q=8)\n",
    "\n",
    "resc_stats = agg_buckets(df_scores, col = 'log_odds_rescaled',q=8)"
   ]
  },
  {
   "cell_type": "code",
   "execution_count": null,
   "id": "surgical-piece",
   "metadata": {},
   "outputs": [],
   "source": [
    "display(def_stats)\n",
    "display(resc_stats)"
   ]
  },
  {
   "cell_type": "code",
   "execution_count": null,
   "id": "unnecessary-individual",
   "metadata": {},
   "outputs": [],
   "source": [
    "def_stats['iv'].sum(), resc_stats['iv'].sum()"
   ]
  },
  {
   "cell_type": "code",
   "execution_count": null,
   "id": "peripheral-diploma",
   "metadata": {},
   "outputs": [],
   "source": [
    "fig, ax = plt.subplots()\n",
    "ax.plot(def_stats['woe'], resc_stats['woe'])\n",
    "ax.plot([def_stats['woe'].min(), def_stats['woe'].max()], [resc_stats['woe'].min(), resc_stats['woe'].max()], linestyle='--', lw=2, color='r',\n",
    "        label='Chance', alpha=.8)\n",
    "ax.grid()"
   ]
  },
  {
   "cell_type": "code",
   "execution_count": null,
   "id": "adjacent-meeting",
   "metadata": {},
   "outputs": [],
   "source": [
    "fig, ax = plt.subplots()\n",
    "ax.plot(proba_def_raw)\n",
    "ax.plot(proba_def_raw)"
   ]
  },
  {
   "cell_type": "code",
   "execution_count": null,
   "id": "tight-frank",
   "metadata": {},
   "outputs": [],
   "source": [
    "fig, ax = plt.subplots()\n",
    "ax.plot(np.gradient(proba_def_raw))\n",
    "ax.plot(np.gradient(proba_rescaled_raw), alpha=0.6)"
   ]
  },
  {
   "cell_type": "code",
   "execution_count": null,
   "id": "nutritional-postcard",
   "metadata": {},
   "outputs": [],
   "source": [
    "fig, ax = plt.subplots()\n",
    "ax.plot(ratio_probas.clip(-10,10))"
   ]
  },
  {
   "cell_type": "code",
   "execution_count": null,
   "id": "enhanced-airline",
   "metadata": {},
   "outputs": [],
   "source": [
    "fig, ax = plt.subplots()\n",
    "plot_logloss(def_model, ax = ax, linestyle = \"--\")\n",
    "plot_logloss(rescaled_model, ax = ax)"
   ]
  },
  {
   "cell_type": "code",
   "execution_count": null,
   "id": "pleasant-tourism",
   "metadata": {},
   "outputs": [],
   "source": [
    "# fig, ax = plt.subplots(2,1,figsize=(12,10))\n",
    "# lgb.plot_tree(def_model, ax = ax[0])\n",
    "# lgb.plot_tree(rescaled_model, ax = ax[1])"
   ]
  },
  {
   "cell_type": "markdown",
   "id": "amateur-luxury",
   "metadata": {},
   "source": [
    "### Plot roc curve"
   ]
  },
  {
   "cell_type": "code",
   "execution_count": null,
   "id": "fallen-video",
   "metadata": {},
   "outputs": [],
   "source": [
    "roc_def = roc_curve(y_test,def_model.predict_proba(X_test)[:,1])\n",
    "roc_rescaled = roc_curve(y_test,rescaled_model.predict_proba(X_test)[:,1])\n",
    "\n",
    "pr_def_1 = precision_recall_curve(y_test,def_model.predict_proba(X_test)[:,1])\n",
    "pr_def_0 = precision_recall_curve(y_test,def_model.predict_proba(X_test)[:,0],pos_label=0)\n",
    "\n",
    "pr_rescaled_1 = precision_recall_curve(y_test,rescaled_model.predict_proba(X_test)[:,1])\n",
    "pr_rescaled_0 = precision_recall_curve(y_test,rescaled_model.predict_proba(X_test)[:,0],pos_label=0)"
   ]
  },
  {
   "cell_type": "code",
   "execution_count": null,
   "id": "revolutionary-heater",
   "metadata": {},
   "outputs": [],
   "source": [
    "\n",
    "\n",
    "fig, ax = plt.subplots(1,2,figsize=(16,8))\n",
    "ax[0].plot(pr_def_1[1], pr_def_1[0], color='blue',\n",
    "        label=\"Standard model\",\n",
    "        lw=2, alpha=.8)\n",
    "ax[0].plot(pr_rescaled_1[1], pr_rescaled_1[0], color='red',\n",
    "        label=\"Rescaled model\",\n",
    "        lw=2, alpha=.8)\n",
    "ax[0].set_ylabel(\"Precision\")\n",
    "ax[0].set_xlabel(\"Recall\")\n",
    "\n",
    "ax[0].set_title(\"Class 1\")\n",
    "ax[0].set_ylim(0,1)\n",
    "ax[0].set_xlim(0,1)\n",
    "ax[0].grid()\n",
    "ax[0].legend(loc = 'lower left')\n",
    "\n",
    "ax[1].plot(pr_def_0[1], pr_def_0[0], color='blue',\n",
    "        label=\"Standard model\",\n",
    "        lw=2, alpha=.8)\n",
    "ax[1].plot(pr_rescaled_0[1], pr_rescaled_0[0], color='red',\n",
    "        label=\"Rescaled model\",\n",
    "        lw=2, alpha=.8)\n",
    "ax[1].set_ylabel(\"Precision\")\n",
    "ax[1].set_xlabel(\"Recall\")\n",
    "\n",
    "ax[1].set_title(\"Class 0\")\n",
    "\n",
    "ax[1].set_ylim(0,1)\n",
    "ax[1].set_xlim(0,1)\n",
    "ax[1].grid()\n",
    "ax[1].legend(loc = 'lower left')\n",
    "\n",
    "\n",
    "# ax.plot(roc_rescaled[0], roc_rescaled[1], color='Green',\n",
    "#         label=\" Rescaled Standard_model\",\n",
    "#         lw=2, alpha=.8)"
   ]
  },
  {
   "cell_type": "code",
   "execution_count": null,
   "id": "boolean-hindu",
   "metadata": {},
   "outputs": [],
   "source": [
    "pr_rescaled_0"
   ]
  },
  {
   "cell_type": "code",
   "execution_count": null,
   "id": "passive-cyprus",
   "metadata": {},
   "outputs": [],
   "source": [
    "ax[0].legend"
   ]
  },
  {
   "cell_type": "code",
   "execution_count": null,
   "id": "circular-specification",
   "metadata": {},
   "outputs": [],
   "source": [
    "precision_recall_curve."
   ]
  },
  {
   "cell_type": "code",
   "execution_count": null,
   "id": "trying-boring",
   "metadata": {},
   "outputs": [],
   "source": [
    "roc_def[2].mean()"
   ]
  },
  {
   "cell_type": "code",
   "execution_count": null,
   "id": "affiliated-isaac",
   "metadata": {},
   "outputs": [],
   "source": [
    "roc_rescaled[2].mean()"
   ]
  },
  {
   "cell_type": "code",
   "execution_count": null,
   "id": "enhanced-tulsa",
   "metadata": {},
   "outputs": [],
   "source": [
    "pd.qcut(roc_def[2], q=10)"
   ]
  },
  {
   "cell_type": "code",
   "execution_count": null,
   "id": "grand-dynamics",
   "metadata": {},
   "outputs": [],
   "source": [
    "fig, ax = plt.subplots(figsize=(10,8))\n",
    "ax.plot(roc_def[0], roc_def[1], color='blue',\n",
    "        label=\"Standard model\",\n",
    "        lw=2, alpha=.8)\n",
    "\n",
    "\n",
    "ax.plot(roc_rescaled[0], roc_rescaled[1], color='Green',\n",
    "        label=\" Rescaled Standard_model\",\n",
    "        lw=2, alpha=.8)\n",
    "\n",
    "ax2 = ax.twinx()\n",
    "ax2.plot(roc_def[0], roc_def[2], color='lightblue',\n",
    "        label=\"Standard model model thresholds\",\n",
    "        lw=2, alpha=.8)\n",
    "ax2.plot(roc_rescaled[0], roc_rescaled[2], color='lightgreen',\n",
    "        label=\"Rescaled model model thresholds\",\n",
    "        lw=2, alpha=.8)\n",
    "\n",
    "ax.plot([0, 1], [0, 1], linestyle='--', lw=2, color='r',\n",
    "        label='Chance', alpha=.8)\n",
    "\n",
    "ax.legend()"
   ]
  },
  {
   "cell_type": "code",
   "execution_count": null,
   "id": "recreational-currency",
   "metadata": {},
   "outputs": [],
   "source": [
    "def_model.predict_proba(X_test)"
   ]
  },
  {
   "cell_type": "code",
   "execution_count": null,
   "id": "pleasant-operations",
   "metadata": {},
   "outputs": [],
   "source": [
    "X_test.shape"
   ]
  },
  {
   "cell_type": "code",
   "execution_count": null,
   "id": "available-capability",
   "metadata": {},
   "outputs": [],
   "source": [
    "results['training'].keys()"
   ]
  },
  {
   "cell_type": "code",
   "execution_count": null,
   "id": "nearby-frank",
   "metadata": {},
   "outputs": [],
   "source": []
  },
  {
   "cell_type": "code",
   "execution_count": null,
   "id": "continent-palestinian",
   "metadata": {},
   "outputs": [],
   "source": [
    "results = model.evals_result_\n",
    "\n",
    "\n",
    "epochs = len(results['training']['binary_logloss'])\n",
    "x_axis = range(0, epochs)\n",
    "# plot log loss\n",
    "fig, ax = plt.subplots(figsize=(10,8))\n",
    "ax.plot(x_axis, results['training']['binary_logloss'], label='Train')\n",
    "ax.plot(x_axis, results['valid_1']['binary_logloss'], label='Test')\n",
    "ax.legend()"
   ]
  },
  {
   "cell_type": "code",
   "execution_count": null,
   "id": "consecutive-syntax",
   "metadata": {},
   "outputs": [],
   "source": []
  },
  {
   "cell_type": "code",
   "execution_count": null,
   "id": "ceramic-piece",
   "metadata": {},
   "outputs": [],
   "source": [
    "np.unique(model.apply(X_train)[:,-1])"
   ]
  },
  {
   "cell_type": "code",
   "execution_count": null,
   "id": "rural-monster",
   "metadata": {},
   "outputs": [],
   "source": []
  },
  {
   "cell_type": "code",
   "execution_count": null,
   "id": "defensive-asthma",
   "metadata": {},
   "outputs": [],
   "source": [
    "\n",
    "y_pred = model.predict(X_test)\n",
    "predictions = [round(value) for value in y_pred]\n",
    "# evaluate predictions\n",
    "accuracy = accuracy_score(y_test, predictions)\n",
    "print(\"Accuracy: %.2f%%\" % (accuracy * 100.0))\n",
    "# retrieve performance metrics\n",
    "results = model.evals_result()\n",
    "epochs = len(results['validation_0']['error'])\n",
    "x_axis = range(0, epochs)\n",
    "# plot log loss\n",
    "fig, ax = pyplot.subplots()\n",
    "ax.plot(x_axis, results['validation_0']['logloss'], label='Train')\n",
    "ax.plot(x_axis, results['validation_1']['logloss'], label='Test')\n",
    "ax.legend()\n",
    "pyplot.ylabel('Log Loss')\n",
    "pyplot.title('XGBoost Log Loss')\n",
    "pyplot.show()\n",
    "# plot classification error\n",
    "fig, ax = pyplot.subplots()\n",
    "ax.plot(x_axis, results['validation_0']['error'], label='Train')\n",
    "ax.plot(x_axis, results['validation_1']['error'], label='Test')\n",
    "ax.legend()\n",
    "pyplot.ylabel('Classification Error')\n",
    "pyplot.title('XGBoost Classification Error')\n",
    "pyplot.show()"
   ]
  }
 ],
 "metadata": {
  "kernelspec": {
   "display_name": "Python 3",
   "language": "python",
   "name": "python3"
  },
  "language_info": {
   "codemirror_mode": {
    "name": "ipython",
    "version": 3
   },
   "file_extension": ".py",
   "mimetype": "text/x-python",
   "name": "python",
   "nbconvert_exporter": "python",
   "pygments_lexer": "ipython3",
   "version": "3.8.5"
  }
 },
 "nbformat": 4,
 "nbformat_minor": 5
}
